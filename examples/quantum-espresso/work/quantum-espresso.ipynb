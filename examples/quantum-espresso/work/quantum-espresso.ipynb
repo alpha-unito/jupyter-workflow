{
 "cells": [
  {
   "cell_type": "markdown",
   "metadata": {},
   "source": [
    "# Interactive Quantum Espresso simulation"
   ]
  },
  {
   "cell_type": "code",
   "execution_count": 1,
   "metadata": {},
   "outputs": [],
   "source": [
    "input_dir = 'INPDIR'"
   ]
  },
  {
   "cell_type": "code",
   "execution_count": 2,
   "metadata": {},
   "outputs": [],
   "source": [
    "import time\n",
    "stime = time.time()"
   ]
  },
  {
   "cell_type": "code",
   "execution_count": 3,
   "metadata": {
    "scrolled": false,
    "workflow": {
     "step": {
      "in": [
       {
        "name": "input_dir",
        "type": "file",
        "valueFrom": "input_dir"
       }
      ],
      "out": [
       {
        "name": "output_dir",
        "type": "file",
        "value": "OUTDIR"
       }
      ],
      "workdir": "/path/to/shared/workdir"
     },
     "target": {
      "model": "qe-docker"
     }
    }
   },
   "outputs": [],
   "source": [
    "%%bash -s \"$input_dir\" \n",
    "cp -r $1 .\n",
    "mkdir OUTDIR\n",
    "mpirun -np 16 -f $PBS_NODEFILE sh -c \"./INPDIR/cp-oneapi.x < ./INPDIR/h2o.in.00 > ./OUTDIR/h2o.out.00\""
   ]
  },
  {
   "cell_type": "code",
   "execution_count": 4,
   "metadata": {},
   "outputs": [
    {
     "name": "stdout",
     "output_type": "stream",
     "text": [
      "45.341166734695435\n"
     ]
    }
   ],
   "source": [
    "print(time.time() - stime)\n",
    "stime = time.time()"
   ]
  },
  {
   "cell_type": "code",
   "execution_count": 5,
   "metadata": {
    "scrolled": true,
    "workflow": {
     "step": {
      "in": [
       {
        "name": "input_dir",
        "type": "file",
        "valueFrom": "input_dir"
       },
       {
        "name": "output_dir",
        "type": "file",
        "valueFrom": "output_dir"
       }
      ],
      "out": [
       {
        "name": "output_dir",
        "type": "file",
        "value": "OUTDIR"
       }
      ],
      "workdir": "/path/to/shared/workdir"
     },
     "target": {
      "model": "qe-docker"
     }
    }
   },
   "outputs": [],
   "source": [
    "%%bash -s \"$input_dir\" \"$output_dir\"\n",
    "cp -r $1 $2 .\n",
    "mpirun -np 16 -f $PBS_NODEFILE sh -c \"./INPDIR/cp-oneapi.x < ./INPDIR/h2o.in.01 > ./OUTDIR/h2o.out.01\""
   ]
  },
  {
   "cell_type": "code",
   "execution_count": 6,
   "metadata": {},
   "outputs": [
    {
     "name": "stdout",
     "output_type": "stream",
     "text": [
      "16.089718103408813\n"
     ]
    }
   ],
   "source": [
    "print(time.time() - stime)\n",
    "stime = time.time()"
   ]
  },
  {
   "cell_type": "code",
   "execution_count": 7,
   "metadata": {
    "workflow": {
     "step": {
      "in": [
       {
        "name": "input_dir",
        "type": "file",
        "valueFrom": "input_dir"
       },
       {
        "name": "output_dir",
        "type": "file",
        "valueFrom": "output_dir"
       }
      ],
      "out": [
       {
        "name": "output_dir",
        "type": "file",
        "value": "OUTDIR"
       }
      ],
      "workdir": "/path/to/shared/workdir"
     },
     "target": {
      "model": "qe-docker"
     }
    }
   },
   "outputs": [],
   "source": [
    "%%bash -s \"$input_dir\" \"$output_dir\"\n",
    "cp -r $1 $2 .\n",
    "mpirun -np 16 -f $PBS_NODEFILE sh -c \"./INPDIR/cp-oneapi.x < ./INPDIR/h2o.in.02 > ./OUTDIR/h2o.out.0\""
   ]
  },
  {
   "cell_type": "code",
   "execution_count": 8,
   "metadata": {},
   "outputs": [
    {
     "name": "stdout",
     "output_type": "stream",
     "text": [
      "174.44248843193054\n"
     ]
    }
   ],
   "source": [
    "print(time.time() - stime)\n",
    "stime = time.time()"
   ]
  },
  {
   "cell_type": "code",
   "execution_count": 9,
   "metadata": {},
   "outputs": [],
   "source": [
    "input_list = ['b0', 'b1', 'b2']"
   ]
  },
  {
   "cell_type": "code",
   "execution_count": 11,
   "metadata": {
    "workflow": {
     "step": {
      "in": [
       {
        "name": "input_list",
        "scatter": {},
        "type": "name",
        "valueFrom": "input_list"
       },
       {
        "name": "input_dir",
        "type": "file",
        "valueFrom": "input_dir"
       },
       {
        "name": "output_dir",
        "type": "file",
        "valueFrom": "output_dir"
       }
      ],
      "workdir": "/path/to/shared/workdir"
     },
     "target": {
      "model": "qe-docker"
     }
    }
   },
   "outputs": [],
   "source": [
    "%%bash -s \"$input_list\" \"$input_dir\" \"$output_dir\"\n",
    "INPUTS=($(echo $1 | tr -d '[],'))\n",
    "cp -r $2 $3 .\n",
    "for INPUTVAR in ${INPUTS[*]}; do\n",
    "  INPUT=$(echo $INPUTVAR | tr -d \\')\n",
    "  mkdir OUTDIR.$INPUT\n",
    "  cp -r -P OUTDIR/*  OUTDIR.$INPUT\n",
    "  mpirun -np 16 -f $PBS_NODEFILE sh -c \"./INPDIR/cp-oneapi.x < ./INPDIR/h2o.in.03.${INPUT} > ./OUTDIR.$INPUT/h2o.out.03.${INPUT}\"\n",
    "done"
   ]
  },
  {
   "cell_type": "code",
   "execution_count": 12,
   "metadata": {},
   "outputs": [
    {
     "name": "stdout",
     "output_type": "stream",
     "text": [
      "188.18521285057068\n"
     ]
    }
   ],
   "source": [
    "print(time.time() - stime)\n",
    "stime = time.time()"
   ]
  }
 ],
 "metadata": {
  "celltoolbar": "Edit Metadata",
  "kernelspec": {
   "display_name": "Jupyter Workflow",
   "language": "python",
   "name": "jupyter-workflow"
  },
  "language_info": {
   "codemirror_mode": {
    "name": "ipython",
    "version": 3
   },
   "file_extension": ".py",
   "mimetype": "text/x-python",
   "name": "python",
   "nbconvert_exporter": "python",
   "pygments_lexer": "ipython3",
   "version": "3.8.8"
  },
  "workflow": {
   "interpreter": "/path/to/ipython/interpreter",
   "models": {
    "qe-docker": {
     "config": {
      "file": "environment/pbs_espresso",
      "hostname": "10.122.0.6",
      "maxConcurrentJobs": 3,
      "sshKey": "/path/to/ssh/key",
      "username": "ssh-username"
     },
     "type": "pbs"
    }
   },
   "version": "v1.0"
  }
 },
 "nbformat": 4,
 "nbformat_minor": 1
}
