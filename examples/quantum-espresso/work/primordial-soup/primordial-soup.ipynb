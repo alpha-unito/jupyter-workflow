{
 "cells": [
  {
   "cell_type": "markdown",
   "metadata": {},
   "source": [
    "# Interactive Primordial Soup simulation on Quantum ESPRESSO"
   ]
  },
  {
   "cell_type": "markdown",
   "metadata": {},
   "source": [
    "In order to assess the Jupyter-workflow capabilities to enable interactive simulations of realistic, large-scale systems, we implement a Notebook describing a multi-step simulation workflow in Quantum ESPRESSO.\n",
    "\n",
    "In particular, the analyzed workflow implements a Car-Parrinello simulation of a mixture of water, ammonia and methane molecules to represent the basic ingredients of life (the so-called primordial soup). The simulation aims to explore the phase space to find where C-H, O-H and N-H bonds break up, forming more complex organic molecules. Several Car-Parrinello simulations at different pressure-temperature points (P, T) are needed to simulate the phase diagram."
   ]
  },
  {
   "cell_type": "code",
   "execution_count": 0,
   "metadata": {
    "workflow": {
     "step": {
      "out": [
       "temps",
       "press"
      ]
     }
    }
   },
   "outputs": [],
   "source": [
    "temps=['t1', 't2']\n",
    "press=['p1', 'p2']"
   ]
  },
  {
   "cell_type": "markdown",
   "metadata": {},
   "source": [
    "The workflow is composed of six steps, which were executed on top of the PBS-managed davinci-1 facility, the HPC centre of the Leonard S.p.A. company.\n",
    "\n",
    "This time we did not use a Singularity container, but ran the steps directly on bare metal to fully exploit compile-time optimisations of a Quantum ESPRESSO executable compiled with Intel OneAPI. Nevertheless, we packed both the executable (named cp-oneapi.x) and all the input files inside the INPDIR directory.\n",
    "\n",
    "In order to replicate the experiment in a fully-optimised execution environment, you need to compile the Quantum ESPRESSO cp executable directly on your facility. The node-details.txt file provides some information on the libraries used to compile Quantum ESPRESSO. Then, you need to set the correct credentials in the Notebook metadata (e.g. username and sshKey) and, if necessary, modify the PBS script template at environment/pbs_espresso.\n",
    "\n",
    "Moreover, please note that both the input directory and the output directory should preserve their names (i.e., INPDIR and OUTDIR, respectively) because their paths are directly encoded inside Quantum ESPRESSO input files. Data dependencies are propagated between subsequent steps through the OUTDIR directory\n",
    "\n",
    "To run all cells in the standard Jupyter interactive mode, you can use the Cell > Run All menu item, while to run in bulk mode you have to press the <button class=\"btn btn-default\"><i class=\"fa-random fa\"></i></button> button in the main toolbar."
   ]
  },
  {
   "cell_type": "markdown",
   "metadata": {},
   "source": [
    "The first four steps, common to all simulations, prepare a starting state at room temperature and pressure from a random distribution of the three molecules"
   ]
  },
  {
   "cell_type": "code",
   "execution_count": 0,
   "metadata": {
    "workflow": {
     "step": {
      "out": [
       "time",
       "start"
      ]
     }
    }
   },
   "outputs": [],
   "source": [
    "import time\n",
    "start = time.time()"
   ]
  },
  {
   "cell_type": "code",
   "execution_count": null,
   "metadata": {
    "workflow": {
     "step": {
      "in": [
       {
        "name": "input_dir",
        "type": "file",
        "value": "INPDIR"
       }
      ],
      "out": [
       {
        "name": "input_dir",
        "type": "file",
        "value": "INPDIR"
       },
       {
        "name": "output_dir",
        "type": "file",
        "value": "OUTDIR"
       },
       {
        "name": "step1_control",
        "type": "control"
       }
      ],
      "workdir": "/path/to/workdir"
     },
     "target": {
      "model": "pbs-davinci"
     }
    }
   },
   "outputs": [],
   "source": [
    "%%bash -s \"$input_dir\"\n",
    "cp -r $1 .\n",
    "mkdir OUTDIR\n",
    "mpirun -np 32 -f $PBS_NODEFILE sh -c \"./INPDIR/cp-oneapi.x < ./INPDIR/chno.in.00 > ./OUTDIR/chno.out.00\""
   ]
  },
  {
   "cell_type": "code",
   "execution_count": null,
   "metadata": {
    "workflow": {
     "step": {
      "in": [
       {
        "name": "step1_control",
        "type": "control"
       }
      ]
     }
    }
   },
   "outputs": [],
   "source": [
    "end = time.time()\n",
    "hours, rem = divmod(end-start, 3600)\n",
    "minutes, seconds = divmod(rem, 60)\n",
    "print(\"{:0>2}:{:0>2}:{:05.2f}\".format(int(hours),int(minutes),seconds))"
   ]
  },
  {
   "cell_type": "code",
   "execution_count": null,
   "metadata": {
    "workflow": {
     "step": {
      "in": [
       {
        "type": "file",
        "valueFrom": "input_dir"
       },
       {
        "type": "file",
        "valueFrom": "output_dir"
       }
      ],
      "out": [
       {
        "name": "output_dir",
        "type": "file",
        "value": "OUTDIR"
       },
       {
        "name": "step2_control",
        "type": "control"
       }
      ],
      "workdir": "/path/to/workdir"
     },
     "target": {
      "model": "pbs-davinci"
     }
    }
   },
   "outputs": [],
   "source": [
    "%%bash -s \"$input_dir\" \"$output_dir\"\n",
    "cp -r $1 $2 .\n",
    "mkdir OUTDIR\n",
    "mpirun -np 32 -f $PBS_NODEFILE sh -c \"./INPDIR/cp-oneapi.x < ./INPDIR/chno.in.01 > ./OUTDIR/chno.out.01\""
   ]
  },
  {
   "cell_type": "code",
   "execution_count": null,
   "metadata": {
    "workflow": {
     "step": {
      "in": [
       {
        "name": "step2_control",
        "type": "control"
       }
      ]
     }
    }
   },
   "outputs": [],
   "source": [
    "end = time.time()\n",
    "hours, rem = divmod(end-start, 3600)\n",
    "minutes, seconds = divmod(rem, 60)\n",
    "print(\"{:0>2}:{:0>2}:{:05.2f}\".format(int(hours),int(minutes),seconds))"
   ]
  },
  {
   "cell_type": "code",
   "execution_count": null,
   "metadata": {
    "workflow": {
     "step": {
      "in": [
       {
        "type": "file",
        "valueFrom": "input_dir"
       },
       {
        "type": "file",
        "valueFrom": "output_dir"
       }
      ],
      "out": [
       {
        "name": "output_dir",
        "type": "file",
        "value": "OUTDIR"
       },
       {
        "name": "step3_control",
        "type": "control"
       }
      ],
      "workdir": "/path/to/workdir"
     },
     "target": {
      "model": "pbs-davinci"
     }
    }
   },
   "outputs": [],
   "source": [
    "%%bash -s \"$input_dir\" \"$output_dir\"\n",
    "cp -r $1 $2 .\n",
    "mkdir OUTDIR\n",
    "mpirun -np 32 -f $PBS_NODEFILE sh -c \"./INPDIR/cp-oneapi.x < ./INPDIR/chno.in.02 > ./OUTDIR/chno.out.02\""
   ]
  },
  {
   "cell_type": "code",
   "execution_count": null,
   "metadata": {
    "workflow": {
     "step": {
      "in": [
       {
        "name": "step3_control",
        "type": "control"
       }
      ]
     }
    }
   },
   "outputs": [],
   "source": [
    "end = time.time()\n",
    "hours, rem = divmod(end-start, 3600)\n",
    "minutes, seconds = divmod(rem, 60)\n",
    "print(\"{:0>2}:{:0>2}:{:05.2f}\".format(int(hours),int(minutes),seconds))"
   ]
  },
  {
   "cell_type": "code",
   "execution_count": null,
   "metadata": {
    "workflow": {
     "step": {
      "in": [
       {
        "type": "file",
        "valueFrom": "input_dir"
       },
       {
        "type": "file",
        "valueFrom": "output_dir"
       }
      ],
      "out": [
       {
        "name": "output_dir",
        "type": "file",
        "value": "OUTDIR"
       },
       {
        "name": "step4_control",
        "type": "control"
       }
      ],
      "workdir": "/path/to/workdir"
     },
     "target": {
      "model": "pbs-davinci"
     }
    }
   },
   "outputs": [],
   "source": [
    "%%bash -s \"$input_dir\" \"$output_dir\"\n",
    "cp -r $1 $2 .\n",
    "mkdir OUTDIR\n",
    "mpirun -np 32 -f $PBS_NODEFILE sh -c \"./INPDIR/cp-oneapi.x < ./INPDIR/chno.in.03 > ./OUTDIR/chno.out.03\""
   ]
  },
  {
   "cell_type": "code",
   "execution_count": null,
   "metadata": {
    "workflow": {
     "step": {
      "in": [
       {
        "name": "step4_control",
        "type": "control"
       }
      ]
     }
    }
   },
   "outputs": [],
   "source": [
    "end = time.time()\n",
    "hours, rem = divmod(end-start, 3600)\n",
    "minutes, seconds = divmod(rem, 60)\n",
    "print(\"{:0>2}:{:0>2}:{:05.2f}\".format(int(hours),int(minutes),seconds))"
   ]
  },
  {
   "cell_type": "markdown",
   "metadata": {},
   "source": [
    "Then the pipeline forks to simulate different temperatures through Nos&eacute;-Hoover thermostats."
   ]
  },
  {
   "cell_type": "code",
   "execution_count": 0,
   "metadata": {
    "scrolled": true,
    "workflow": {
     "step": {
      "in": [
       {
        "type": "file",
        "valueFrom": "input_dir"
       },
       {
        "type": "file",
        "valueFrom": "output_dir"
       }
      ],
      "out": [
       {
        "name": "temp_outdirs",
        "type": "file",
        "value": "OUTDIR.*"
       },
       {
        "name": "step5_control",
        "type": "control"
       }
      ],
      "scatter": {
       "items": [
        "temps"
       ]
      },
      "workdir": "/path/to/workdir"
     },
     "target": {
      "model": "pbs-davinci"
     }
    }
   },
   "outputs": [],
   "source": [
    "%%bash -s \"$input_dir\" \"$output_dir\" \"$temps\"\n",
    "TEMPS=($(echo $3 | tr -d \"[],'\"))\n",
    "cp -r $1 .\n",
    "for TEMP in ${TEMPS[*]}; do\n",
    "  cp -r $2 \"OUTDIR.${TEMP}\"\n",
    "  mpirun -np 32 -f $PBS_NODEFILE sh -c \"./INPDIR/cp-oneapi.x < ./INPDIR/chno.in.04.${TEMP} > ./OUTDIR.${TEMP}/chno.out.04.${TEMP}\"\n",
    "done"
   ]
  },
  {
   "cell_type": "code",
   "execution_count": 0,
   "metadata": {
    "workflow": {
     "step": {
      "in": [
       {
        "name": "step5_control",
        "type": "control"
       }
      ]
     }
    }
   },
   "outputs": [
    {
     "name": "0398f04ca82a486a96680b598015cefc",
     "output_type": "stream",
     "text": [
      "00:00:06.84"
     ]
    }
   ],
   "source": [
    "end = time.time()\n",
    "hours, rem = divmod(end-start, 3600)\n",
    "minutes, seconds = divmod(rem, 60)\n",
    "print(\"{:0>2}:{:0>2}:{:05.2f}\".format(int(hours),int(minutes),seconds))"
   ]
  },
  {
   "cell_type": "markdown",
   "metadata": {},
   "source": [
    "Finally, for each temperature, the simulation forks again to simulate each temperature at several values of pressure using the Parrinello-Rahman constant pressure Lagrangian."
   ]
  },
  {
   "cell_type": "code",
   "execution_count": 0,
   "metadata": {
    "scrolled": true,
    "workflow": {
     "step": {
      "in": [
       {
        "type": "file",
        "valueFrom": "input_dir"
       },
       {
        "type": "file",
        "valueFrom": "temp_outdirs"
       }
      ],
      "out": [
       {
        "name": "pres_outdirs",
        "type": "file",
        "value": "OUTDIR.*.*"
       },
       {
        "name": "step6_control",
        "type": "control"
       }
      ],
      "scatter": {
       "items": [
        {
         "items": [
          "temps",
          "temp_outdirs"
         ],
         "method": "dotproduct"
        },
        "press"
       ],
       "method": "cartesian"
      },
      "workdir": "/path/to/workdir"
     },
     "target": {
      "model": "pbs-davinci"
     }
    }
   },
   "outputs": [
    {
     "name": "2fdbee7c5f8943ad8ff0ba7fbbe0a4d5",
     "output_type": "stream",
     "text": [
      "/tmp/streamflow/CYQoOU/OUTDIR.t1\n",
      "/tmp/streamflow/KZLQEy/OUTDIR.t1\n",
      "/tmp/streamflow/LvDnAo/OUTDIR.t2\n",
      "/tmp/streamflow/wNHoma/OUTDIR.t2"
     ]
    }
   ],
   "source": [
    "%%bash -s \"$input_dir\" \"$temps\" \"$temp_outdirs\" \"$press\"\n",
    "TEMPS=($(echo $2 | tr -d \"[],'\"))\n",
    "TEMP_OUTDIRS=($(echo $3 | tr -d \"[],'\"))\n",
    "PRESS=($(echo $4 | tr -d \"[],'\"))\n",
    "\n",
    "cp -r $1 .\n",
    "for TEMP_OUTDIR in ${TEMP_OUTDIRS[*]}; do\n",
    "  echo $TEMP_OUTDIRS\n",
    "  cp -r \"${TEMP_OUTDIR}\" .\n",
    "done\n",
    "\n",
    "for TEMP in ${TEMPS[*]}; do\n",
    "  for PRS in ${PRESS[*]}; do\n",
    "    mkdir \"OUTDIR.${TEMP}.${PRS}\"\n",
    "    cp -r -P ./OUTDIR.${TEMP}/*.save \"OUTDIR.${TEMP}.${PRS}\"\n",
    "    mpirun -np 32 -f $PBS_NODEFILE sh -c \"./INPDIR/cp-oneapi.x < ./INPDIR/chno.in.05.${TEMP}.${PRS} > ./OUTDIR.${TEMP}/chno.out.05.${TEMP}.${PRS}\"\n",
    "  done\n",
    "done"
   ]
  },
  {
   "cell_type": "code",
   "execution_count": 0,
   "metadata": {
    "workflow": {
     "step": {
      "in": [
       {
        "name": "step6_control",
        "type": "control"
       }
      ]
     }
    }
   },
   "outputs": [
    {
     "name": "62e058cd36e24ade85a9e7cc0a08468c",
     "output_type": "stream",
     "text": [
      "00:00:12.28"
     ]
    }
   ],
   "source": [
    "end = time.time()\n",
    "hours, rem = divmod(end-start, 3600)\n",
    "minutes, seconds = divmod(rem, 60)\n",
    "print(\"{:0>2}:{:0>2}:{:05.2f}\".format(int(hours),int(minutes),seconds))"
   ]
  }
 ],
 "metadata": {
  "celltoolbar": "Edit Metadata",
  "kernelspec": {
   "display_name": "Jupyter Workflow",
   "language": "python",
   "name": "jupyter-workflow"
  },
  "language_info": {
   "codemirror_mode": {
    "name": "ipython",
    "version": 3
   },
   "file_extension": ".py",
   "mimetype": "text/x-python",
   "name": "python",
   "nbconvert_exporter": "python",
   "pygments_lexer": "ipython3",
   "version": "3.9.2"
  },
  "workflow": {
   "interpreter": "/path/to/ipython/interpreter",
   "models": {
    "pbs-davinci": {
     "config": {
      "file": "/environment/pbs_espresso",
      "hostname": "hostname",
      "maxConcurrentJobs": 16,
      "sshKey": "/path/to/ssh/key",
      "username": "username"
     },
     "type": "pbs"
    }
   },
   "version": "v1.0"
  }
 },
 "nbformat": 4,
 "nbformat_minor": 1
}
