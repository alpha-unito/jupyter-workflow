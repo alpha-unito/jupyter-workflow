{
 "cells": [
  {
   "cell_type": "markdown",
   "metadata": {},
   "source": [
    "# Train and serve a TensorFlow model with TensorFlow Serving"
   ]
  },
  {
   "cell_type": "markdown",
   "metadata": {},
   "source": [
    "This Notebook showcases how Deep Learning can benefit from hybrid Cloud-HPC scenarios, in particular to offload the computationally demanding training phase to an HPC facility, and offering the resulting network as-a-Service on a Cloud achitecture to answer time-constrained inference queries.\n",
    "\n",
    "The notebook is a modified version of [this one](https://github.com/tensorflow/tfx/blob/master/docs/tutorials/serving/rest_simple.ipynb), which focuses mainly on Google Colab. Since we are not interested in pure performance for this use case, we use the small [Fashion MNIST](https://github.com/zalandoresearch/fashion-mnist) dataset and a very small custom Convolutional Neural Network (CNN).\n",
    "\n",
    "The training phase has been offloaded to an HPC node on the [HPC4AI facility](https://hpc4ai.unito.it/), equiped with four NVIDIA Tesla V100 and two Intel Xeon Gols 6230 sockets. Then, the trained model is sent to a pre-existing TensorFlow Serving Pod on a Kubernetes cluster, hosted on the OpenStack-based  HPC4AI cloud.\n",
    "\n",
    "Let's start with an import of all the required modules"
   ]
  },
  {
   "cell_type": "code",
   "execution_count": 1,
   "metadata": {},
   "outputs": [
    {
     "name": "stdout",
     "output_type": "stream",
     "text": [
      "TensorFlow version: 2.4.1\n"
     ]
    }
   ],
   "source": [
    "import sys\n",
    "\n",
    "# Confirm that we're using Python 3\n",
    "assert sys.version_info.major == 3, 'Oops, not running Python 3. Use Runtime > Change runtime type'\n",
    "\n",
    "# TensorFlow and tf.keras\n",
    "import tensorflow as tf\n",
    "from tensorflow import keras\n",
    "\n",
    "# Helper libraries\n",
    "import numpy as np\n",
    "import matplotlib.pyplot as plt\n",
    "import os\n",
    "import subprocess\n",
    "\n",
    "print('TensorFlow version: {}'.format(tf.__version__))"
   ]
  },
  {
   "cell_type": "markdown",
   "metadata": {},
   "source": [
    "Then we import the Fashion MNIST dataset, containing 70,000 grayscale images in 10 categories. The images show individual articles of clothing at low resolution (28 by 28 pixels), as seen here:\n",
    "\n",
    "<table>\n",
    "  <tr><td>\n",
    "    <img src=\"https://tensorflow.org/images/fashion-mnist-sprite.png\"\n",
    "         alt=\"Fashion MNIST sprite\"  width=\"600\">\n",
    "  </td></tr>\n",
    "  <tr><td align=\"center\">\n",
    "    <b>Figure 1.</b> <a href=\"https://github.com/zalandoresearch/fashion-mnist\">Fashion-MNIST samples</a> (by Zalando, MIT License).<br/>&nbsp;\n",
    "  </td></tr>\n",
    "</table>\n",
    "\n",
    "Fashion MNIST is intended as a drop-in replacement for the classic [MNIST](http://yann.lecun.com/exdb/mnist/) dataset—often used as the \"Hello, World\" of machine learning programs for computer vision. You can access the Fashion MNIST directly from TensorFlow, just import and load the data."
   ]
  },
  {
   "cell_type": "code",
   "execution_count": 2,
   "metadata": {},
   "outputs": [
    {
     "name": "stdout",
     "output_type": "stream",
     "text": [
      "Downloading data from https://storage.googleapis.com/tensorflow/tf-keras-datasets/train-labels-idx1-ubyte.gz\n",
      "32768/29515 [=================================] - 0s 0us/step\n",
      "Downloading data from https://storage.googleapis.com/tensorflow/tf-keras-datasets/train-images-idx3-ubyte.gz\n",
      "26427392/26421880 [==============================] - 1s 0us/step\n",
      "Downloading data from https://storage.googleapis.com/tensorflow/tf-keras-datasets/t10k-labels-idx1-ubyte.gz\n",
      "8192/5148 [===============================================] - 0s 0us/step\n",
      "Downloading data from https://storage.googleapis.com/tensorflow/tf-keras-datasets/t10k-images-idx3-ubyte.gz\n",
      "4423680/4422102 [==============================] - 0s 0us/step\n",
      "\n",
      "train_images.shape: (60000, 28, 28, 1), of float64\n",
      "test_images.shape: (10000, 28, 28, 1), of float64\n"
     ]
    }
   ],
   "source": [
    "fashion_mnist = keras.datasets.fashion_mnist\n",
    "(train_images, train_labels), (test_images, test_labels) = fashion_mnist.load_data()\n",
    "\n",
    "# scale the values to 0.0 to 1.0\n",
    "train_images = train_images / 255.0\n",
    "test_images = test_images / 255.0\n",
    "\n",
    "# reshape for feeding into the model\n",
    "train_images = train_images.reshape(train_images.shape[0], 28, 28, 1)\n",
    "test_images = test_images.reshape(test_images.shape[0], 28, 28, 1)\n",
    "\n",
    "class_names = ['T-shirt/top', 'Trouser', 'Pullover', 'Dress', 'Coat',\n",
    "               'Sandal', 'Shirt', 'Sneaker', 'Bag', 'Ankle boot']\n",
    "\n",
    "print('\\ntrain_images.shape: {}, of {}'.format(train_images.shape, train_images.dtype))\n",
    "print('test_images.shape: {}, of {}'.format(test_images.shape, test_images.dtype))"
   ]
  },
  {
   "cell_type": "markdown",
   "metadata": {},
   "source": [
    "At this point, we create our neural network model. Since we are not focused on performances, let's use the simplest possible CNN."
   ]
  },
  {
   "cell_type": "code",
   "execution_count": 3,
   "metadata": {
    "scrolled": true
   },
   "outputs": [
    {
     "name": "stdout",
     "output_type": "stream",
     "text": [
      "Model: \"sequential\"\n",
      "_________________________________________________________________\n",
      "Layer (type)                 Output Shape              Param #   \n",
      "=================================================================\n",
      "Conv1 (Conv2D)               (None, 13, 13, 8)         80        \n",
      "_________________________________________________________________\n",
      "flatten (Flatten)            (None, 1352)              0         \n",
      "_________________________________________________________________\n",
      "Softmax (Dense)              (None, 10)                13530     \n",
      "=================================================================\n",
      "Total params: 13,610\n",
      "Trainable params: 13,610\n",
      "Non-trainable params: 0\n",
      "_________________________________________________________________\n"
     ]
    }
   ],
   "source": [
    "model = keras.Sequential([\n",
    "  keras.layers.Conv2D(input_shape=(28,28,1), filters=8, kernel_size=3, \n",
    "                      strides=2, activation='relu', name='Conv1'),\n",
    "  keras.layers.Flatten(),\n",
    "  keras.layers.Dense(10, activation=tf.nn.softmax, name='Softmax')\n",
    "])\n",
    "model.summary()"
   ]
  },
  {
   "cell_type": "markdown",
   "metadata": {},
   "source": [
    "Now we train the model for one epoch. Since this is commonly a computationally demanding step, we offload it to an HPC node through an SSH connector. For portability purposes, we execute the command on a Docker container on the remote environment, created from a standard `jupyter/tensorflow-notebook` image.\n",
    "\n",
    "In order to replicate the experiment, you need to set the correct credentials in the Notebook metadata (e.g., `username` and `sshKey`) and, if necessary, modify the script template at `environment/hpc/ssh_template.jinja2`.\n",
    "\n",
    "Please note that the TensorFlow network was not trivially serialisable by the `dill` engine, so we were forced to implement custom `predump` and `postload` directives to correctly handle the data transfer."
   ]
  },
  {
   "cell_type": "code",
   "execution_count": 4,
   "metadata": {
    "workflow": {
     "step": {
      "in": [
       {
        "name": "model",
        "serializer": "model",
        "type": "name"
       }
      ],
      "out": [
       {
        "name": "model",
        "serializer": "model",
        "type": "name"
       }
      ]
     },
     "target": {
      "model": "tensorflow"
     }
    }
   },
   "outputs": [
    {
     "name": "stdout",
     "output_type": "stream",
     "text": [
      "INFO:tensorflow:Assets written to: /tmp/tmpxicla_tz/assets\n",
      "INFO:tensorflow:Using MirroredStrategy with devices ('/job:localhost/replica:0/task:0/device:GPU:0', '/job:localhost/replica:0/task:0/device:GPU:1', '/job:localhost/replica:0/task:0/device:GPU:2', '/job:localhost/replica:0/task:0/device:GPU:3')\n",
      "INFO:tensorflow:Reduce to /job:localhost/replica:0/task:0/device:CPU:0 then broadcast to ('/job:localhost/replica:0/task:0/device:CPU:0',).\n",
      "INFO:tensorflow:Reduce to /job:localhost/replica:0/task:0/device:CPU:0 then broadcast to ('/job:localhost/replica:0/task:0/device:CPU:0',).\n",
      "INFO:tensorflow:Reduce to /job:localhost/replica:0/task:0/device:CPU:0 then broadcast to ('/job:localhost/replica:0/task:0/device:CPU:0',).\n",
      "INFO:tensorflow:Reduce to /job:localhost/replica:0/task:0/device:CPU:0 then broadcast to ('/job:localhost/replica:0/task:0/device:CPU:0',).\n",
      "Epoch 1/20\n",
      "INFO:tensorflow:batch_all_reduce: 4 all-reduces with algorithm = nccl, num_packs = 1\n",
      "INFO:tensorflow:Reduce to /job:localhost/replica:0/task:0/device:CPU:0 then broadcast to ('/job:localhost/replica:0/task:0/device:CPU:0',).\n",
      "INFO:tensorflow:Reduce to /job:localhost/replica:0/task:0/device:CPU:0 then broadcast to ('/job:localhost/replica:0/task:0/device:CPU:0',).\n",
      "INFO:tensorflow:Reduce to /job:localhost/replica:0/task:0/device:CPU:0 then broadcast to ('/job:localhost/replica:0/task:0/device:CPU:0',).\n",
      "INFO:tensorflow:Reduce to /job:localhost/replica:0/task:0/device:CPU:0 then broadcast to ('/job:localhost/replica:0/task:0/device:CPU:0',).\n",
      "INFO:tensorflow:batch_all_reduce: 4 all-reduces with algorithm = nccl, num_packs = 1\n",
      "INFO:tensorflow:Reduce to /job:localhost/replica:0/task:0/device:CPU:0 then broadcast to ('/job:localhost/replica:0/task:0/device:CPU:0',).\n",
      "INFO:tensorflow:Reduce to /job:localhost/replica:0/task:0/device:CPU:0 then broadcast to ('/job:localhost/replica:0/task:0/device:CPU:0',).\n",
      "1875/1875 [==============================] - 44s 8ms/step - loss: 0.7282 - accuracy: 0.7529\n",
      "Epoch 2/20\n",
      "1875/1875 [==============================] - 14s 7ms/step - loss: 0.4243 - accuracy: 0.8494\n",
      "Epoch 3/20\n",
      "1875/1875 [==============================] - 14s 7ms/step - loss: 0.3735 - accuracy: 0.8649\n",
      "Epoch 4/20\n",
      "1875/1875 [==============================] - 14s 7ms/step - loss: 0.3539 - accuracy: 0.8724\n",
      "Epoch 5/20\n",
      "1875/1875 [==============================] - 14s 8ms/step - loss: 0.3264 - accuracy: 0.8826\n",
      "Epoch 6/20\n",
      "1875/1875 [==============================] - 14s 7ms/step - loss: 0.3186 - accuracy: 0.8842\n",
      "Epoch 7/20\n",
      "1875/1875 [==============================] - 14s 7ms/step - loss: 0.3028 - accuracy: 0.8911\n",
      "Epoch 8/20\n",
      "1875/1875 [==============================] - 14s 7ms/step - loss: 0.2972 - accuracy: 0.8943\n",
      "Epoch 9/20\n",
      "1875/1875 [==============================] - 14s 7ms/step - loss: 0.2881 - accuracy: 0.8956\n",
      "Epoch 10/20\n",
      "1875/1875 [==============================] - 14s 7ms/step - loss: 0.2820 - accuracy: 0.8975\n",
      "Epoch 11/20\n",
      "1875/1875 [==============================] - 14s 7ms/step - loss: 0.2776 - accuracy: 0.9008\n",
      "Epoch 12/20\n",
      "1875/1875 [==============================] - 14s 7ms/step - loss: 0.2719 - accuracy: 0.9026\n",
      "Epoch 13/20\n",
      "1875/1875 [==============================] - 14s 7ms/step - loss: 0.2635 - accuracy: 0.9045\n",
      "Epoch 14/20\n",
      "1875/1875 [==============================] - 14s 7ms/step - loss: 0.2643 - accuracy: 0.9057\n",
      "Epoch 15/20\n",
      "1875/1875 [==============================] - 14s 7ms/step - loss: 0.2586 - accuracy: 0.9065\n",
      "Epoch 16/20\n",
      "1875/1875 [==============================] - 14s 7ms/step - loss: 0.2586 - accuracy: 0.9065\n",
      "Epoch 17/20\n",
      "1875/1875 [==============================] - 14s 7ms/step - loss: 0.2517 - accuracy: 0.9082\n",
      "Epoch 18/20\n",
      "1875/1875 [==============================] - 14s 7ms/step - loss: 0.2481 - accuracy: 0.9095\n",
      "Epoch 19/20\n",
      "1875/1875 [==============================] - 14s 7ms/step - loss: 0.2485 - accuracy: 0.9095\n",
      "Epoch 20/20\n",
      "1875/1875 [==============================] - 14s 7ms/step - loss: 0.2477 - accuracy: 0.9113\n",
      "313/313 [==============================] - 16s 46ms/step - loss: 0.3317 - accuracy: 0.8833\n",
      "\n",
      "Test accuracy: 0.8833000063896179\n",
      "INFO:tensorflow:Assets written to: /tmp/tmpvq_9klt9/assets\n"
     ]
    }
   ],
   "source": [
    "testing = False\n",
    "epochs = 20\n",
    "\n",
    "strategy = tf.distribute.MirroredStrategy()\n",
    "\n",
    "with strategy.scope():\n",
    "    model = tf.keras.models.clone_model(model)\n",
    "    model.compile(optimizer='adam', \n",
    "                  loss='sparse_categorical_crossentropy',\n",
    "                  metrics=['accuracy'])\n",
    "    model.fit(train_images, train_labels, epochs=epochs)\n",
    "    test_loss, test_acc = model.evaluate(test_images, test_labels)\n",
    "    \n",
    "print('\\nTest accuracy: {}'.format(test_acc))"
   ]
  },
  {
   "cell_type": "markdown",
   "metadata": {},
   "source": [
    "At this point, the `model` variable contains the trained model's weights. To load our trained model into TensorFlow Serving we first need to save it in [SavedModel](https://www.tensorflow.org/versions/r1.15/api_docs/python/tf/saved_model) format.  This will create a protobuf file in a well-defined directory hierarchy, and will include a version number.\n",
    "\n",
    "The path of the saved model is stored in the `export_path` variable to be easily referred to in the following cells."
   ]
  },
  {
   "cell_type": "code",
   "execution_count": 5,
   "metadata": {},
   "outputs": [
    {
     "name": "stdout",
     "output_type": "stream",
     "text": [
      "export_path = /tmp/tmpeji93ti1\n",
      "\n",
      "INFO:tensorflow:Assets written to: /tmp/tmpeji93ti1/assets\n",
      "\n",
      "Saved model:\n",
      "total 72\n",
      "drwxr-xr-x 2 jovyan users  4096 Apr 15 23:44 assets\n",
      "-rw-r--r-- 1 jovyan users 63956 Apr 15 23:44 saved_model.pb\n",
      "drwxr-xr-x 2 jovyan users  4096 Apr 15 23:44 variables\n"
     ]
    }
   ],
   "source": [
    "import tempfile\n",
    "\n",
    "export_path = tempfile.mkdtemp()\n",
    "print('export_path = {}\\n'.format(export_path))\n",
    "\n",
    "tf.keras.models.save_model(\n",
    "    model,\n",
    "    export_path,\n",
    "    overwrite=True,\n",
    "    include_optimizer=True,\n",
    "    save_format=None,\n",
    "    signatures=None,\n",
    "    options=None\n",
    ")\n",
    "\n",
    "print('\\nSaved model:')\n",
    "!ls -l {export_path}"
   ]
  },
  {
   "cell_type": "markdown",
   "metadata": {},
   "source": [
    "At this point, we can send our model to a [TensorFlow Serving](https://www.tensorflow.org/tfx/guide/serving) instance for inference. We deploy a Kubernetes Pod containing a `tensorflow-serving` container, send the model folder as an input dependency and copy it on the `/models/model` path in the remote file-system, in order to start serving it."
   ]
  },
  {
   "cell_type": "code",
   "execution_count": 8,
   "metadata": {
    "workflow": {
     "step": {
      "in": [
       {
        "type": "file",
        "valueFrom": "export_path"
       }
      ]
     },
     "target": {
      "model": "tf-serving",
      "service": "tensorflow-serving"
     }
    }
   },
   "outputs": [],
   "source": [
    "%%bash -s {export_path}\n",
    "rm -rf \"/models/model\"\n",
    "mkdir \"/models/model\"\n",
    "cp -r \"$1\" \"/models/model/1\""
   ]
  },
  {
   "cell_type": "markdown",
   "metadata": {},
   "source": [
    "Now we can test if the inference server to test is actually able to correctly classify objects. Since the service is not publicly exposed, we use *Jupyter-workflow* to connect to the remote service and perform a local HTTP request to obtain the prediction."
   ]
  },
  {
   "cell_type": "code",
   "execution_count": 9,
   "metadata": {
    "workflow": {
     "step": {
      "out": [
       "predictions"
      ]
     },
     "target": {
      "model": "tf-serving",
      "service": "tensorflow-serving"
     }
    }
   },
   "outputs": [
    {
     "name": "stdout",
     "output_type": "stream",
     "text": [
      "Data: {\"signature_name\": \"serving_default\", \"instances\": ...  [0.0], [0.0], [0.0], [0.0], [0.0], [0.0], [0.0]]]]}\n"
     ]
    }
   ],
   "source": [
    "import json\n",
    "import requests\n",
    "\n",
    "data = json.dumps({\"signature_name\": \"serving_default\", \"instances\": test_images[0:3].tolist()})\n",
    "print('Data: {} ... {}'.format(data[:50], data[len(data)-52:]))\n",
    "\n",
    "headers = {\"content-type\": \"application/json\"}\n",
    "json_response = requests.post('http://localhost:8501/v1/models/model:predict', data=data, headers=headers)\n",
    "predictions = json.loads(json_response.text)['predictions']"
   ]
  },
  {
   "cell_type": "markdown",
   "metadata": {},
   "source": [
    "Now we can show the prediction result locally on the Notebook, using `matplotlib`"
   ]
  },
  {
   "cell_type": "code",
   "execution_count": 11,
   "metadata": {},
   "outputs": [
    {
     "data": {
      "image/png": "[encoded data removed]",
      "text/plain": [
       "<Figure size 432x288 with 1 Axes>"
      ]
     },
     "metadata": {
      "needs_background": "light"
     },
     "output_type": "display_data"
    }
   ],
   "source": [
    "def show(idx, title):\n",
    "    plt.figure()\n",
    "    plt.imshow(test_images[idx].reshape(28,28))\n",
    "    plt.axis('off')\n",
    "    plt.title('\\n\\n{}'.format(title), fontdict={'size': 16})\n",
    "\n",
    "show(0, 'The model thought this was a {} (class {}), and it was actually a {} (class {})'.format(\n",
    "  class_names[np.argmax(predictions[0])], np.argmax(predictions[0]), class_names[test_labels[0]], test_labels[0]))"
   ]
  }
 ],
 "metadata": {
  "accelerator": "GPU",
  "celltoolbar": "Edit Metadata",
  "kernelspec": {
   "display_name": "Jupyter Workflow",
   "language": "python",
   "name": "jupyter-workflow"
  },
  "language_info": {
   "codemirror_mode": {
    "name": "ipython",
    "version": 3
   },
   "file_extension": ".py",
   "mimetype": "text/x-python",
   "name": "python",
   "nbconvert_exporter": "python",
   "pygments_lexer": "ipython3",
   "version": "3.8.8"
  },
  "workflow": {
   "models": {
    "tensorflow": {
     "config": {
      "file": "environment/hpc/ssh_template.jinja2",
      "hostname": "hostname",
      "sshKey": "/path/to/ssh/key",
      "username": "username"
     },
     "type": "ssh"
    },
    "tf-serving": {
     "config": {
      "chart": "environment/k8s/tensorflow-serving",
      "releaseName": "tf-serving"
     },
     "type": "helm"
    }
   },
   "serializers": {
    "model": {
     "postload": "from tensorflow.python.platform import tf_logging\nfrom tensorflow.keras.models import load_model\nverbosity = tf_logging.get_verbosity()\ntf_logging.set_verbosity(tf_logging.ERROR)\nmodel = load_model(model)\ntf_logging.set_verbosity(verbosity)",
     "predump": "from tensorflow.python.platform import tf_logging\nimport tempfile\ndirpath = tempfile.mkdtemp()\nmodel.save(dirpath)\nverbosity = tf_logging.get_verbosity()\ntf_logging.set_verbosity(tf_logging.ERROR)\nmodel = dirpath\ntf_logging.set_verbosity(verbosity)",
     "type": "file"
    }
   },
   "version": "v1.0"
  }
 },
 "nbformat": 4,
 "nbformat_minor": 1
}
