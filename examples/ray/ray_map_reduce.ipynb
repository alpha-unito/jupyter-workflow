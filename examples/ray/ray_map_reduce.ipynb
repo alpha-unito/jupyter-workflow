{
 "cells": [
  {
   "cell_type": "markdown",
   "metadata": {},
   "source": [
    "# MapReduce\n",
    "\n",
    "The original version of this notebook is available [here](https://github.com/ray-project/tutorial/blob/master/examples/map_reduce.ipynb). Small modifications w.r.t. the original version have been made only to update Ray APIs to the last version of the library.\n",
    "\n",
    "**GOAL:** The goal of this exercise is to show how to implement a toy version of the MapReduce system on top of Ray.\n",
    "\n",
    "[MapReduce](https://en.wikipedia.org/wiki/MapReduce) is essentially a computational pattern for computing aggregate statistics of large datasets. It is the core primitive in systems like MapReduce, Hadoop, and Spark.\n",
    "\n",
    "At its core, MapReduce consists of two primitives:\n",
    "- The **map** transformation takes a dataset and a function and applies the function to each data point.\n",
    "- The **reduce** transformation aggregates the output of the map stage.\n",
    "\n",
    "For example, suppose that our starting point is a collection of documents. If we wish to count the number of occurrences of each word in the document, we can first apply a \"map\" transformation, which turns each document into a dictionary mapping words to the number of occurrences within that document. Then we can apply the \"reduce\" transformation, which sums the counts for each word."
   ]
  },
  {
   "cell_type": "code",
   "execution_count": 1,
   "metadata": {},
   "outputs": [],
   "source": [
    "from __future__ import absolute_import\n",
    "from __future__ import division\n",
    "from __future__ import print_function\n",
    "\n",
    "import ray\n",
    "import time"
   ]
  },
  {
   "cell_type": "code",
   "execution_count": 2,
   "metadata": {},
   "outputs": [],
   "source": [
    "if not ray.is_initialized():\n",
    "    ray.init(num_cpus=4, include_dashboard=False, ignore_reinit_error=True)"
   ]
  },
  {
   "cell_type": "markdown",
   "metadata": {},
   "source": [
    "Below is a serial implementation of the **map** function. Note that Python already has a [built-in map function](https://docs.python.org/2/library/functions.html#map)."
   ]
  },
  {
   "cell_type": "code",
   "execution_count": 3,
   "metadata": {},
   "outputs": [],
   "source": [
    "def map_serial(function, xs):\n",
    "    return [function(x) for x in xs]"
   ]
  },
  {
   "cell_type": "markdown",
   "metadata": {},
   "source": [
    "**EXERCISE:** Implement a parallel version of the map function. You'll need to modify the function below.\n",
    "\n",
    "**NOTE:** Because we want `map_parallel` to be non-blocking, the function signature for `map_parallel` should be different from the signature of `map_serial`.\n",
    "- The argument `function` must be a Ray remote function instead of a regular Python function.\n",
    "- The return value should be a list of Ray `ObjectID`s instead of a list of the actual transformed values (so that `map_parallel` can return immediately)."
   ]
  },
  {
   "cell_type": "code",
   "execution_count": 4,
   "metadata": {},
   "outputs": [],
   "source": [
    "def map_parallel(function, xs):\n",
    "    \"\"\"Apply a remote function to each element of a list.\"\"\"\n",
    "    if not isinstance(xs, list):\n",
    "        raise ValueError('The xs argument must be a list.')\n",
    "    \n",
    "    if not hasattr(function, 'remote'):\n",
    "        raise ValueError('The function argument must be a remote function.')\n",
    "\n",
    "    return [function.remote(x) for x in xs]\n",
    "\n",
    "def increment_regular(x):\n",
    "    return x + 1\n",
    "\n",
    "@ray.remote\n",
    "def increment_remote(x):\n",
    "    return x + 1"
   ]
  },
  {
   "cell_type": "code",
   "execution_count": 5,
   "metadata": {
    "workflow": {
     "step": {
      "in": [
       {
        "name": "ray",
        "serializer": "ray",
        "type": "name"
       },
       {
        "name": "increment_remote",
        "serializer": {
         "postload": "import ray;\noriginal_function = increment_remote._function\noriginal_function.__module__ = '__main__'\nincrement_remote = ray.remote(original_function)"
        },
        "type": "name"
       }
      ]
     },
     "target": {
      "model": "ray",
      "service": "ray-head"
     }
    }
   },
   "outputs": [
    {
     "name": "stdout",
     "output_type": "stream",
     "text": [
      "Congratulations, the test passed!\n"
     ]
    }
   ],
   "source": [
    "xs = [1, 2, 3, 4, 5]\n",
    "result_ids = map_parallel(increment_remote, xs)\n",
    "assert isinstance(result_ids, list), 'The output of \"map_parallel\" must be a list.'\n",
    "assert all([isinstance(x, ray.ObjectID) for x in result_ids]), 'The output of map_parallel must be a list of ObjectIDs.'\n",
    "assert ray.get(result_ids) == map_serial(increment_regular, xs)\n",
    "print('Congratulations, the test passed!')  "
   ]
  },
  {
   "cell_type": "raw",
   "metadata": {},
   "source": [
    "**EXERCISE:** Run the cell below and verify that `parallel_map` runs instantaneously and that fetching the result takes the expected amount of time for a simple task that sleeps."
   ]
  },
  {
   "cell_type": "code",
   "execution_count": 6,
   "metadata": {
    "pycharm": {
     "name": "#%%\n"
    },
    "workflow": {
     "step": {
      "in": [
       "map_serial",
       "map_parallel",
       {
        "name": "ray",
        "serializer": "ray",
        "type": "name"
       }
      ]
     },
     "target": {
      "model": "ray",
      "service": "ray-head"
     }
    }
   },
   "outputs": [
    {
     "name": "stdout",
     "output_type": "stream",
     "text": [
      "map_serial:\n",
      "CPU times: user 157 ms, sys: 58 ms, total: 215 ms\n",
      "Wall time: 4 s\n",
      "\n",
      "calling map_parallel:\n",
      "CPU times: user 4.73 ms, sys: 0 ns, total: 4.73 ms\n",
      "Wall time: 4.18 ms\n",
      "\n",
      "getting results from map_parallel:\n",
      "CPU times: user 61.1 ms, sys: 31.8 ms, total: 92.9 ms\n",
      "Wall time: 1.78 s\n"
     ]
    }
   ],
   "source": [
    "def sleep_regular(x):\n",
    "    time.sleep(1)\n",
    "    return x + 1\n",
    "\n",
    "\n",
    "@ray.remote\n",
    "def sleep_remote(x):\n",
    "    time.sleep(1)\n",
    "    return x + 1\n",
    "\n",
    "\n",
    "# Regular sleep should take 4 seconds.\n",
    "print('map_serial:')\n",
    "%time results_serial = map_serial(sleep_regular, [1, 2, 3, 4])\n",
    "\n",
    "# Initiaing the map_parallel should be instantaneous.\n",
    "print('\\ncalling map_parallel:')\n",
    "%time result_ids = map_parallel(sleep_remote, [1, 2, 3, 4])\n",
    "\n",
    "# Fetching the results from map_parallel should take 1 second\n",
    "# (since we started Ray with num_cpus=4).\n",
    "print('\\ngetting results from map_parallel:')\n",
    "%time results_parallel = ray.get(result_ids)\n",
    "\n",
    "assert results_parallel == results_serial"
   ]
  },
  {
   "cell_type": "markdown",
   "metadata": {},
   "source": [
    "**EXERCISE:** Take a look at the task timeline and verify that the four map tasks executed in parallel. Do this by running the next cell and clicking *\"View task timeline\"*.\n",
    "\n",
    "**NOTE:** This will show all tasks that have been executed since `ray.init()` was called, which may be a lot.\n",
    "\n",
    "To navigate the timeline:\n",
    "- Click and drag to move.\n",
    "- Scroll to zoom."
   ]
  },
  {
   "cell_type": "code",
   "execution_count": 7,
   "metadata": {
    "workflow": {
     "step": {
      "in": [
       {
        "name": "ray",
        "serializer": "ray",
        "type": "name"
       }
      ]
     },
     "target": {
      "model": "ray",
      "service": "ray-head"
     }
    }
   },
   "outputs": [
    {
     "name": "stdout",
     "output_type": "stream",
     "text": [
      "[{'cat': 'fetch_and_run_function', 'name': 'fetch_and_run_function', 'pid': '10.1.94.81', 'tid': 'driver:02000000ffffffffffffffffffffffffffffffff', 'ts': 1610382273428046.8, 'dur': 5508.4228515625, 'ph': 'X', 'cname': 'detailed_memory_dump', 'args': {}}, {'cat': 'fetch_and_run_function', 'name': 'fetch_and_run_function', 'pid': '10.1.94.81', 'tid': 'driver:02000000ffffffffffffffffffffffffffffffff', 'ts': 1610382273433568.8, 'dur': 1355.886459350586, 'ph': 'X', 'cname': 'detailed_memory_dump', 'args': {}}, {'cat': 'fetch_and_run_function', 'name': 'fetch_and_run_function', 'pid': '10.1.94.81', 'tid': 'driver:02000000ffffffffffffffffffffffffffffffff', 'ts': 1610382273435480.0, 'dur': 223.39820861816406, 'ph': 'X', 'cname': 'detailed_memory_dump', 'args': {}}, {'cat': 'fetch_and_run_function', 'name': 'fetch_and_run_function', 'pid': '10.1.94.81', 'tid': 'driver:02000000ffffffffffffffffffffffffffffffff', 'ts': 1610382273435999.8, 'dur': 198.84109497070312, 'ph': 'X', 'cname': 'detailed_memory_dump', 'args': {}}, {'cat': 'ray.get', 'name': 'ray.get', 'pid': '10.1.94.81', 'tid': 'driver:02000000ffffffffffffffffffffffffffffffff', 'ts': 1610382277445801.2, 'dur': 1776279.4494628906, 'ph': 'X', 'cname': 'good', 'args': {}}, {'cat': 'submit_task', 'name': 'submit_task', 'pid': '10.1.94.81', 'tid': 'driver:02000000ffffffffffffffffffffffffffffffff', 'ts': 1610382277442982.2, 'dur': 598.907470703125, 'ph': 'X', 'cname': 'background_memory_dump', 'args': {}}, {'cat': 'submit_task', 'name': 'submit_task', 'pid': '10.1.94.81', 'tid': 'driver:02000000ffffffffffffffffffffffffffffffff', 'ts': 1610382277443709.8, 'dur': 181.67495727539062, 'ph': 'X', 'cname': 'background_memory_dump', 'args': {}}, {'cat': 'submit_task', 'name': 'submit_task', 'pid': '10.1.94.81', 'tid': 'driver:02000000ffffffffffffffffffffffffffffffff', 'ts': 1610382277443982.2, 'dur': 140.19012451171875, 'ph': 'X', 'cname': 'background_memory_dump', 'args': {}}, {'cat': 'submit_task', 'name': 'submit_task', 'pid': '10.1.94.81', 'tid': 'driver:02000000ffffffffffffffffffffffffffffffff', 'ts': 1610382277444204.0, 'dur': 208.6162567138672, 'ph': 'X', 'cname': 'background_memory_dump', 'args': {}}, {'cat': 'fetch_and_run_function', 'name': 'fetch_and_run_function', 'pid': '10.1.94.81', 'tid': 'worker:581e9b44cfc65279c32a4e4e9cf3609a6bc934d8', 'ts': 1610382278596499.2, 'dur': 421.5240478515625, 'ph': 'X', 'cname': 'detailed_memory_dump', 'args': {}}, {'cat': 'fetch_and_run_function', 'name': 'fetch_and_run_function', 'pid': '10.1.94.81', 'tid': 'worker:581e9b44cfc65279c32a4e4e9cf3609a6bc934d8', 'ts': 1610382278596935.5, 'dur': 292.5395965576172, 'ph': 'X', 'cname': 'detailed_memory_dump', 'args': {}}, {'cat': 'fetch_and_run_function', 'name': 'fetch_and_run_function', 'pid': '10.1.94.81', 'tid': 'worker:581e9b44cfc65279c32a4e4e9cf3609a6bc934d8', 'ts': 1610382278597926.5, 'dur': 298.2616424560547, 'ph': 'X', 'cname': 'detailed_memory_dump', 'args': {}}, {'cat': 'fetch_and_run_function', 'name': 'fetch_and_run_function', 'pid': '10.1.94.81', 'tid': 'worker:581e9b44cfc65279c32a4e4e9cf3609a6bc934d8', 'ts': 1610382278598236.2, 'dur': 262.0220184326172, 'ph': 'X', 'cname': 'detailed_memory_dump', 'args': {}}, {'cat': 'fetch_and_run_function', 'name': 'fetch_and_run_function', 'pid': '10.1.94.81', 'tid': 'worker:4988e95ced70b51a546ca8153043d5aedecd820a', 'ts': 1610382278207021.0, 'dur': 426.29241943359375, 'ph': 'X', 'cname': 'detailed_memory_dump', 'args': {}}, {'cat': 'fetch_and_run_function', 'name': 'fetch_and_run_function', 'pid': '10.1.94.81', 'tid': 'worker:4988e95ced70b51a546ca8153043d5aedecd820a', 'ts': 1610382278207458.8, 'dur': 290.3938293457031, 'ph': 'X', 'cname': 'detailed_memory_dump', 'args': {}}, {'cat': 'fetch_and_run_function', 'name': 'fetch_and_run_function', 'pid': '10.1.94.81', 'tid': 'worker:4988e95ced70b51a546ca8153043d5aedecd820a', 'ts': 1610382278209071.2, 'dur': 1485.8245849609375, 'ph': 'X', 'cname': 'detailed_memory_dump', 'args': {}}, {'cat': 'fetch_and_run_function', 'name': 'fetch_and_run_function', 'pid': '10.1.94.81', 'tid': 'worker:4988e95ced70b51a546ca8153043d5aedecd820a', 'ts': 1610382278210566.2, 'dur': 281.5723419189453, 'ph': 'X', 'cname': 'detailed_memory_dump', 'args': {}}, {'cat': 'wait_for_function', 'name': 'wait_for_function', 'pid': '10.1.94.81', 'tid': 'worker:4988e95ced70b51a546ca8153043d5aedecd820a', 'ts': 1610382278206873.5, 'dur': 4832.983016967773, 'ph': 'X', 'cname': 'detailed_memory_dump', 'args': {}}, {'cat': 'task:deserialize_arguments', 'name': 'task:deserialize_arguments', 'pid': '10.1.94.81', 'tid': 'worker:4988e95ced70b51a546ca8153043d5aedecd820a', 'ts': 1610382278212091.8, 'dur': 262.0220184326172, 'ph': 'X', 'cname': 'rail_load', 'args': {}}, {'cat': 'task:execute', 'name': 'task:execute', 'pid': '10.1.94.81', 'tid': 'worker:e12d4cbab26fc668a6b0e8ac7a28ba16c06041ef', 'ts': 1610382277812400.8, 'dur': 1001330.6140899658, 'ph': 'X', 'cname': 'rail_animation', 'args': {}}, {'cat': 'task:store_outputs', 'name': 'task:store_outputs', 'pid': '10.1.94.81', 'tid': 'worker:e12d4cbab26fc668a6b0e8ac7a28ba16c06041ef', 'ts': 1610382278813755.2, 'dur': 410.7952117919922, 'ph': 'X', 'cname': 'rail_idle', 'args': {}}, {'cat': 'task', 'name': 'task', 'pid': '10.1.94.81', 'tid': 'worker:e12d4cbab26fc668a6b0e8ac7a28ba16c06041ef', 'ts': 1610382277811952.0, 'dur': 1002217.5312042236, 'ph': 'X', 'cname': 'rail_response', 'args': {}}, {'cat': 'fetch_and_run_function', 'name': 'fetch_and_run_function', 'pid': '10.1.94.81', 'tid': 'worker:e12d4cbab26fc668a6b0e8ac7a28ba16c06041ef', 'ts': 1610382277809043.0, 'dur': 439.4054412841797, 'ph': 'X', 'cname': 'detailed_memory_dump', 'args': {}}, {'cat': 'fetch_and_run_function', 'name': 'fetch_and_run_function', 'pid': '10.1.94.81', 'tid': 'worker:e12d4cbab26fc668a6b0e8ac7a28ba16c06041ef', 'ts': 1610382277809492.5, 'dur': 487.32757568359375, 'ph': 'X', 'cname': 'detailed_memory_dump', 'args': {}}, {'cat': 'fetch_and_run_function', 'name': 'fetch_and_run_function', 'pid': '10.1.94.81', 'tid': 'worker:e12d4cbab26fc668a6b0e8ac7a28ba16c06041ef', 'ts': 1610382277810747.0, 'dur': 195.2648162841797, 'ph': 'X', 'cname': 'detailed_memory_dump', 'args': {}}, {'cat': 'fetch_and_run_function', 'name': 'fetch_and_run_function', 'pid': '10.1.94.81', 'tid': 'worker:e12d4cbab26fc668a6b0e8ac7a28ba16c06041ef', 'ts': 1610382277810949.0, 'dur': 241.5180206298828, 'ph': 'X', 'cname': 'detailed_memory_dump', 'args': {}}, {'cat': 'wait_for_function', 'name': 'wait_for_function', 'pid': '10.1.94.81', 'tid': 'worker:e12d4cbab26fc668a6b0e8ac7a28ba16c06041ef', 'ts': 1610382277809706.2, 'dur': 2223.491668701172, 'ph': 'X', 'cname': 'detailed_memory_dump', 'args': {}}, {'cat': 'task:deserialize_arguments', 'name': 'task:deserialize_arguments', 'pid': '10.1.94.81', 'tid': 'worker:e12d4cbab26fc668a6b0e8ac7a28ba16c06041ef', 'ts': 1610382277812180.5, 'dur': 216.48406982421875, 'ph': 'X', 'cname': 'rail_load', 'args': {}}, {'cat': 'fetch_and_run_function', 'name': 'fetch_and_run_function', 'pid': '10.1.94.81', 'tid': 'worker:b50584a579a68279d5c0cd2875af7aeb038ba659', 'ts': 1610382278499658.5, 'dur': 265.8367156982422, 'ph': 'X', 'cname': 'detailed_memory_dump', 'args': {}}, {'cat': 'fetch_and_run_function', 'name': 'fetch_and_run_function', 'pid': '10.1.94.81', 'tid': 'worker:b50584a579a68279d5c0cd2875af7aeb038ba659', 'ts': 1610382278499933.2, 'dur': 194.31114196777344, 'ph': 'X', 'cname': 'detailed_memory_dump', 'args': {}}, {'cat': 'fetch_and_run_function', 'name': 'fetch_and_run_function', 'pid': '10.1.94.81', 'tid': 'worker:b50584a579a68279d5c0cd2875af7aeb038ba659', 'ts': 1610382278500461.5, 'dur': 140.19012451171875, 'ph': 'X', 'cname': 'detailed_memory_dump', 'args': {}}, {'cat': 'fetch_and_run_function', 'name': 'fetch_and_run_function', 'pid': '10.1.94.81', 'tid': 'worker:b50584a579a68279d5c0cd2875af7aeb038ba659', 'ts': 1610382278500606.8, 'dur': 129.46128845214844, 'ph': 'X', 'cname': 'detailed_memory_dump', 'args': {}}, {'cat': 'fetch_and_run_function', 'name': 'fetch_and_run_function', 'pid': '10.1.94.81', 'tid': 'worker:fe75b3c7a5dbe6469caa7dd49afad141bc85105e', 'ts': 1610382278192454.0, 'dur': 254.15420532226562, 'ph': 'X', 'cname': 'detailed_memory_dump', 'args': {}}, {'cat': 'fetch_and_run_function', 'name': 'fetch_and_run_function', 'pid': '10.1.94.81', 'tid': 'worker:fe75b3c7a5dbe6469caa7dd49afad141bc85105e', 'ts': 1610382278192717.5, 'dur': 295.40061950683594, 'ph': 'X', 'cname': 'detailed_memory_dump', 'args': {}}, {'cat': 'fetch_and_run_function', 'name': 'fetch_and_run_function', 'pid': '10.1.94.81', 'tid': 'worker:fe75b3c7a5dbe6469caa7dd49afad141bc85105e', 'ts': 1610382278193501.8, 'dur': 216.48406982421875, 'ph': 'X', 'cname': 'detailed_memory_dump', 'args': {}}, {'cat': 'fetch_and_run_function', 'name': 'fetch_and_run_function', 'pid': '10.1.94.81', 'tid': 'worker:fe75b3c7a5dbe6469caa7dd49afad141bc85105e', 'ts': 1610382278193726.8, 'dur': 197.6490020751953, 'ph': 'X', 'cname': 'detailed_memory_dump', 'args': {}}, {'cat': 'wait_for_function', 'name': 'wait_for_function', 'pid': '10.1.94.81', 'tid': 'worker:fe75b3c7a5dbe6469caa7dd49afad141bc85105e', 'ts': 1610382278193189.5, 'dur': 2247.0951080322266, 'ph': 'X', 'cname': 'detailed_memory_dump', 'args': {}}, {'cat': 'task:deserialize_arguments', 'name': 'task:deserialize_arguments', 'pid': '10.1.94.81', 'tid': 'worker:fe75b3c7a5dbe6469caa7dd49afad141bc85105e', 'ts': 1610382278195712.8, 'dur': 213.38462829589844, 'ph': 'X', 'cname': 'rail_load', 'args': {}}, {'cat': 'fetch_and_run_function', 'name': 'fetch_and_run_function', 'pid': '10.1.94.81', 'tid': 'worker:e5d605a5fb7323edc1de10ad971ed73dd4ece6d6', 'ts': 1610382278212922.8, 'dur': 267.26722717285156, 'ph': 'X', 'cname': 'detailed_memory_dump', 'args': {}}, {'cat': 'fetch_and_run_function', 'name': 'fetch_and_run_function', 'pid': '10.1.94.81', 'tid': 'worker:e5d605a5fb7323edc1de10ad971ed73dd4ece6d6', 'ts': 1610382278213199.5, 'dur': 189.78118896484375, 'ph': 'X', 'cname': 'detailed_memory_dump', 'args': {}}, {'cat': 'fetch_and_run_function', 'name': 'fetch_and_run_function', 'pid': '10.1.94.81', 'tid': 'worker:e5d605a5fb7323edc1de10ad971ed73dd4ece6d6', 'ts': 1610382278213721.8, 'dur': 175.95291137695312, 'ph': 'X', 'cname': 'detailed_memory_dump', 'args': {}}, {'cat': 'fetch_and_run_function', 'name': 'fetch_and_run_function', 'pid': '10.1.94.81', 'tid': 'worker:e5d605a5fb7323edc1de10ad971ed73dd4ece6d6', 'ts': 1610382278213905.5, 'dur': 166.41616821289062, 'ph': 'X', 'cname': 'detailed_memory_dump', 'args': {}}, {'cat': 'wait_for_function', 'name': 'wait_for_function', 'pid': '10.1.94.81', 'tid': 'worker:e5d605a5fb7323edc1de10ad971ed73dd4ece6d6', 'ts': 1610382278214728.5, 'dur': 43.15376281738281, 'ph': 'X', 'cname': 'detailed_memory_dump', 'args': {}}, {'cat': 'task:deserialize_arguments', 'name': 'task:deserialize_arguments', 'pid': '10.1.94.81', 'tid': 'worker:e5d605a5fb7323edc1de10ad971ed73dd4ece6d6', 'ts': 1610382278215053.2, 'dur': 278.472900390625, 'ph': 'X', 'cname': 'rail_load', 'args': {}}]\n"
     ]
    }
   ],
   "source": [
    "ray.timeline()"
   ]
  },
  {
   "cell_type": "markdown",
   "metadata": {},
   "source": [
    "Below is a serial implementation of a simple **reduce** function. Note that Python has a [built-in reduce function](https://docs.python.org/2/library/functions.html#reduce).\n",
    "\n",
    "The reduce function essentially aggregates all of the elements in a list (e.g., by summing them together)."
   ]
  },
  {
   "cell_type": "code",
   "execution_count": 8,
   "metadata": {},
   "outputs": [],
   "source": [
    "def reduce_serial(function, xs):\n",
    "    if len(xs) == 1:\n",
    "        return xs[0]\n",
    "    \n",
    "    result = xs[0]\n",
    "    for i in range(1, len(xs)):\n",
    "        result = function(result, xs[i])\n",
    "\n",
    "    return result\n",
    "\n",
    "\n",
    "def add_regular(x, y):\n",
    "    time.sleep(0.3)\n",
    "    return x + y\n",
    "\n",
    "\n",
    "assert reduce_serial(add_regular, [1, 2, 3, 4, 5, 6, 7, 8]) == 36"
   ]
  },
  {
   "cell_type": "markdown",
   "metadata": {},
   "source": [
    "**EXERCISE:** Implement `reduce_parallel` below by modifying the serial reduce implementation to simply invoke `function` remotely (via `function.remote`).\n",
    "\n",
    "Note that the underlying assumption here is that **function** is commutative and associative. That is, it shouldn't matter what order the elements are aggregated in (this is necessary for achieving parallelism)."
   ]
  },
  {
   "cell_type": "code",
   "execution_count": 9,
   "metadata": {},
   "outputs": [],
   "source": [
    "def reduce_parallel(function, xs):\n",
    "    if not isinstance(xs, list):\n",
    "        raise ValueError('The xs argument must be a list.')\n",
    "\n",
    "    if not hasattr(function, 'remote'):\n",
    "        raise ValueError('The function argument must be a remote function.')\n",
    "\n",
    "    if len(xs) == 1:\n",
    "        return xs[0]\n",
    "\n",
    "    result = xs[0]\n",
    "    for i in range(1, len(xs)):\n",
    "        result = function.remote(result, xs[i])\n",
    "\n",
    "    return result\n",
    "\n",
    "\n",
    "@ray.remote\n",
    "def add_remote(x, y):\n",
    "    time.sleep(0.3)\n",
    "    return x + y"
   ]
  },
  {
   "cell_type": "code",
   "execution_count": 10,
   "metadata": {
    "workflow": {
     "step": {
      "in": [
       {
        "name": "ray",
        "serializer": "ray",
        "type": "name"
       },
       {
        "name": "add_remote",
        "serializer": {
         "postload": "import ray;\noriginal_function = add_remote._function\noriginal_function.__module__ = '__main__'\nadd_remote = ray.remote(original_function)"
        },
        "type": "name"
       }
      ]
     },
     "target": {
      "model": "ray",
      "service": "ray-head"
     }
    }
   },
   "outputs": [
    {
     "name": "stdout",
     "output_type": "stream",
     "text": [
      "Congratulations, the test passed!\n"
     ]
    }
   ],
   "source": [
    "xs = [1, 2, 3, 4, 5, 6, 7, 8]\n",
    "result_id = reduce_parallel(add_remote, xs)\n",
    "assert ray.get(result_id) == reduce_serial(add_regular, xs)\n",
    "print('Congratulations, the test passed!')"
   ]
  },
  {
   "cell_type": "markdown",
   "metadata": {},
   "source": [
    "**EXERCISE:** Take a look at the timeline for the above computation graph from the call to `reduce_parallel`. Is there any parallelism?"
   ]
  },
  {
   "cell_type": "code",
   "execution_count": 11,
   "metadata": {
    "workflow": {
     "step": {
      "in": [
       {
        "name": "ray",
        "serializer": "ray",
        "type": "name"
       }
      ]
     },
     "target": {
      "model": "ray",
      "service": "ray-head"
     }
    }
   },
   "outputs": [
    {
     "name": "stdout",
     "output_type": "stream",
     "text": [
      "[{'cat': 'fetch_and_run_function', 'name': 'fetch_and_run_function', 'pid': '10.1.94.81', 'tid': 'driver:02000000ffffffffffffffffffffffffffffffff', 'ts': 1610382273428046.8, 'dur': 5508.4228515625, 'ph': 'X', 'cname': 'detailed_memory_dump', 'args': {}}, {'cat': 'fetch_and_run_function', 'name': 'fetch_and_run_function', 'pid': '10.1.94.81', 'tid': 'driver:02000000ffffffffffffffffffffffffffffffff', 'ts': 1610382273433568.8, 'dur': 1355.886459350586, 'ph': 'X', 'cname': 'detailed_memory_dump', 'args': {}}, {'cat': 'fetch_and_run_function', 'name': 'fetch_and_run_function', 'pid': '10.1.94.81', 'tid': 'driver:02000000ffffffffffffffffffffffffffffffff', 'ts': 1610382273435480.0, 'dur': 223.39820861816406, 'ph': 'X', 'cname': 'detailed_memory_dump', 'args': {}}, {'cat': 'fetch_and_run_function', 'name': 'fetch_and_run_function', 'pid': '10.1.94.81', 'tid': 'driver:02000000ffffffffffffffffffffffffffffffff', 'ts': 1610382273435999.8, 'dur': 198.84109497070312, 'ph': 'X', 'cname': 'detailed_memory_dump', 'args': {}}, {'cat': 'submit_task', 'name': 'submit_task', 'pid': '10.1.94.81', 'tid': 'driver:02000000ffffffffffffffffffffffffffffffff', 'ts': 1610382277442982.2, 'dur': 598.907470703125, 'ph': 'X', 'cname': 'background_memory_dump', 'args': {}}, {'cat': 'submit_task', 'name': 'submit_task', 'pid': '10.1.94.81', 'tid': 'driver:02000000ffffffffffffffffffffffffffffffff', 'ts': 1610382277443709.8, 'dur': 181.67495727539062, 'ph': 'X', 'cname': 'background_memory_dump', 'args': {}}, {'cat': 'submit_task', 'name': 'submit_task', 'pid': '10.1.94.81', 'tid': 'driver:02000000ffffffffffffffffffffffffffffffff', 'ts': 1610382277443982.2, 'dur': 140.19012451171875, 'ph': 'X', 'cname': 'background_memory_dump', 'args': {}}, {'cat': 'submit_task', 'name': 'submit_task', 'pid': '10.1.94.81', 'tid': 'driver:02000000ffffffffffffffffffffffffffffffff', 'ts': 1610382277444204.0, 'dur': 208.6162567138672, 'ph': 'X', 'cname': 'background_memory_dump', 'args': {}}, {'cat': 'ray.get', 'name': 'ray.get', 'pid': '10.1.94.81', 'tid': 'driver:02000000ffffffffffffffffffffffffffffffff', 'ts': 1610382277445801.2, 'dur': 1776279.4494628906, 'ph': 'X', 'cname': 'good', 'args': {}}, {'cat': 'task:execute', 'name': 'task:execute', 'pid': '10.1.94.81', 'tid': 'worker:562c7d08c570d909bb2b801e7fdbdf00faaf2d6d', 'ts': 1610382303045800.2, 'dur': 300573.11058044434, 'ph': 'X', 'cname': 'rail_animation', 'args': {}}, {'cat': 'task:store_outputs', 'name': 'task:store_outputs', 'pid': '10.1.94.81', 'tid': 'worker:562c7d08c570d909bb2b801e7fdbdf00faaf2d6d', 'ts': 1610382303346395.2, 'dur': 150.91896057128906, 'ph': 'X', 'cname': 'rail_idle', 'args': {}}, {'cat': 'task', 'name': 'task', 'pid': '10.1.94.81', 'tid': 'worker:562c7d08c570d909bb2b801e7fdbdf00faaf2d6d', 'ts': 1610382303045580.8, 'dur': 300968.4085845947, 'ph': 'X', 'cname': 'rail_response', 'args': {}}, {'cat': 'task:deserialize_arguments', 'name': 'task:deserialize_arguments', 'pid': '10.1.94.81', 'tid': 'worker:562c7d08c570d909bb2b801e7fdbdf00faaf2d6d', 'ts': 1610382303349479.0, 'dur': 202.178955078125, 'ph': 'X', 'cname': 'rail_load', 'args': {}}, {'cat': 'task:execute', 'name': 'task:execute', 'pid': '10.1.94.81', 'tid': 'worker:562c7d08c570d909bb2b801e7fdbdf00faaf2d6d', 'ts': 1610382303349685.5, 'dur': 300532.57942199707, 'ph': 'X', 'cname': 'rail_animation', 'args': {}}, {'cat': 'task:store_outputs', 'name': 'task:store_outputs', 'pid': '10.1.94.81', 'tid': 'worker:562c7d08c570d909bb2b801e7fdbdf00faaf2d6d', 'ts': 1610382303650239.8, 'dur': 139.9517059326172, 'ph': 'X', 'cname': 'rail_idle', 'args': {}}, {'cat': 'task', 'name': 'task', 'pid': '10.1.94.81', 'tid': 'worker:562c7d08c570d909bb2b801e7fdbdf00faaf2d6d', 'ts': 1610382303349105.8, 'dur': 301277.16064453125, 'ph': 'X', 'cname': 'rail_response', 'args': {}}, {'cat': 'task:deserialize_arguments', 'name': 'task:deserialize_arguments', 'pid': '10.1.94.81', 'tid': 'worker:562c7d08c570d909bb2b801e7fdbdf00faaf2d6d', 'ts': 1610382303652449.5, 'dur': 209.0930938720703, 'ph': 'X', 'cname': 'rail_load', 'args': {}}, {'cat': 'task:execute', 'name': 'task:execute', 'pid': '10.1.94.81', 'tid': 'worker:562c7d08c570d909bb2b801e7fdbdf00faaf2d6d', 'ts': 1610382303652662.5, 'dur': 300542.59300231934, 'ph': 'X', 'cname': 'rail_animation', 'args': {}}, {'cat': 'task:store_outputs', 'name': 'task:store_outputs', 'pid': '10.1.94.81', 'tid': 'worker:562c7d08c570d909bb2b801e7fdbdf00faaf2d6d', 'ts': 1610382303953225.5, 'dur': 137.09068298339844, 'ph': 'X', 'cname': 'rail_idle', 'args': {}}, {'cat': 'task', 'name': 'task', 'pid': '10.1.94.81', 'tid': 'worker:562c7d08c570d909bb2b801e7fdbdf00faaf2d6d', 'ts': 1610382303652433.8, 'dur': 300931.9305419922, 'ph': 'X', 'cname': 'rail_response', 'args': {}}, {'cat': 'task:deserialize_arguments', 'name': 'task:deserialize_arguments', 'pid': '10.1.94.81', 'tid': 'worker:562c7d08c570d909bb2b801e7fdbdf00faaf2d6d', 'ts': 1610382303955625.2, 'dur': 230.0739288330078, 'ph': 'X', 'cname': 'rail_load', 'args': {}}, {'cat': 'task:execute', 'name': 'task:execute', 'pid': '10.1.94.81', 'tid': 'worker:562c7d08c570d909bb2b801e7fdbdf00faaf2d6d', 'ts': 1610382303955860.0, 'dur': 300572.15690612793, 'ph': 'X', 'cname': 'rail_animation', 'args': {}}, {'cat': 'task:store_outputs', 'name': 'task:store_outputs', 'pid': '10.1.94.81', 'tid': 'worker:562c7d08c570d909bb2b801e7fdbdf00faaf2d6d', 'ts': 1610382304256454.8, 'dur': 154.97207641601562, 'ph': 'X', 'cname': 'rail_idle', 'args': {}}, {'cat': 'task', 'name': 'task', 'pid': '10.1.94.81', 'tid': 'worker:562c7d08c570d909bb2b801e7fdbdf00faaf2d6d', 'ts': 1610382303955607.5, 'dur': 301005.36346435547, 'ph': 'X', 'cname': 'rail_response', 'args': {}}, {'cat': 'fetch_and_run_function', 'name': 'fetch_and_run_function', 'pid': '10.1.94.81', 'tid': 'worker:562c7d08c570d909bb2b801e7fdbdf00faaf2d6d', 'ts': 1610382302132518.0, 'dur': 293.731689453125, 'ph': 'X', 'cname': 'detailed_memory_dump', 'args': {}}, {'cat': 'fetch_and_run_function', 'name': 'fetch_and_run_function', 'pid': '10.1.94.81', 'tid': 'worker:562c7d08c570d909bb2b801e7fdbdf00faaf2d6d', 'ts': 1610382302132820.2, 'dur': 157.35626220703125, 'ph': 'X', 'cname': 'detailed_memory_dump', 'args': {}}, {'cat': 'fetch_and_run_function', 'name': 'fetch_and_run_function', 'pid': '10.1.94.81', 'tid': 'worker:562c7d08c570d909bb2b801e7fdbdf00faaf2d6d', 'ts': 1610382302133285.2, 'dur': 167.60826110839844, 'ph': 'X', 'cname': 'detailed_memory_dump', 'args': {}}, {'cat': 'fetch_and_run_function', 'name': 'fetch_and_run_function', 'pid': '10.1.94.81', 'tid': 'worker:562c7d08c570d909bb2b801e7fdbdf00faaf2d6d', 'ts': 1610382302133458.0, 'dur': 315.66619873046875, 'ph': 'X', 'cname': 'detailed_memory_dump', 'args': {}}, {'cat': 'fetch_and_run_function', 'name': 'fetch_and_run_function', 'pid': '10.1.94.81', 'tid': 'worker:562c7d08c570d909bb2b801e7fdbdf00faaf2d6d', 'ts': 1610382302134034.5, 'dur': 135.89859008789062, 'ph': 'X', 'cname': 'detailed_memory_dump', 'args': {}}, {'cat': 'fetch_and_run_function', 'name': 'fetch_and_run_function', 'pid': '10.1.94.81', 'tid': 'worker:562c7d08c570d909bb2b801e7fdbdf00faaf2d6d', 'ts': 1610382302134186.5, 'dur': 140.90538024902344, 'ph': 'X', 'cname': 'detailed_memory_dump', 'args': {}}, {'cat': 'fetch_and_run_function', 'name': 'fetch_and_run_function', 'pid': '10.1.94.81', 'tid': 'worker:562c7d08c570d909bb2b801e7fdbdf00faaf2d6d', 'ts': 1610382302134331.5, 'dur': 117.77877807617188, 'ph': 'X', 'cname': 'detailed_memory_dump', 'args': {}}, {'cat': 'fetch_and_run_function', 'name': 'fetch_and_run_function', 'pid': '10.1.94.81', 'tid': 'worker:562c7d08c570d909bb2b801e7fdbdf00faaf2d6d', 'ts': 1610382302134452.8, 'dur': 113.24882507324219, 'ph': 'X', 'cname': 'detailed_memory_dump', 'args': {}}, {'cat': 'wait_for_function', 'name': 'wait_for_function', 'pid': '10.1.94.81', 'tid': 'worker:562c7d08c570d909bb2b801e7fdbdf00faaf2d6d', 'ts': 1610382302133540.2, 'dur': 2204.418182373047, 'ph': 'X', 'cname': 'detailed_memory_dump', 'args': {}}, {'cat': 'task:deserialize_arguments', 'name': 'task:deserialize_arguments', 'pid': '10.1.94.81', 'tid': 'worker:562c7d08c570d909bb2b801e7fdbdf00faaf2d6d', 'ts': 1610382302135954.8, 'dur': 224.11346435546875, 'ph': 'X', 'cname': 'rail_load', 'args': {}}, {'cat': 'task:execute', 'name': 'task:execute', 'pid': '10.1.94.81', 'tid': 'worker:562c7d08c570d909bb2b801e7fdbdf00faaf2d6d', 'ts': 1610382302136181.2, 'dur': 300427.6752471924, 'ph': 'X', 'cname': 'rail_animation', 'args': {}}, {'cat': 'task:store_outputs', 'name': 'task:store_outputs', 'pid': '10.1.94.81', 'tid': 'worker:562c7d08c570d909bb2b801e7fdbdf00faaf2d6d', 'ts': 1610382302436624.0, 'dur': 176.6681671142578, 'ph': 'X', 'cname': 'rail_idle', 'args': {}}, {'cat': 'task', 'name': 'task', 'pid': '10.1.94.81', 'tid': 'worker:562c7d08c570d909bb2b801e7fdbdf00faaf2d6d', 'ts': 1610382302135773.5, 'dur': 301030.39741516113, 'ph': 'X', 'cname': 'rail_response', 'args': {}}, {'cat': 'task:deserialize_arguments', 'name': 'task:deserialize_arguments', 'pid': '10.1.94.81', 'tid': 'worker:562c7d08c570d909bb2b801e7fdbdf00faaf2d6d', 'ts': 1610382302439343.2, 'dur': 282.7644348144531, 'ph': 'X', 'cname': 'rail_load', 'args': {}}, {'cat': 'task:execute', 'name': 'task:execute', 'pid': '10.1.94.81', 'tid': 'worker:562c7d08c570d909bb2b801e7fdbdf00faaf2d6d', 'ts': 1610382302439632.2, 'dur': 300444.1261291504, 'ph': 'X', 'cname': 'rail_animation', 'args': {}}, {'cat': 'task:store_outputs', 'name': 'task:store_outputs', 'pid': '10.1.94.81', 'tid': 'worker:562c7d08c570d909bb2b801e7fdbdf00faaf2d6d', 'ts': 1610382302740092.2, 'dur': 162.8398895263672, 'ph': 'X', 'cname': 'rail_idle', 'args': {}}, {'cat': 'task', 'name': 'task', 'pid': '10.1.94.81', 'tid': 'worker:562c7d08c570d909bb2b801e7fdbdf00faaf2d6d', 'ts': 1610382302439326.2, 'dur': 300931.9305419922, 'ph': 'X', 'cname': 'rail_response', 'args': {}}, {'cat': 'task:deserialize_arguments', 'name': 'task:deserialize_arguments', 'pid': '10.1.94.81', 'tid': 'worker:562c7d08c570d909bb2b801e7fdbdf00faaf2d6d', 'ts': 1610382302742613.0, 'dur': 212.19253540039062, 'ph': 'X', 'cname': 'rail_load', 'args': {}}, {'cat': 'task:execute', 'name': 'task:execute', 'pid': '10.1.94.81', 'tid': 'worker:562c7d08c570d909bb2b801e7fdbdf00faaf2d6d', 'ts': 1610382302742829.5, 'dur': 300466.77589416504, 'ph': 'X', 'cname': 'rail_animation', 'args': {}}, {'cat': 'task:store_outputs', 'name': 'task:store_outputs', 'pid': '10.1.94.81', 'tid': 'worker:562c7d08c570d909bb2b801e7fdbdf00faaf2d6d', 'ts': 1610382303043314.5, 'dur': 138.99803161621094, 'ph': 'X', 'cname': 'rail_idle', 'args': {}}, {'cat': 'task', 'name': 'task', 'pid': '10.1.94.81', 'tid': 'worker:562c7d08c570d909bb2b801e7fdbdf00faaf2d6d', 'ts': 1610382302742596.2, 'dur': 300860.4049682617, 'ph': 'X', 'cname': 'rail_response', 'args': {}}, {'cat': 'task:deserialize_arguments', 'name': 'task:deserialize_arguments', 'pid': '10.1.94.81', 'tid': 'worker:562c7d08c570d909bb2b801e7fdbdf00faaf2d6d', 'ts': 1610382303045595.8, 'dur': 200.74844360351562, 'ph': 'X', 'cname': 'rail_load', 'args': {}}, {'cat': 'fetch_and_run_function', 'name': 'fetch_and_run_function', 'pid': '10.1.94.81', 'tid': 'worker:fe75b3c7a5dbe6469caa7dd49afad141bc85105e', 'ts': 1610382278192454.0, 'dur': 254.15420532226562, 'ph': 'X', 'cname': 'detailed_memory_dump', 'args': {}}, {'cat': 'fetch_and_run_function', 'name': 'fetch_and_run_function', 'pid': '10.1.94.81', 'tid': 'worker:fe75b3c7a5dbe6469caa7dd49afad141bc85105e', 'ts': 1610382278192717.5, 'dur': 295.40061950683594, 'ph': 'X', 'cname': 'detailed_memory_dump', 'args': {}}, {'cat': 'fetch_and_run_function', 'name': 'fetch_and_run_function', 'pid': '10.1.94.81', 'tid': 'worker:fe75b3c7a5dbe6469caa7dd49afad141bc85105e', 'ts': 1610382278193501.8, 'dur': 216.48406982421875, 'ph': 'X', 'cname': 'detailed_memory_dump', 'args': {}}, {'cat': 'fetch_and_run_function', 'name': 'fetch_and_run_function', 'pid': '10.1.94.81', 'tid': 'worker:fe75b3c7a5dbe6469caa7dd49afad141bc85105e', 'ts': 1610382278193726.8, 'dur': 197.6490020751953, 'ph': 'X', 'cname': 'detailed_memory_dump', 'args': {}}, {'cat': 'wait_for_function', 'name': 'wait_for_function', 'pid': '10.1.94.81', 'tid': 'worker:fe75b3c7a5dbe6469caa7dd49afad141bc85105e', 'ts': 1610382278193189.5, 'dur': 2247.0951080322266, 'ph': 'X', 'cname': 'detailed_memory_dump', 'args': {}}, {'cat': 'task:deserialize_arguments', 'name': 'task:deserialize_arguments', 'pid': '10.1.94.81', 'tid': 'worker:fe75b3c7a5dbe6469caa7dd49afad141bc85105e', 'ts': 1610382278195712.8, 'dur': 213.38462829589844, 'ph': 'X', 'cname': 'rail_load', 'args': {}}, {'cat': 'fetch_and_run_function', 'name': 'fetch_and_run_function', 'pid': '10.1.94.81', 'tid': 'worker:e12d4cbab26fc668a6b0e8ac7a28ba16c06041ef', 'ts': 1610382277809043.0, 'dur': 439.4054412841797, 'ph': 'X', 'cname': 'detailed_memory_dump', 'args': {}}, {'cat': 'fetch_and_run_function', 'name': 'fetch_and_run_function', 'pid': '10.1.94.81', 'tid': 'worker:e12d4cbab26fc668a6b0e8ac7a28ba16c06041ef', 'ts': 1610382277809492.5, 'dur': 487.32757568359375, 'ph': 'X', 'cname': 'detailed_memory_dump', 'args': {}}, {'cat': 'fetch_and_run_function', 'name': 'fetch_and_run_function', 'pid': '10.1.94.81', 'tid': 'worker:e12d4cbab26fc668a6b0e8ac7a28ba16c06041ef', 'ts': 1610382277810747.0, 'dur': 195.2648162841797, 'ph': 'X', 'cname': 'detailed_memory_dump', 'args': {}}, {'cat': 'fetch_and_run_function', 'name': 'fetch_and_run_function', 'pid': '10.1.94.81', 'tid': 'worker:e12d4cbab26fc668a6b0e8ac7a28ba16c06041ef', 'ts': 1610382277810949.0, 'dur': 241.5180206298828, 'ph': 'X', 'cname': 'detailed_memory_dump', 'args': {}}, {'cat': 'wait_for_function', 'name': 'wait_for_function', 'pid': '10.1.94.81', 'tid': 'worker:e12d4cbab26fc668a6b0e8ac7a28ba16c06041ef', 'ts': 1610382277809706.2, 'dur': 2223.491668701172, 'ph': 'X', 'cname': 'detailed_memory_dump', 'args': {}}, {'cat': 'task:deserialize_arguments', 'name': 'task:deserialize_arguments', 'pid': '10.1.94.81', 'tid': 'worker:e12d4cbab26fc668a6b0e8ac7a28ba16c06041ef', 'ts': 1610382277812180.5, 'dur': 216.48406982421875, 'ph': 'X', 'cname': 'rail_load', 'args': {}}, {'cat': 'task:execute', 'name': 'task:execute', 'pid': '10.1.94.81', 'tid': 'worker:e12d4cbab26fc668a6b0e8ac7a28ba16c06041ef', 'ts': 1610382277812400.8, 'dur': 1001330.6140899658, 'ph': 'X', 'cname': 'rail_animation', 'args': {}}, {'cat': 'task:store_outputs', 'name': 'task:store_outputs', 'pid': '10.1.94.81', 'tid': 'worker:e12d4cbab26fc668a6b0e8ac7a28ba16c06041ef', 'ts': 1610382278813755.2, 'dur': 410.7952117919922, 'ph': 'X', 'cname': 'rail_idle', 'args': {}}, {'cat': 'task', 'name': 'task', 'pid': '10.1.94.81', 'tid': 'worker:e12d4cbab26fc668a6b0e8ac7a28ba16c06041ef', 'ts': 1610382277811952.0, 'dur': 1002217.5312042236, 'ph': 'X', 'cname': 'rail_response', 'args': {}}, {'cat': 'fetch_and_run_function', 'name': 'fetch_and_run_function', 'pid': '10.1.94.81', 'tid': 'worker:b50584a579a68279d5c0cd2875af7aeb038ba659', 'ts': 1610382278499658.5, 'dur': 265.8367156982422, 'ph': 'X', 'cname': 'detailed_memory_dump', 'args': {}}, {'cat': 'fetch_and_run_function', 'name': 'fetch_and_run_function', 'pid': '10.1.94.81', 'tid': 'worker:b50584a579a68279d5c0cd2875af7aeb038ba659', 'ts': 1610382278499933.2, 'dur': 194.31114196777344, 'ph': 'X', 'cname': 'detailed_memory_dump', 'args': {}}, {'cat': 'fetch_and_run_function', 'name': 'fetch_and_run_function', 'pid': '10.1.94.81', 'tid': 'worker:b50584a579a68279d5c0cd2875af7aeb038ba659', 'ts': 1610382278500461.5, 'dur': 140.19012451171875, 'ph': 'X', 'cname': 'detailed_memory_dump', 'args': {}}, {'cat': 'fetch_and_run_function', 'name': 'fetch_and_run_function', 'pid': '10.1.94.81', 'tid': 'worker:b50584a579a68279d5c0cd2875af7aeb038ba659', 'ts': 1610382278500606.8, 'dur': 129.46128845214844, 'ph': 'X', 'cname': 'detailed_memory_dump', 'args': {}}, {'cat': 'ray.get', 'name': 'ray.get', 'pid': '10.1.94.81', 'tid': 'driver:04000000ffffffffffffffffffffffffffffffff', 'ts': 1610382301748795.5, 'dur': 2510013.8187408447, 'ph': 'X', 'cname': 'good', 'args': {}}, {'cat': 'fetch_and_run_function', 'name': 'fetch_and_run_function', 'pid': '10.1.94.81', 'tid': 'driver:04000000ffffffffffffffffffffffffffffffff', 'ts': 1610382301739097.2, 'dur': 1478.433609008789, 'ph': 'X', 'cname': 'detailed_memory_dump', 'args': {}}, {'cat': 'fetch_and_run_function', 'name': 'fetch_and_run_function', 'pid': '10.1.94.81', 'tid': 'driver:04000000ffffffffffffffffffffffffffffffff', 'ts': 1610382301740591.2, 'dur': 303.03001403808594, 'ph': 'X', 'cname': 'detailed_memory_dump', 'args': {}}, {'cat': 'fetch_and_run_function', 'name': 'fetch_and_run_function', 'pid': '10.1.94.81', 'tid': 'driver:04000000ffffffffffffffffffffffffffffffff', 'ts': 1610382301743956.2, 'dur': 598.1922149658203, 'ph': 'X', 'cname': 'detailed_memory_dump', 'args': {}}, {'cat': 'submit_task', 'name': 'submit_task', 'pid': '10.1.94.81', 'tid': 'driver:04000000ffffffffffffffffffffffffffffffff', 'ts': 1610382301744151.2, 'dur': 462.7704620361328, 'ph': 'X', 'cname': 'background_memory_dump', 'args': {}}, {'cat': 'submit_task', 'name': 'submit_task', 'pid': '10.1.94.81', 'tid': 'driver:04000000ffffffffffffffffffffffffffffffff', 'ts': 1610382301744702.5, 'dur': 195.50323486328125, 'ph': 'X', 'cname': 'background_memory_dump', 'args': {}}, {'cat': 'fetch_and_run_function', 'name': 'fetch_and_run_function', 'pid': '10.1.94.81', 'tid': 'driver:04000000ffffffffffffffffffffffffffffffff', 'ts': 1610382301744564.0, 'dur': 2131.938934326172, 'ph': 'X', 'cname': 'detailed_memory_dump', 'args': {}}, {'cat': 'submit_task', 'name': 'submit_task', 'pid': '10.1.94.81', 'tid': 'driver:04000000ffffffffffffffffffffffffffffffff', 'ts': 1610382301745220.2, 'dur': 1666.3074493408203, 'ph': 'X', 'cname': 'background_memory_dump', 'args': {}}, {'cat': 'submit_task', 'name': 'submit_task', 'pid': '10.1.94.81', 'tid': 'driver:04000000ffffffffffffffffffffffffffffffff', 'ts': 1610382301747004.2, 'dur': 373.1250762939453, 'ph': 'X', 'cname': 'background_memory_dump', 'args': {}}, {'cat': 'submit_task', 'name': 'submit_task', 'pid': '10.1.94.81', 'tid': 'driver:04000000ffffffffffffffffffffffffffffffff', 'ts': 1610382301747465.0, 'dur': 430.82237243652344, 'ph': 'X', 'cname': 'background_memory_dump', 'args': {}}, {'cat': 'fetch_and_run_function', 'name': 'fetch_and_run_function', 'pid': '10.1.94.81', 'tid': 'driver:04000000ffffffffffffffffffffffffffffffff', 'ts': 1610382301748096.2, 'dur': 262.7372741699219, 'ph': 'X', 'cname': 'detailed_memory_dump', 'args': {}}, {'cat': 'submit_task', 'name': 'submit_task', 'pid': '10.1.94.81', 'tid': 'driver:04000000ffffffffffffffffffffffffffffffff', 'ts': 1610382301747970.8, 'dur': 439.64385986328125, 'ph': 'X', 'cname': 'background_memory_dump', 'args': {}}, {'cat': 'submit_task', 'name': 'submit_task', 'pid': '10.1.94.81', 'tid': 'driver:04000000ffffffffffffffffffffffffffffffff', 'ts': 1610382301748473.2, 'dur': 158.07151794433594, 'ph': 'X', 'cname': 'background_memory_dump', 'args': {}}, {'cat': 'fetch_and_run_function', 'name': 'fetch_and_run_function', 'pid': '10.1.94.81', 'tid': 'driver:04000000ffffffffffffffffffffffffffffffff', 'ts': 1610382301748366.8, 'dur': 541.2101745605469, 'ph': 'X', 'cname': 'detailed_memory_dump', 'args': {}}, {'cat': 'fetch_and_run_function', 'name': 'fetch_and_run_function', 'pid': '10.1.94.81', 'tid': 'driver:04000000ffffffffffffffffffffffffffffffff', 'ts': 1610382301749200.8, 'dur': 216.7224884033203, 'ph': 'X', 'cname': 'detailed_memory_dump', 'args': {}}, {'cat': 'fetch_and_run_function', 'name': 'fetch_and_run_function', 'pid': '10.1.94.81', 'tid': 'driver:04000000ffffffffffffffffffffffffffffffff', 'ts': 1610382301749546.0, 'dur': 185.96649169921875, 'ph': 'X', 'cname': 'detailed_memory_dump', 'args': {}}, {'cat': 'fetch_and_run_function', 'name': 'fetch_and_run_function', 'pid': '10.1.94.81', 'tid': 'worker:e5d605a5fb7323edc1de10ad971ed73dd4ece6d6', 'ts': 1610382278212922.8, 'dur': 267.26722717285156, 'ph': 'X', 'cname': 'detailed_memory_dump', 'args': {}}, {'cat': 'fetch_and_run_function', 'name': 'fetch_and_run_function', 'pid': '10.1.94.81', 'tid': 'worker:e5d605a5fb7323edc1de10ad971ed73dd4ece6d6', 'ts': 1610382278213199.5, 'dur': 189.78118896484375, 'ph': 'X', 'cname': 'detailed_memory_dump', 'args': {}}, {'cat': 'fetch_and_run_function', 'name': 'fetch_and_run_function', 'pid': '10.1.94.81', 'tid': 'worker:e5d605a5fb7323edc1de10ad971ed73dd4ece6d6', 'ts': 1610382278213721.8, 'dur': 175.95291137695312, 'ph': 'X', 'cname': 'detailed_memory_dump', 'args': {}}, {'cat': 'fetch_and_run_function', 'name': 'fetch_and_run_function', 'pid': '10.1.94.81', 'tid': 'worker:e5d605a5fb7323edc1de10ad971ed73dd4ece6d6', 'ts': 1610382278213905.5, 'dur': 166.41616821289062, 'ph': 'X', 'cname': 'detailed_memory_dump', 'args': {}}, {'cat': 'wait_for_function', 'name': 'wait_for_function', 'pid': '10.1.94.81', 'tid': 'worker:e5d605a5fb7323edc1de10ad971ed73dd4ece6d6', 'ts': 1610382278214728.5, 'dur': 43.15376281738281, 'ph': 'X', 'cname': 'detailed_memory_dump', 'args': {}}, {'cat': 'task:deserialize_arguments', 'name': 'task:deserialize_arguments', 'pid': '10.1.94.81', 'tid': 'worker:e5d605a5fb7323edc1de10ad971ed73dd4ece6d6', 'ts': 1610382278215053.2, 'dur': 278.472900390625, 'ph': 'X', 'cname': 'rail_load', 'args': {}}, {'cat': 'fetch_and_run_function', 'name': 'fetch_and_run_function', 'pid': '10.1.94.81', 'tid': 'worker:581e9b44cfc65279c32a4e4e9cf3609a6bc934d8', 'ts': 1610382278596499.2, 'dur': 421.5240478515625, 'ph': 'X', 'cname': 'detailed_memory_dump', 'args': {}}, {'cat': 'fetch_and_run_function', 'name': 'fetch_and_run_function', 'pid': '10.1.94.81', 'tid': 'worker:581e9b44cfc65279c32a4e4e9cf3609a6bc934d8', 'ts': 1610382278596935.5, 'dur': 292.5395965576172, 'ph': 'X', 'cname': 'detailed_memory_dump', 'args': {}}, {'cat': 'fetch_and_run_function', 'name': 'fetch_and_run_function', 'pid': '10.1.94.81', 'tid': 'worker:581e9b44cfc65279c32a4e4e9cf3609a6bc934d8', 'ts': 1610382278597926.5, 'dur': 298.2616424560547, 'ph': 'X', 'cname': 'detailed_memory_dump', 'args': {}}, {'cat': 'fetch_and_run_function', 'name': 'fetch_and_run_function', 'pid': '10.1.94.81', 'tid': 'worker:581e9b44cfc65279c32a4e4e9cf3609a6bc934d8', 'ts': 1610382278598236.2, 'dur': 262.0220184326172, 'ph': 'X', 'cname': 'detailed_memory_dump', 'args': {}}, {'cat': 'fetch_and_run_function', 'name': 'fetch_and_run_function', 'pid': '10.1.94.81', 'tid': 'worker:4988e95ced70b51a546ca8153043d5aedecd820a', 'ts': 1610382278207021.0, 'dur': 426.29241943359375, 'ph': 'X', 'cname': 'detailed_memory_dump', 'args': {}}, {'cat': 'fetch_and_run_function', 'name': 'fetch_and_run_function', 'pid': '10.1.94.81', 'tid': 'worker:4988e95ced70b51a546ca8153043d5aedecd820a', 'ts': 1610382278207458.8, 'dur': 290.3938293457031, 'ph': 'X', 'cname': 'detailed_memory_dump', 'args': {}}, {'cat': 'fetch_and_run_function', 'name': 'fetch_and_run_function', 'pid': '10.1.94.81', 'tid': 'worker:4988e95ced70b51a546ca8153043d5aedecd820a', 'ts': 1610382278209071.2, 'dur': 1485.8245849609375, 'ph': 'X', 'cname': 'detailed_memory_dump', 'args': {}}, {'cat': 'fetch_and_run_function', 'name': 'fetch_and_run_function', 'pid': '10.1.94.81', 'tid': 'worker:4988e95ced70b51a546ca8153043d5aedecd820a', 'ts': 1610382278210566.2, 'dur': 281.5723419189453, 'ph': 'X', 'cname': 'detailed_memory_dump', 'args': {}}, {'cat': 'wait_for_function', 'name': 'wait_for_function', 'pid': '10.1.94.81', 'tid': 'worker:4988e95ced70b51a546ca8153043d5aedecd820a', 'ts': 1610382278206873.5, 'dur': 4832.983016967773, 'ph': 'X', 'cname': 'detailed_memory_dump', 'args': {}}, {'cat': 'task:deserialize_arguments', 'name': 'task:deserialize_arguments', 'pid': '10.1.94.81', 'tid': 'worker:4988e95ced70b51a546ca8153043d5aedecd820a', 'ts': 1610382278212091.8, 'dur': 262.0220184326172, 'ph': 'X', 'cname': 'rail_load', 'args': {}}]\n"
     ]
    }
   ],
   "source": [
    "ray.timeline()"
   ]
  },
  {
   "cell_type": "markdown",
   "metadata": {},
   "source": [
    "There is no parallelism above. That is because the tasks were executed in a for loop, and the output of each task was passed as a dependency to the subsequent task! In order to expose more parallelism, we need to reduce the elements in a different order.\n",
    "\n",
    "To illustrate the issue, note that we cannot execute the calls to `f` in parallel in\n",
    "\n",
    "```python\n",
    "f(f(f(f(f(f(f(1, 2), 3), 4), 5), 6), 7), 8)\n",
    "```\n",
    "\n",
    "which is what the above implementation does. However, we can execute some of the calls to `f` in parallel in\n",
    "\n",
    "```python\n",
    "f(f(f(1, 2), f(3, 4)), f(f(5, 6), f(7, 8)))\n",
    "```\n",
    "\n",
    "which is what a **tree reduce** does. Note that the two computations above are not equivalent in general, however, when `f` is associative and commutative, they are equivalent.\n",
    "\n",
    "**EXERCISE:** Modify the reduce implementation to expose more parallelism."
   ]
  },
  {
   "cell_type": "code",
   "execution_count": 12,
   "metadata": {},
   "outputs": [],
   "source": [
    "def reduce_parallel_tree(function, xs):\n",
    "    if not isinstance(xs, list):\n",
    "        raise ValueError('The xs argument must be a list.')\n",
    "    \n",
    "    if not hasattr(function, 'remote'):\n",
    "        raise ValueError('The function argument must be a remote function.')\n",
    "\n",
    "        \n",
    "    while len(xs) > 1:\n",
    "        result_id = function.remote(xs[0], xs[1])\n",
    "        xs = xs[2:]\n",
    "        xs.append(result_id)\n",
    "    \n",
    "    return xs[0]"
   ]
  },
  {
   "cell_type": "code",
   "execution_count": 13,
   "metadata": {
    "workflow": {
     "step": {
      "in": [
       {
        "name": "ray",
        "serializer": "ray",
        "type": "name"
       },
       {
        "name": "add_remote",
        "serializer": {
         "postload": "import ray;\noriginal_function = add_remote._function\noriginal_function.__module__ = '__main__'\nadd_remote = ray.remote(original_function)"
        },
        "type": "name"
       }
      ]
     },
     "target": {
      "model": "ray",
      "service": "ray-head"
     }
    }
   },
   "outputs": [
    {
     "name": "stdout",
     "output_type": "stream",
     "text": [
      "Congratulations, the test passed!\n"
     ]
    }
   ],
   "source": [
    "xs = [1, 2, 3, 4, 5, 6, 7, 8]\n",
    "result_id = reduce_parallel_tree(add_remote, xs)\n",
    "assert ray.get(result_id) == reduce_serial(add_regular, xs)\n",
    "print('Congratulations, the test passed!')"
   ]
  },
  {
   "cell_type": "markdown",
   "metadata": {},
   "source": [
    "**EXERCISE:** Take a look at the timeline and see if the tasks for `reduce_parallel_tree` were executed in parallel."
   ]
  },
  {
   "cell_type": "code",
   "execution_count": 14,
   "metadata": {
    "workflow": {
     "step": {
      "in": [
       {
        "name": "ray",
        "serializer": "ray",
        "type": "name"
       }
      ]
     },
     "target": {
      "model": "ray",
      "service": "ray-head"
     }
    }
   },
   "outputs": [
    {
     "name": "stdout",
     "output_type": "stream",
     "text": [
      "[{'cat': 'fetch_and_run_function', 'name': 'fetch_and_run_function', 'pid': '10.1.94.81', 'tid': 'worker:e5d605a5fb7323edc1de10ad971ed73dd4ece6d6', 'ts': 1610382278212922.8, 'dur': 267.26722717285156, 'ph': 'X', 'cname': 'detailed_memory_dump', 'args': {}}, {'cat': 'fetch_and_run_function', 'name': 'fetch_and_run_function', 'pid': '10.1.94.81', 'tid': 'worker:e5d605a5fb7323edc1de10ad971ed73dd4ece6d6', 'ts': 1610382278213199.5, 'dur': 189.78118896484375, 'ph': 'X', 'cname': 'detailed_memory_dump', 'args': {}}, {'cat': 'fetch_and_run_function', 'name': 'fetch_and_run_function', 'pid': '10.1.94.81', 'tid': 'worker:e5d605a5fb7323edc1de10ad971ed73dd4ece6d6', 'ts': 1610382278213721.8, 'dur': 175.95291137695312, 'ph': 'X', 'cname': 'detailed_memory_dump', 'args': {}}, {'cat': 'fetch_and_run_function', 'name': 'fetch_and_run_function', 'pid': '10.1.94.81', 'tid': 'worker:e5d605a5fb7323edc1de10ad971ed73dd4ece6d6', 'ts': 1610382278213905.5, 'dur': 166.41616821289062, 'ph': 'X', 'cname': 'detailed_memory_dump', 'args': {}}, {'cat': 'wait_for_function', 'name': 'wait_for_function', 'pid': '10.1.94.81', 'tid': 'worker:e5d605a5fb7323edc1de10ad971ed73dd4ece6d6', 'ts': 1610382278214728.5, 'dur': 43.15376281738281, 'ph': 'X', 'cname': 'detailed_memory_dump', 'args': {}}, {'cat': 'task:deserialize_arguments', 'name': 'task:deserialize_arguments', 'pid': '10.1.94.81', 'tid': 'worker:e5d605a5fb7323edc1de10ad971ed73dd4ece6d6', 'ts': 1610382278215053.2, 'dur': 278.472900390625, 'ph': 'X', 'cname': 'rail_load', 'args': {}}, {'cat': 'fetch_and_run_function', 'name': 'fetch_and_run_function', 'pid': '10.1.94.81', 'tid': 'worker:cf9e66f96d9cd582ca369ffc2e1c3621d12a51e3', 'ts': 1610382326222519.8, 'dur': 234.84230041503906, 'ph': 'X', 'cname': 'detailed_memory_dump', 'args': {}}, {'cat': 'fetch_and_run_function', 'name': 'fetch_and_run_function', 'pid': '10.1.94.81', 'tid': 'worker:cf9e66f96d9cd582ca369ffc2e1c3621d12a51e3', 'ts': 1610382326222764.2, 'dur': 200.2716064453125, 'ph': 'X', 'cname': 'detailed_memory_dump', 'args': {}}, {'cat': 'fetch_and_run_function', 'name': 'fetch_and_run_function', 'pid': '10.1.94.81', 'tid': 'worker:cf9e66f96d9cd582ca369ffc2e1c3621d12a51e3', 'ts': 1610382326223434.5, 'dur': 166.6545867919922, 'ph': 'X', 'cname': 'detailed_memory_dump', 'args': {}}, {'cat': 'fetch_and_run_function', 'name': 'fetch_and_run_function', 'pid': '10.1.94.81', 'tid': 'worker:cf9e66f96d9cd582ca369ffc2e1c3621d12a51e3', 'ts': 1610382326223608.0, 'dur': 159.26361083984375, 'ph': 'X', 'cname': 'detailed_memory_dump', 'args': {}}, {'cat': 'fetch_and_run_function', 'name': 'fetch_and_run_function', 'pid': '10.1.94.81', 'tid': 'worker:cf9e66f96d9cd582ca369ffc2e1c3621d12a51e3', 'ts': 1610382326224039.8, 'dur': 205.75523376464844, 'ph': 'X', 'cname': 'detailed_memory_dump', 'args': {}}, {'cat': 'fetch_and_run_function', 'name': 'fetch_and_run_function', 'pid': '10.1.94.81', 'tid': 'worker:cf9e66f96d9cd582ca369ffc2e1c3621d12a51e3', 'ts': 1610382326224253.2, 'dur': 166.89300537109375, 'ph': 'X', 'cname': 'detailed_memory_dump', 'args': {}}, {'cat': 'fetch_and_run_function', 'name': 'fetch_and_run_function', 'pid': '10.1.94.81', 'tid': 'worker:cf9e66f96d9cd582ca369ffc2e1c3621d12a51e3', 'ts': 1610382326224426.2, 'dur': 169.99244689941406, 'ph': 'X', 'cname': 'detailed_memory_dump', 'args': {}}, {'cat': 'fetch_and_run_function', 'name': 'fetch_and_run_function', 'pid': '10.1.94.81', 'tid': 'worker:cf9e66f96d9cd582ca369ffc2e1c3621d12a51e3', 'ts': 1610382326224603.2, 'dur': 164.031982421875, 'ph': 'X', 'cname': 'detailed_memory_dump', 'args': {}}, {'cat': 'fetch_and_run_function', 'name': 'fetch_and_run_function', 'pid': '10.1.94.81', 'tid': 'worker:cf9e66f96d9cd582ca369ffc2e1c3621d12a51e3', 'ts': 1610382326225040.0, 'dur': 186.44332885742188, 'ph': 'X', 'cname': 'detailed_memory_dump', 'args': {}}, {'cat': 'fetch_and_run_function', 'name': 'fetch_and_run_function', 'pid': '10.1.94.81', 'tid': 'worker:cf9e66f96d9cd582ca369ffc2e1c3621d12a51e3', 'ts': 1610382326225234.2, 'dur': 201.94053649902344, 'ph': 'X', 'cname': 'detailed_memory_dump', 'args': {}}, {'cat': 'fetch_and_run_function', 'name': 'fetch_and_run_function', 'pid': '10.1.94.81', 'tid': 'worker:cf9e66f96d9cd582ca369ffc2e1c3621d12a51e3', 'ts': 1610382326225442.5, 'dur': 150.6805419921875, 'ph': 'X', 'cname': 'detailed_memory_dump', 'args': {}}, {'cat': 'fetch_and_run_function', 'name': 'fetch_and_run_function', 'pid': '10.1.94.81', 'tid': 'worker:cf9e66f96d9cd582ca369ffc2e1c3621d12a51e3', 'ts': 1610382326225598.8, 'dur': 145.6737518310547, 'ph': 'X', 'cname': 'detailed_memory_dump', 'args': {}}, {'cat': 'wait_for_function', 'name': 'wait_for_function', 'pid': '10.1.94.81', 'tid': 'worker:cf9e66f96d9cd582ca369ffc2e1c3621d12a51e3', 'ts': 1610382326221829.5, 'dur': 4537.5823974609375, 'ph': 'X', 'cname': 'detailed_memory_dump', 'args': {}}, {'cat': 'task:deserialize_arguments', 'name': 'task:deserialize_arguments', 'pid': '10.1.94.81', 'tid': 'worker:cf9e66f96d9cd582ca369ffc2e1c3621d12a51e3', 'ts': 1610382326226641.5, 'dur': 301.12266540527344, 'ph': 'X', 'cname': 'rail_load', 'args': {}}, {'cat': 'task:execute', 'name': 'task:execute', 'pid': '10.1.94.81', 'tid': 'worker:cf9e66f96d9cd582ca369ffc2e1c3621d12a51e3', 'ts': 1610382326226946.0, 'dur': 300288.6772155762, 'ph': 'X', 'cname': 'rail_animation', 'args': {}}, {'cat': 'task:store_outputs', 'name': 'task:store_outputs', 'pid': '10.1.94.81', 'tid': 'worker:cf9e66f96d9cd582ca369ffc2e1c3621d12a51e3', 'ts': 1610382326527247.8, 'dur': 117.54035949707031, 'ph': 'X', 'cname': 'rail_idle', 'args': {}}, {'cat': 'task', 'name': 'task', 'pid': '10.1.94.81', 'tid': 'worker:cf9e66f96d9cd582ca369ffc2e1c3621d12a51e3', 'ts': 1610382326226388.2, 'dur': 300978.8990020752, 'ph': 'X', 'cname': 'rail_response', 'args': {}}, {'cat': 'task:deserialize_arguments', 'name': 'task:deserialize_arguments', 'pid': '10.1.94.81', 'tid': 'worker:cf9e66f96d9cd582ca369ffc2e1c3621d12a51e3', 'ts': 1610382326528272.0, 'dur': 164.50881958007812, 'ph': 'X', 'cname': 'rail_load', 'args': {}}, {'cat': 'task:execute', 'name': 'task:execute', 'pid': '10.1.94.81', 'tid': 'worker:cf9e66f96d9cd582ca369ffc2e1c3621d12a51e3', 'ts': 1610382326528439.5, 'dur': 300465.1069641113, 'ph': 'X', 'cname': 'rail_animation', 'args': {}}, {'cat': 'task:store_outputs', 'name': 'task:store_outputs', 'pid': '10.1.94.81', 'tid': 'worker:cf9e66f96d9cd582ca369ffc2e1c3621d12a51e3', 'ts': 1610382326828923.5, 'dur': 138.99803161621094, 'ph': 'X', 'cname': 'rail_idle', 'args': {}}, {'cat': 'task', 'name': 'task', 'pid': '10.1.94.81', 'tid': 'worker:cf9e66f96d9cd582ca369ffc2e1c3621d12a51e3', 'ts': 1610382326528259.5, 'dur': 300805.33027648926, 'ph': 'X', 'cname': 'rail_response', 'args': {}}, {'cat': 'task:deserialize_arguments', 'name': 'task:deserialize_arguments', 'pid': '10.1.94.81', 'tid': 'worker:cf9e66f96d9cd582ca369ffc2e1c3621d12a51e3', 'ts': 1610382326831341.8, 'dur': 193.3574676513672, 'ph': 'X', 'cname': 'rail_load', 'args': {}}, {'cat': 'task:execute', 'name': 'task:execute', 'pid': '10.1.94.81', 'tid': 'worker:cf9e66f96d9cd582ca369ffc2e1c3621d12a51e3', 'ts': 1610382326831538.8, 'dur': 300185.9188079834, 'ph': 'X', 'cname': 'rail_animation', 'args': {}}, {'cat': 'task:store_outputs', 'name': 'task:store_outputs', 'pid': '10.1.94.81', 'tid': 'worker:cf9e66f96d9cd582ca369ffc2e1c3621d12a51e3', 'ts': 1610382327131744.2, 'dur': 135.89859008789062, 'ph': 'X', 'cname': 'rail_idle', 'args': {}}, {'cat': 'task', 'name': 'task', 'pid': '10.1.94.81', 'tid': 'worker:cf9e66f96d9cd582ca369ffc2e1c3621d12a51e3', 'ts': 1610382326831325.5, 'dur': 300557.13653564453, 'ph': 'X', 'cname': 'rail_response', 'args': {}}, {'cat': 'fetch_and_run_function', 'name': 'fetch_and_run_function', 'pid': '10.1.94.81', 'tid': 'worker:581e9b44cfc65279c32a4e4e9cf3609a6bc934d8', 'ts': 1610382278596499.2, 'dur': 421.5240478515625, 'ph': 'X', 'cname': 'detailed_memory_dump', 'args': {}}, {'cat': 'fetch_and_run_function', 'name': 'fetch_and_run_function', 'pid': '10.1.94.81', 'tid': 'worker:581e9b44cfc65279c32a4e4e9cf3609a6bc934d8', 'ts': 1610382278596935.5, 'dur': 292.5395965576172, 'ph': 'X', 'cname': 'detailed_memory_dump', 'args': {}}, {'cat': 'fetch_and_run_function', 'name': 'fetch_and_run_function', 'pid': '10.1.94.81', 'tid': 'worker:581e9b44cfc65279c32a4e4e9cf3609a6bc934d8', 'ts': 1610382278597926.5, 'dur': 298.2616424560547, 'ph': 'X', 'cname': 'detailed_memory_dump', 'args': {}}, {'cat': 'fetch_and_run_function', 'name': 'fetch_and_run_function', 'pid': '10.1.94.81', 'tid': 'worker:581e9b44cfc65279c32a4e4e9cf3609a6bc934d8', 'ts': 1610382278598236.2, 'dur': 262.0220184326172, 'ph': 'X', 'cname': 'detailed_memory_dump', 'args': {}}, {'cat': 'fetch_and_run_function', 'name': 'fetch_and_run_function', 'pid': '10.1.94.81', 'tid': 'driver:06000000ffffffffffffffffffffffffffffffff', 'ts': 1610382325851418.8, 'dur': 816.5836334228516, 'ph': 'X', 'cname': 'detailed_memory_dump', 'args': {}}, {'cat': 'fetch_and_run_function', 'name': 'fetch_and_run_function', 'pid': '10.1.94.81', 'tid': 'driver:06000000ffffffffffffffffffffffffffffffff', 'ts': 1610382325852261.8, 'dur': 1185.4171752929688, 'ph': 'X', 'cname': 'detailed_memory_dump', 'args': {}}, {'cat': 'fetch_and_run_function', 'name': 'fetch_and_run_function', 'pid': '10.1.94.81', 'tid': 'driver:06000000ffffffffffffffffffffffffffffffff', 'ts': 1610382325854840.0, 'dur': 752.9258728027344, 'ph': 'X', 'cname': 'detailed_memory_dump', 'args': {}}, {'cat': 'fetch_and_run_function', 'name': 'fetch_and_run_function', 'pid': '10.1.94.81', 'tid': 'driver:06000000ffffffffffffffffffffffffffffffff', 'ts': 1610382325855604.0, 'dur': 1368.7610626220703, 'ph': 'X', 'cname': 'detailed_memory_dump', 'args': {}}, {'cat': 'submit_task', 'name': 'submit_task', 'pid': '10.1.94.81', 'tid': 'driver:06000000ffffffffffffffffffffffffffffffff', 'ts': 1610382325857456.0, 'dur': 469.9230194091797, 'ph': 'X', 'cname': 'background_memory_dump', 'args': {}}, {'cat': 'submit_task', 'name': 'submit_task', 'pid': '10.1.94.81', 'tid': 'driver:06000000ffffffffffffffffffffffffffffffff', 'ts': 1610382325858006.2, 'dur': 400.0663757324219, 'ph': 'X', 'cname': 'background_memory_dump', 'args': {}}, {'cat': 'submit_task', 'name': 'submit_task', 'pid': '10.1.94.81', 'tid': 'driver:06000000ffffffffffffffffffffffffffffffff', 'ts': 1610382325858483.8, 'dur': 128.03077697753906, 'ph': 'X', 'cname': 'background_memory_dump', 'args': {}}, {'cat': 'submit_task', 'name': 'submit_task', 'pid': '10.1.94.81', 'tid': 'driver:06000000ffffffffffffffffffffffffffffffff', 'ts': 1610382325858662.8, 'dur': 264.4062042236328, 'ph': 'X', 'cname': 'background_memory_dump', 'args': {}}, {'cat': 'fetch_and_run_function', 'name': 'fetch_and_run_function', 'pid': '10.1.94.81', 'tid': 'driver:06000000ffffffffffffffffffffffffffffffff', 'ts': 1610382325858786.0, 'dur': 377.89344787597656, 'ph': 'X', 'cname': 'detailed_memory_dump', 'args': {}}, {'cat': 'submit_task', 'name': 'submit_task', 'pid': '10.1.94.81', 'tid': 'driver:06000000ffffffffffffffffffffffffffffffff', 'ts': 1610382325858980.8, 'dur': 351.4289855957031, 'ph': 'X', 'cname': 'background_memory_dump', 'args': {}}, {'cat': 'fetch_and_run_function', 'name': 'fetch_and_run_function', 'pid': '10.1.94.81', 'tid': 'driver:06000000ffffffffffffffffffffffffffffffff', 'ts': 1610382325859175.0, 'dur': 343.32275390625, 'ph': 'X', 'cname': 'detailed_memory_dump', 'args': {}}, {'cat': 'fetch_and_run_function', 'name': 'fetch_and_run_function', 'pid': '10.1.94.81', 'tid': 'driver:06000000ffffffffffffffffffffffffffffffff', 'ts': 1610382325859540.0, 'dur': 195.2648162841797, 'ph': 'X', 'cname': 'detailed_memory_dump', 'args': {}}, {'cat': 'submit_task', 'name': 'submit_task', 'pid': '10.1.94.81', 'tid': 'driver:06000000ffffffffffffffffffffffffffffffff', 'ts': 1610382325859404.5, 'dur': 397.9206085205078, 'ph': 'X', 'cname': 'background_memory_dump', 'args': {}}, {'cat': 'fetch_and_run_function', 'name': 'fetch_and_run_function', 'pid': '10.1.94.81', 'tid': 'driver:06000000ffffffffffffffffffffffffffffffff', 'ts': 1610382325859741.8, 'dur': 365.97251892089844, 'ph': 'X', 'cname': 'detailed_memory_dump', 'args': {}}, {'cat': 'submit_task', 'name': 'submit_task', 'pid': '10.1.94.81', 'tid': 'driver:06000000ffffffffffffffffffffffffffffffff', 'ts': 1610382325859866.2, 'dur': 296.59271240234375, 'ph': 'X', 'cname': 'background_memory_dump', 'args': {}}, {'cat': 'fetch_and_run_function', 'name': 'fetch_and_run_function', 'pid': '10.1.94.81', 'tid': 'driver:06000000ffffffffffffffffffffffffffffffff', 'ts': 1610382325861063.2, 'dur': 183.8207244873047, 'ph': 'X', 'cname': 'detailed_memory_dump', 'args': {}}, {'cat': 'fetch_and_run_function', 'name': 'fetch_and_run_function', 'pid': '10.1.94.81', 'tid': 'driver:06000000ffffffffffffffffffffffffffffffff', 'ts': 1610382325861256.5, 'dur': 249.8626708984375, 'ph': 'X', 'cname': 'detailed_memory_dump', 'args': {}}, {'cat': 'fetch_and_run_function', 'name': 'fetch_and_run_function', 'pid': '10.1.94.81', 'tid': 'driver:06000000ffffffffffffffffffffffffffffffff', 'ts': 1610382325861987.0, 'dur': 236.98806762695312, 'ph': 'X', 'cname': 'detailed_memory_dump', 'args': {}}, {'cat': 'fetch_and_run_function', 'name': 'fetch_and_run_function', 'pid': '10.1.94.81', 'tid': 'driver:06000000ffffffffffffffffffffffffffffffff', 'ts': 1610382325862357.8, 'dur': 206.94732666015625, 'ph': 'X', 'cname': 'detailed_memory_dump', 'args': {}}, {'cat': 'ray.get', 'name': 'ray.get', 'pid': '10.1.94.81', 'tid': 'driver:06000000ffffffffffffffffffffffffffffffff', 'ts': 1610382325860331.8, 'dur': 1671161.17477417, 'ph': 'X', 'cname': 'good', 'args': {}}, {'cat': 'fetch_and_run_function', 'name': 'fetch_and_run_function', 'pid': '10.1.94.81', 'tid': 'driver:02000000ffffffffffffffffffffffffffffffff', 'ts': 1610382273428046.8, 'dur': 5508.4228515625, 'ph': 'X', 'cname': 'detailed_memory_dump', 'args': {}}, {'cat': 'fetch_and_run_function', 'name': 'fetch_and_run_function', 'pid': '10.1.94.81', 'tid': 'driver:02000000ffffffffffffffffffffffffffffffff', 'ts': 1610382273433568.8, 'dur': 1355.886459350586, 'ph': 'X', 'cname': 'detailed_memory_dump', 'args': {}}, {'cat': 'fetch_and_run_function', 'name': 'fetch_and_run_function', 'pid': '10.1.94.81', 'tid': 'driver:02000000ffffffffffffffffffffffffffffffff', 'ts': 1610382273435480.0, 'dur': 223.39820861816406, 'ph': 'X', 'cname': 'detailed_memory_dump', 'args': {}}, {'cat': 'fetch_and_run_function', 'name': 'fetch_and_run_function', 'pid': '10.1.94.81', 'tid': 'driver:02000000ffffffffffffffffffffffffffffffff', 'ts': 1610382273435999.8, 'dur': 198.84109497070312, 'ph': 'X', 'cname': 'detailed_memory_dump', 'args': {}}, {'cat': 'ray.get', 'name': 'ray.get', 'pid': '10.1.94.81', 'tid': 'driver:02000000ffffffffffffffffffffffffffffffff', 'ts': 1610382277445801.2, 'dur': 1776279.4494628906, 'ph': 'X', 'cname': 'good', 'args': {}}, {'cat': 'submit_task', 'name': 'submit_task', 'pid': '10.1.94.81', 'tid': 'driver:02000000ffffffffffffffffffffffffffffffff', 'ts': 1610382277442982.2, 'dur': 598.907470703125, 'ph': 'X', 'cname': 'background_memory_dump', 'args': {}}, {'cat': 'submit_task', 'name': 'submit_task', 'pid': '10.1.94.81', 'tid': 'driver:02000000ffffffffffffffffffffffffffffffff', 'ts': 1610382277443709.8, 'dur': 181.67495727539062, 'ph': 'X', 'cname': 'background_memory_dump', 'args': {}}, {'cat': 'submit_task', 'name': 'submit_task', 'pid': '10.1.94.81', 'tid': 'driver:02000000ffffffffffffffffffffffffffffffff', 'ts': 1610382277443982.2, 'dur': 140.19012451171875, 'ph': 'X', 'cname': 'background_memory_dump', 'args': {}}, {'cat': 'submit_task', 'name': 'submit_task', 'pid': '10.1.94.81', 'tid': 'driver:02000000ffffffffffffffffffffffffffffffff', 'ts': 1610382277444204.0, 'dur': 208.6162567138672, 'ph': 'X', 'cname': 'background_memory_dump', 'args': {}}, {'cat': 'fetch_and_run_function', 'name': 'fetch_and_run_function', 'pid': '10.1.94.81', 'tid': 'worker:fd4e54292fda73804e206a5af42da88ef45f522a', 'ts': 1610382326609872.2, 'dur': 372.4098205566406, 'ph': 'X', 'cname': 'detailed_memory_dump', 'args': {}}, {'cat': 'fetch_and_run_function', 'name': 'fetch_and_run_function', 'pid': '10.1.94.81', 'tid': 'worker:fd4e54292fda73804e206a5af42da88ef45f522a', 'ts': 1610382326610256.2, 'dur': 685.2149963378906, 'ph': 'X', 'cname': 'detailed_memory_dump', 'args': {}}, {'cat': 'fetch_and_run_function', 'name': 'fetch_and_run_function', 'pid': '10.1.94.81', 'tid': 'worker:fd4e54292fda73804e206a5af42da88ef45f522a', 'ts': 1610382326612087.0, 'dur': 188.58909606933594, 'ph': 'X', 'cname': 'detailed_memory_dump', 'args': {}}, {'cat': 'fetch_and_run_function', 'name': 'fetch_and_run_function', 'pid': '10.1.94.81', 'tid': 'worker:fd4e54292fda73804e206a5af42da88ef45f522a', 'ts': 1610382326612283.5, 'dur': 609.8747253417969, 'ph': 'X', 'cname': 'detailed_memory_dump', 'args': {}}, {'cat': 'fetch_and_run_function', 'name': 'fetch_and_run_function', 'pid': '10.1.94.81', 'tid': 'worker:fd4e54292fda73804e206a5af42da88ef45f522a', 'ts': 1610382326613330.0, 'dur': 324.01084899902344, 'ph': 'X', 'cname': 'detailed_memory_dump', 'args': {}}, {'cat': 'fetch_and_run_function', 'name': 'fetch_and_run_function', 'pid': '10.1.94.81', 'tid': 'worker:fd4e54292fda73804e206a5af42da88ef45f522a', 'ts': 1610382326613663.0, 'dur': 406.50367736816406, 'ph': 'X', 'cname': 'detailed_memory_dump', 'args': {}}, {'cat': 'fetch_and_run_function', 'name': 'fetch_and_run_function', 'pid': '10.1.94.81', 'tid': 'worker:fd4e54292fda73804e206a5af42da88ef45f522a', 'ts': 1610382326614078.2, 'dur': 273.2276916503906, 'ph': 'X', 'cname': 'detailed_memory_dump', 'args': {}}, {'cat': 'fetch_and_run_function', 'name': 'fetch_and_run_function', 'pid': '10.1.94.81', 'tid': 'worker:fd4e54292fda73804e206a5af42da88ef45f522a', 'ts': 1610382326614359.5, 'dur': 403.6426544189453, 'ph': 'X', 'cname': 'detailed_memory_dump', 'args': {}}, {'cat': 'fetch_and_run_function', 'name': 'fetch_and_run_function', 'pid': '10.1.94.81', 'tid': 'worker:fd4e54292fda73804e206a5af42da88ef45f522a', 'ts': 1610382326615338.5, 'dur': 217.67616271972656, 'ph': 'X', 'cname': 'detailed_memory_dump', 'args': {}}, {'cat': 'fetch_and_run_function', 'name': 'fetch_and_run_function', 'pid': '10.1.94.81', 'tid': 'worker:fd4e54292fda73804e206a5af42da88ef45f522a', 'ts': 1610382326615565.0, 'dur': 212.66937255859375, 'ph': 'X', 'cname': 'detailed_memory_dump', 'args': {}}, {'cat': 'fetch_and_run_function', 'name': 'fetch_and_run_function', 'pid': '10.1.94.81', 'tid': 'worker:fd4e54292fda73804e206a5af42da88ef45f522a', 'ts': 1610382326615784.8, 'dur': 199.5563507080078, 'ph': 'X', 'cname': 'detailed_memory_dump', 'args': {}}, {'cat': 'fetch_and_run_function', 'name': 'fetch_and_run_function', 'pid': '10.1.94.81', 'tid': 'worker:fd4e54292fda73804e206a5af42da88ef45f522a', 'ts': 1610382326615990.2, 'dur': 188.58909606933594, 'ph': 'X', 'cname': 'detailed_memory_dump', 'args': {}}, {'cat': 'fetch_and_run_function', 'name': 'fetch_and_run_function', 'pid': '10.1.94.81', 'tid': 'driver:04000000ffffffffffffffffffffffffffffffff', 'ts': 1610382301739097.2, 'dur': 1478.433609008789, 'ph': 'X', 'cname': 'detailed_memory_dump', 'args': {}}, {'cat': 'fetch_and_run_function', 'name': 'fetch_and_run_function', 'pid': '10.1.94.81', 'tid': 'driver:04000000ffffffffffffffffffffffffffffffff', 'ts': 1610382301740591.2, 'dur': 303.03001403808594, 'ph': 'X', 'cname': 'detailed_memory_dump', 'args': {}}, {'cat': 'fetch_and_run_function', 'name': 'fetch_and_run_function', 'pid': '10.1.94.81', 'tid': 'driver:04000000ffffffffffffffffffffffffffffffff', 'ts': 1610382301743956.2, 'dur': 598.1922149658203, 'ph': 'X', 'cname': 'detailed_memory_dump', 'args': {}}, {'cat': 'submit_task', 'name': 'submit_task', 'pid': '10.1.94.81', 'tid': 'driver:04000000ffffffffffffffffffffffffffffffff', 'ts': 1610382301744151.2, 'dur': 462.7704620361328, 'ph': 'X', 'cname': 'background_memory_dump', 'args': {}}, {'cat': 'submit_task', 'name': 'submit_task', 'pid': '10.1.94.81', 'tid': 'driver:04000000ffffffffffffffffffffffffffffffff', 'ts': 1610382301744702.5, 'dur': 195.50323486328125, 'ph': 'X', 'cname': 'background_memory_dump', 'args': {}}, {'cat': 'fetch_and_run_function', 'name': 'fetch_and_run_function', 'pid': '10.1.94.81', 'tid': 'driver:04000000ffffffffffffffffffffffffffffffff', 'ts': 1610382301744564.0, 'dur': 2131.938934326172, 'ph': 'X', 'cname': 'detailed_memory_dump', 'args': {}}, {'cat': 'submit_task', 'name': 'submit_task', 'pid': '10.1.94.81', 'tid': 'driver:04000000ffffffffffffffffffffffffffffffff', 'ts': 1610382301745220.2, 'dur': 1666.3074493408203, 'ph': 'X', 'cname': 'background_memory_dump', 'args': {}}, {'cat': 'submit_task', 'name': 'submit_task', 'pid': '10.1.94.81', 'tid': 'driver:04000000ffffffffffffffffffffffffffffffff', 'ts': 1610382301747004.2, 'dur': 373.1250762939453, 'ph': 'X', 'cname': 'background_memory_dump', 'args': {}}, {'cat': 'submit_task', 'name': 'submit_task', 'pid': '10.1.94.81', 'tid': 'driver:04000000ffffffffffffffffffffffffffffffff', 'ts': 1610382301747465.0, 'dur': 430.82237243652344, 'ph': 'X', 'cname': 'background_memory_dump', 'args': {}}, {'cat': 'fetch_and_run_function', 'name': 'fetch_and_run_function', 'pid': '10.1.94.81', 'tid': 'driver:04000000ffffffffffffffffffffffffffffffff', 'ts': 1610382301748096.2, 'dur': 262.7372741699219, 'ph': 'X', 'cname': 'detailed_memory_dump', 'args': {}}, {'cat': 'submit_task', 'name': 'submit_task', 'pid': '10.1.94.81', 'tid': 'driver:04000000ffffffffffffffffffffffffffffffff', 'ts': 1610382301747970.8, 'dur': 439.64385986328125, 'ph': 'X', 'cname': 'background_memory_dump', 'args': {}}, {'cat': 'submit_task', 'name': 'submit_task', 'pid': '10.1.94.81', 'tid': 'driver:04000000ffffffffffffffffffffffffffffffff', 'ts': 1610382301748473.2, 'dur': 158.07151794433594, 'ph': 'X', 'cname': 'background_memory_dump', 'args': {}}, {'cat': 'fetch_and_run_function', 'name': 'fetch_and_run_function', 'pid': '10.1.94.81', 'tid': 'driver:04000000ffffffffffffffffffffffffffffffff', 'ts': 1610382301748366.8, 'dur': 541.2101745605469, 'ph': 'X', 'cname': 'detailed_memory_dump', 'args': {}}, {'cat': 'fetch_and_run_function', 'name': 'fetch_and_run_function', 'pid': '10.1.94.81', 'tid': 'driver:04000000ffffffffffffffffffffffffffffffff', 'ts': 1610382301749200.8, 'dur': 216.7224884033203, 'ph': 'X', 'cname': 'detailed_memory_dump', 'args': {}}, {'cat': 'fetch_and_run_function', 'name': 'fetch_and_run_function', 'pid': '10.1.94.81', 'tid': 'driver:04000000ffffffffffffffffffffffffffffffff', 'ts': 1610382301749546.0, 'dur': 185.96649169921875, 'ph': 'X', 'cname': 'detailed_memory_dump', 'args': {}}, {'cat': 'ray.get', 'name': 'ray.get', 'pid': '10.1.94.81', 'tid': 'driver:04000000ffffffffffffffffffffffffffffffff', 'ts': 1610382301748795.5, 'dur': 2510013.8187408447, 'ph': 'X', 'cname': 'good', 'args': {}}, {'cat': 'task:execute', 'name': 'task:execute', 'pid': '10.1.94.81', 'tid': 'worker:e12d4cbab26fc668a6b0e8ac7a28ba16c06041ef', 'ts': 1610382277812400.8, 'dur': 1001330.6140899658, 'ph': 'X', 'cname': 'rail_animation', 'args': {}}, {'cat': 'task:store_outputs', 'name': 'task:store_outputs', 'pid': '10.1.94.81', 'tid': 'worker:e12d4cbab26fc668a6b0e8ac7a28ba16c06041ef', 'ts': 1610382278813755.2, 'dur': 410.7952117919922, 'ph': 'X', 'cname': 'rail_idle', 'args': {}}, {'cat': 'task', 'name': 'task', 'pid': '10.1.94.81', 'tid': 'worker:e12d4cbab26fc668a6b0e8ac7a28ba16c06041ef', 'ts': 1610382277811952.0, 'dur': 1002217.5312042236, 'ph': 'X', 'cname': 'rail_response', 'args': {}}, {'cat': 'fetch_and_run_function', 'name': 'fetch_and_run_function', 'pid': '10.1.94.81', 'tid': 'worker:e12d4cbab26fc668a6b0e8ac7a28ba16c06041ef', 'ts': 1610382277809043.0, 'dur': 439.4054412841797, 'ph': 'X', 'cname': 'detailed_memory_dump', 'args': {}}, {'cat': 'fetch_and_run_function', 'name': 'fetch_and_run_function', 'pid': '10.1.94.81', 'tid': 'worker:e12d4cbab26fc668a6b0e8ac7a28ba16c06041ef', 'ts': 1610382277809492.5, 'dur': 487.32757568359375, 'ph': 'X', 'cname': 'detailed_memory_dump', 'args': {}}, {'cat': 'fetch_and_run_function', 'name': 'fetch_and_run_function', 'pid': '10.1.94.81', 'tid': 'worker:e12d4cbab26fc668a6b0e8ac7a28ba16c06041ef', 'ts': 1610382277810747.0, 'dur': 195.2648162841797, 'ph': 'X', 'cname': 'detailed_memory_dump', 'args': {}}, {'cat': 'fetch_and_run_function', 'name': 'fetch_and_run_function', 'pid': '10.1.94.81', 'tid': 'worker:e12d4cbab26fc668a6b0e8ac7a28ba16c06041ef', 'ts': 1610382277810949.0, 'dur': 241.5180206298828, 'ph': 'X', 'cname': 'detailed_memory_dump', 'args': {}}, {'cat': 'wait_for_function', 'name': 'wait_for_function', 'pid': '10.1.94.81', 'tid': 'worker:e12d4cbab26fc668a6b0e8ac7a28ba16c06041ef', 'ts': 1610382277809706.2, 'dur': 2223.491668701172, 'ph': 'X', 'cname': 'detailed_memory_dump', 'args': {}}, {'cat': 'task:deserialize_arguments', 'name': 'task:deserialize_arguments', 'pid': '10.1.94.81', 'tid': 'worker:e12d4cbab26fc668a6b0e8ac7a28ba16c06041ef', 'ts': 1610382277812180.5, 'dur': 216.48406982421875, 'ph': 'X', 'cname': 'rail_load', 'args': {}}, {'cat': 'fetch_and_run_function', 'name': 'fetch_and_run_function', 'pid': '10.1.94.81', 'tid': 'worker:8c3f497aef4f960c7277b07b50fafd10f2d121c5', 'ts': 1610382326613462.5, 'dur': 444.65065002441406, 'ph': 'X', 'cname': 'detailed_memory_dump', 'args': {}}, {'cat': 'fetch_and_run_function', 'name': 'fetch_and_run_function', 'pid': '10.1.94.81', 'tid': 'worker:8c3f497aef4f960c7277b07b50fafd10f2d121c5', 'ts': 1610382326613917.5, 'dur': 640.869140625, 'ph': 'X', 'cname': 'detailed_memory_dump', 'args': {}}, {'cat': 'fetch_and_run_function', 'name': 'fetch_and_run_function', 'pid': '10.1.94.81', 'tid': 'worker:8c3f497aef4f960c7277b07b50fafd10f2d121c5', 'ts': 1610382326615881.5, 'dur': 728.1303405761719, 'ph': 'X', 'cname': 'detailed_memory_dump', 'args': {}}, {'cat': 'fetch_and_run_function', 'name': 'fetch_and_run_function', 'pid': '10.1.94.81', 'tid': 'worker:8c3f497aef4f960c7277b07b50fafd10f2d121c5', 'ts': 1610382326616619.2, 'dur': 281.33392333984375, 'ph': 'X', 'cname': 'detailed_memory_dump', 'args': {}}, {'cat': 'fetch_and_run_function', 'name': 'fetch_and_run_function', 'pid': '10.1.94.81', 'tid': 'worker:8c3f497aef4f960c7277b07b50fafd10f2d121c5', 'ts': 1610382326617205.5, 'dur': 194.549560546875, 'ph': 'X', 'cname': 'detailed_memory_dump', 'args': {}}, {'cat': 'fetch_and_run_function', 'name': 'fetch_and_run_function', 'pid': '10.1.94.81', 'tid': 'worker:8c3f497aef4f960c7277b07b50fafd10f2d121c5', 'ts': 1610382326617407.2, 'dur': 157.83309936523438, 'ph': 'X', 'cname': 'detailed_memory_dump', 'args': {}}, {'cat': 'fetch_and_run_function', 'name': 'fetch_and_run_function', 'pid': '10.1.94.81', 'tid': 'worker:8c3f497aef4f960c7277b07b50fafd10f2d121c5', 'ts': 1610382326617570.8, 'dur': 154.73365783691406, 'ph': 'X', 'cname': 'detailed_memory_dump', 'args': {}}, {'cat': 'fetch_and_run_function', 'name': 'fetch_and_run_function', 'pid': '10.1.94.81', 'tid': 'worker:8c3f497aef4f960c7277b07b50fafd10f2d121c5', 'ts': 1610382326617731.0, 'dur': 149.9652862548828, 'ph': 'X', 'cname': 'detailed_memory_dump', 'args': {}}, {'cat': 'fetch_and_run_function', 'name': 'fetch_and_run_function', 'pid': '10.1.94.81', 'tid': 'worker:8c3f497aef4f960c7277b07b50fafd10f2d121c5', 'ts': 1610382326618123.5, 'dur': 141.143798828125, 'ph': 'X', 'cname': 'detailed_memory_dump', 'args': {}}, {'cat': 'fetch_and_run_function', 'name': 'fetch_and_run_function', 'pid': '10.1.94.81', 'tid': 'worker:8c3f497aef4f960c7277b07b50fafd10f2d121c5', 'ts': 1610382326618270.5, 'dur': 1564.9795532226562, 'ph': 'X', 'cname': 'detailed_memory_dump', 'args': {}}, {'cat': 'fetch_and_run_function', 'name': 'fetch_and_run_function', 'pid': '10.1.94.81', 'tid': 'worker:8c3f497aef4f960c7277b07b50fafd10f2d121c5', 'ts': 1610382326619847.5, 'dur': 366.9261932373047, 'ph': 'X', 'cname': 'detailed_memory_dump', 'args': {}}, {'cat': 'fetch_and_run_function', 'name': 'fetch_and_run_function', 'pid': '10.1.94.81', 'tid': 'worker:8c3f497aef4f960c7277b07b50fafd10f2d121c5', 'ts': 1610382326620227.8, 'dur': 389.09912109375, 'ph': 'X', 'cname': 'detailed_memory_dump', 'args': {}}, {'cat': 'wait_for_function', 'name': 'wait_for_function', 'pid': '10.1.94.81', 'tid': 'worker:8c3f497aef4f960c7277b07b50fafd10f2d121c5', 'ts': 1610382326611744.2, 'dur': 9690.046310424805, 'ph': 'X', 'cname': 'detailed_memory_dump', 'args': {}}, {'cat': 'task:deserialize_arguments', 'name': 'task:deserialize_arguments', 'pid': '10.1.94.81', 'tid': 'worker:8c3f497aef4f960c7277b07b50fafd10f2d121c5', 'ts': 1610382326621789.0, 'dur': 324.01084899902344, 'ph': 'X', 'cname': 'rail_load', 'args': {}}, {'cat': 'task:execute', 'name': 'task:execute', 'pid': '10.1.94.81', 'tid': 'worker:8c3f497aef4f960c7277b07b50fafd10f2d121c5', 'ts': 1610382326622116.8, 'dur': 300395.7271575928, 'ph': 'X', 'cname': 'rail_animation', 'args': {}}, {'cat': 'task:store_outputs', 'name': 'task:store_outputs', 'pid': '10.1.94.81', 'tid': 'worker:8c3f497aef4f960c7277b07b50fafd10f2d121c5', 'ts': 1610382326922527.0, 'dur': 138.75961303710938, 'ph': 'X', 'cname': 'rail_idle', 'args': {}}, {'cat': 'task', 'name': 'task', 'pid': '10.1.94.81', 'tid': 'worker:8c3f497aef4f960c7277b07b50fafd10f2d121c5', 'ts': 1610382326621468.0, 'dur': 301200.62828063965, 'ph': 'X', 'cname': 'rail_response', 'args': {}}, {'cat': 'task:deserialize_arguments', 'name': 'task:deserialize_arguments', 'pid': '10.1.94.81', 'tid': 'worker:8c3f497aef4f960c7277b07b50fafd10f2d121c5', 'ts': 1610382326924934.5, 'dur': 210.76202392578125, 'ph': 'X', 'cname': 'rail_load', 'args': {}}, {'cat': 'task:execute', 'name': 'task:execute', 'pid': '10.1.94.81', 'tid': 'worker:8c3f497aef4f960c7277b07b50fafd10f2d121c5', 'ts': 1610382326925149.2, 'dur': 300509.2144012451, 'ph': 'X', 'cname': 'rail_animation', 'args': {}}, {'cat': 'task:store_outputs', 'name': 'task:store_outputs', 'pid': '10.1.94.81', 'tid': 'worker:8c3f497aef4f960c7277b07b50fafd10f2d121c5', 'ts': 1610382327225673.8, 'dur': 118.01719665527344, 'ph': 'X', 'cname': 'rail_idle', 'args': {}}, {'cat': 'task', 'name': 'task', 'pid': '10.1.94.81', 'tid': 'worker:8c3f497aef4f960c7277b07b50fafd10f2d121c5', 'ts': 1610382326924917.5, 'dur': 300876.6174316406, 'ph': 'X', 'cname': 'rail_response', 'args': {}}, {'cat': 'task:deserialize_arguments', 'name': 'task:deserialize_arguments', 'pid': '10.1.94.81', 'tid': 'worker:8c3f497aef4f960c7277b07b50fafd10f2d121c5', 'ts': 1610382327228100.8, 'dur': 210.04676818847656, 'ph': 'X', 'cname': 'rail_load', 'args': {}}, {'cat': 'task:execute', 'name': 'task:execute', 'pid': '10.1.94.81', 'tid': 'worker:8c3f497aef4f960c7277b07b50fafd10f2d121c5', 'ts': 1610382327228315.0, 'dur': 300440.07301330566, 'ph': 'X', 'cname': 'rail_animation', 'args': {}}, {'cat': 'task:store_outputs', 'name': 'task:store_outputs', 'pid': '10.1.94.81', 'tid': 'worker:8c3f497aef4f960c7277b07b50fafd10f2d121c5', 'ts': 1610382327528772.2, 'dur': 128.03077697753906, 'ph': 'X', 'cname': 'rail_idle', 'args': {}}, {'cat': 'task', 'name': 'task', 'pid': '10.1.94.81', 'tid': 'worker:8c3f497aef4f960c7277b07b50fafd10f2d121c5', 'ts': 1610382327228082.5, 'dur': 300820.82748413086, 'ph': 'X', 'cname': 'rail_response', 'args': {}}, {'cat': 'fetch_and_run_function', 'name': 'fetch_and_run_function', 'pid': '10.1.94.81', 'tid': 'worker:b50584a579a68279d5c0cd2875af7aeb038ba659', 'ts': 1610382278499658.5, 'dur': 265.8367156982422, 'ph': 'X', 'cname': 'detailed_memory_dump', 'args': {}}, {'cat': 'fetch_and_run_function', 'name': 'fetch_and_run_function', 'pid': '10.1.94.81', 'tid': 'worker:b50584a579a68279d5c0cd2875af7aeb038ba659', 'ts': 1610382278499933.2, 'dur': 194.31114196777344, 'ph': 'X', 'cname': 'detailed_memory_dump', 'args': {}}, {'cat': 'fetch_and_run_function', 'name': 'fetch_and_run_function', 'pid': '10.1.94.81', 'tid': 'worker:b50584a579a68279d5c0cd2875af7aeb038ba659', 'ts': 1610382278500461.5, 'dur': 140.19012451171875, 'ph': 'X', 'cname': 'detailed_memory_dump', 'args': {}}, {'cat': 'fetch_and_run_function', 'name': 'fetch_and_run_function', 'pid': '10.1.94.81', 'tid': 'worker:b50584a579a68279d5c0cd2875af7aeb038ba659', 'ts': 1610382278500606.8, 'dur': 129.46128845214844, 'ph': 'X', 'cname': 'detailed_memory_dump', 'args': {}}, {'cat': 'task:execute', 'name': 'task:execute', 'pid': '10.1.94.81', 'tid': 'worker:562c7d08c570d909bb2b801e7fdbdf00faaf2d6d', 'ts': 1610382303045800.2, 'dur': 300573.11058044434, 'ph': 'X', 'cname': 'rail_animation', 'args': {}}, {'cat': 'task:store_outputs', 'name': 'task:store_outputs', 'pid': '10.1.94.81', 'tid': 'worker:562c7d08c570d909bb2b801e7fdbdf00faaf2d6d', 'ts': 1610382303346395.2, 'dur': 150.91896057128906, 'ph': 'X', 'cname': 'rail_idle', 'args': {}}, {'cat': 'task', 'name': 'task', 'pid': '10.1.94.81', 'tid': 'worker:562c7d08c570d909bb2b801e7fdbdf00faaf2d6d', 'ts': 1610382303045580.8, 'dur': 300968.4085845947, 'ph': 'X', 'cname': 'rail_response', 'args': {}}, {'cat': 'task:deserialize_arguments', 'name': 'task:deserialize_arguments', 'pid': '10.1.94.81', 'tid': 'worker:562c7d08c570d909bb2b801e7fdbdf00faaf2d6d', 'ts': 1610382303349479.0, 'dur': 202.178955078125, 'ph': 'X', 'cname': 'rail_load', 'args': {}}, {'cat': 'task:execute', 'name': 'task:execute', 'pid': '10.1.94.81', 'tid': 'worker:562c7d08c570d909bb2b801e7fdbdf00faaf2d6d', 'ts': 1610382303349685.5, 'dur': 300532.57942199707, 'ph': 'X', 'cname': 'rail_animation', 'args': {}}, {'cat': 'task:store_outputs', 'name': 'task:store_outputs', 'pid': '10.1.94.81', 'tid': 'worker:562c7d08c570d909bb2b801e7fdbdf00faaf2d6d', 'ts': 1610382303650239.8, 'dur': 139.9517059326172, 'ph': 'X', 'cname': 'rail_idle', 'args': {}}, {'cat': 'task', 'name': 'task', 'pid': '10.1.94.81', 'tid': 'worker:562c7d08c570d909bb2b801e7fdbdf00faaf2d6d', 'ts': 1610382303349105.8, 'dur': 301277.16064453125, 'ph': 'X', 'cname': 'rail_response', 'args': {}}, {'cat': 'task:deserialize_arguments', 'name': 'task:deserialize_arguments', 'pid': '10.1.94.81', 'tid': 'worker:562c7d08c570d909bb2b801e7fdbdf00faaf2d6d', 'ts': 1610382303652449.5, 'dur': 209.0930938720703, 'ph': 'X', 'cname': 'rail_load', 'args': {}}, {'cat': 'task:execute', 'name': 'task:execute', 'pid': '10.1.94.81', 'tid': 'worker:562c7d08c570d909bb2b801e7fdbdf00faaf2d6d', 'ts': 1610382303652662.5, 'dur': 300542.59300231934, 'ph': 'X', 'cname': 'rail_animation', 'args': {}}, {'cat': 'task:store_outputs', 'name': 'task:store_outputs', 'pid': '10.1.94.81', 'tid': 'worker:562c7d08c570d909bb2b801e7fdbdf00faaf2d6d', 'ts': 1610382303953225.5, 'dur': 137.09068298339844, 'ph': 'X', 'cname': 'rail_idle', 'args': {}}, {'cat': 'task', 'name': 'task', 'pid': '10.1.94.81', 'tid': 'worker:562c7d08c570d909bb2b801e7fdbdf00faaf2d6d', 'ts': 1610382303652433.8, 'dur': 300931.9305419922, 'ph': 'X', 'cname': 'rail_response', 'args': {}}, {'cat': 'task:deserialize_arguments', 'name': 'task:deserialize_arguments', 'pid': '10.1.94.81', 'tid': 'worker:562c7d08c570d909bb2b801e7fdbdf00faaf2d6d', 'ts': 1610382303955625.2, 'dur': 230.0739288330078, 'ph': 'X', 'cname': 'rail_load', 'args': {}}, {'cat': 'task:execute', 'name': 'task:execute', 'pid': '10.1.94.81', 'tid': 'worker:562c7d08c570d909bb2b801e7fdbdf00faaf2d6d', 'ts': 1610382303955860.0, 'dur': 300572.15690612793, 'ph': 'X', 'cname': 'rail_animation', 'args': {}}, {'cat': 'task:store_outputs', 'name': 'task:store_outputs', 'pid': '10.1.94.81', 'tid': 'worker:562c7d08c570d909bb2b801e7fdbdf00faaf2d6d', 'ts': 1610382304256454.8, 'dur': 154.97207641601562, 'ph': 'X', 'cname': 'rail_idle', 'args': {}}, {'cat': 'task', 'name': 'task', 'pid': '10.1.94.81', 'tid': 'worker:562c7d08c570d909bb2b801e7fdbdf00faaf2d6d', 'ts': 1610382303955607.5, 'dur': 301005.36346435547, 'ph': 'X', 'cname': 'rail_response', 'args': {}}, {'cat': 'fetch_and_run_function', 'name': 'fetch_and_run_function', 'pid': '10.1.94.81', 'tid': 'worker:562c7d08c570d909bb2b801e7fdbdf00faaf2d6d', 'ts': 1610382302132518.0, 'dur': 293.731689453125, 'ph': 'X', 'cname': 'detailed_memory_dump', 'args': {}}, {'cat': 'fetch_and_run_function', 'name': 'fetch_and_run_function', 'pid': '10.1.94.81', 'tid': 'worker:562c7d08c570d909bb2b801e7fdbdf00faaf2d6d', 'ts': 1610382302132820.2, 'dur': 157.35626220703125, 'ph': 'X', 'cname': 'detailed_memory_dump', 'args': {}}, {'cat': 'fetch_and_run_function', 'name': 'fetch_and_run_function', 'pid': '10.1.94.81', 'tid': 'worker:562c7d08c570d909bb2b801e7fdbdf00faaf2d6d', 'ts': 1610382302133285.2, 'dur': 167.60826110839844, 'ph': 'X', 'cname': 'detailed_memory_dump', 'args': {}}, {'cat': 'fetch_and_run_function', 'name': 'fetch_and_run_function', 'pid': '10.1.94.81', 'tid': 'worker:562c7d08c570d909bb2b801e7fdbdf00faaf2d6d', 'ts': 1610382302133458.0, 'dur': 315.66619873046875, 'ph': 'X', 'cname': 'detailed_memory_dump', 'args': {}}, {'cat': 'fetch_and_run_function', 'name': 'fetch_and_run_function', 'pid': '10.1.94.81', 'tid': 'worker:562c7d08c570d909bb2b801e7fdbdf00faaf2d6d', 'ts': 1610382302134034.5, 'dur': 135.89859008789062, 'ph': 'X', 'cname': 'detailed_memory_dump', 'args': {}}, {'cat': 'fetch_and_run_function', 'name': 'fetch_and_run_function', 'pid': '10.1.94.81', 'tid': 'worker:562c7d08c570d909bb2b801e7fdbdf00faaf2d6d', 'ts': 1610382302134186.5, 'dur': 140.90538024902344, 'ph': 'X', 'cname': 'detailed_memory_dump', 'args': {}}, {'cat': 'fetch_and_run_function', 'name': 'fetch_and_run_function', 'pid': '10.1.94.81', 'tid': 'worker:562c7d08c570d909bb2b801e7fdbdf00faaf2d6d', 'ts': 1610382302134331.5, 'dur': 117.77877807617188, 'ph': 'X', 'cname': 'detailed_memory_dump', 'args': {}}, {'cat': 'fetch_and_run_function', 'name': 'fetch_and_run_function', 'pid': '10.1.94.81', 'tid': 'worker:562c7d08c570d909bb2b801e7fdbdf00faaf2d6d', 'ts': 1610382302134452.8, 'dur': 113.24882507324219, 'ph': 'X', 'cname': 'detailed_memory_dump', 'args': {}}, {'cat': 'wait_for_function', 'name': 'wait_for_function', 'pid': '10.1.94.81', 'tid': 'worker:562c7d08c570d909bb2b801e7fdbdf00faaf2d6d', 'ts': 1610382302133540.2, 'dur': 2204.418182373047, 'ph': 'X', 'cname': 'detailed_memory_dump', 'args': {}}, {'cat': 'task:deserialize_arguments', 'name': 'task:deserialize_arguments', 'pid': '10.1.94.81', 'tid': 'worker:562c7d08c570d909bb2b801e7fdbdf00faaf2d6d', 'ts': 1610382302135954.8, 'dur': 224.11346435546875, 'ph': 'X', 'cname': 'rail_load', 'args': {}}, {'cat': 'task:execute', 'name': 'task:execute', 'pid': '10.1.94.81', 'tid': 'worker:562c7d08c570d909bb2b801e7fdbdf00faaf2d6d', 'ts': 1610382302136181.2, 'dur': 300427.6752471924, 'ph': 'X', 'cname': 'rail_animation', 'args': {}}, {'cat': 'task:store_outputs', 'name': 'task:store_outputs', 'pid': '10.1.94.81', 'tid': 'worker:562c7d08c570d909bb2b801e7fdbdf00faaf2d6d', 'ts': 1610382302436624.0, 'dur': 176.6681671142578, 'ph': 'X', 'cname': 'rail_idle', 'args': {}}, {'cat': 'task', 'name': 'task', 'pid': '10.1.94.81', 'tid': 'worker:562c7d08c570d909bb2b801e7fdbdf00faaf2d6d', 'ts': 1610382302135773.5, 'dur': 301030.39741516113, 'ph': 'X', 'cname': 'rail_response', 'args': {}}, {'cat': 'task:deserialize_arguments', 'name': 'task:deserialize_arguments', 'pid': '10.1.94.81', 'tid': 'worker:562c7d08c570d909bb2b801e7fdbdf00faaf2d6d', 'ts': 1610382302439343.2, 'dur': 282.7644348144531, 'ph': 'X', 'cname': 'rail_load', 'args': {}}, {'cat': 'task:execute', 'name': 'task:execute', 'pid': '10.1.94.81', 'tid': 'worker:562c7d08c570d909bb2b801e7fdbdf00faaf2d6d', 'ts': 1610382302439632.2, 'dur': 300444.1261291504, 'ph': 'X', 'cname': 'rail_animation', 'args': {}}, {'cat': 'task:store_outputs', 'name': 'task:store_outputs', 'pid': '10.1.94.81', 'tid': 'worker:562c7d08c570d909bb2b801e7fdbdf00faaf2d6d', 'ts': 1610382302740092.2, 'dur': 162.8398895263672, 'ph': 'X', 'cname': 'rail_idle', 'args': {}}, {'cat': 'task', 'name': 'task', 'pid': '10.1.94.81', 'tid': 'worker:562c7d08c570d909bb2b801e7fdbdf00faaf2d6d', 'ts': 1610382302439326.2, 'dur': 300931.9305419922, 'ph': 'X', 'cname': 'rail_response', 'args': {}}, {'cat': 'task:deserialize_arguments', 'name': 'task:deserialize_arguments', 'pid': '10.1.94.81', 'tid': 'worker:562c7d08c570d909bb2b801e7fdbdf00faaf2d6d', 'ts': 1610382302742613.0, 'dur': 212.19253540039062, 'ph': 'X', 'cname': 'rail_load', 'args': {}}, {'cat': 'task:execute', 'name': 'task:execute', 'pid': '10.1.94.81', 'tid': 'worker:562c7d08c570d909bb2b801e7fdbdf00faaf2d6d', 'ts': 1610382302742829.5, 'dur': 300466.77589416504, 'ph': 'X', 'cname': 'rail_animation', 'args': {}}, {'cat': 'task:store_outputs', 'name': 'task:store_outputs', 'pid': '10.1.94.81', 'tid': 'worker:562c7d08c570d909bb2b801e7fdbdf00faaf2d6d', 'ts': 1610382303043314.5, 'dur': 138.99803161621094, 'ph': 'X', 'cname': 'rail_idle', 'args': {}}, {'cat': 'task', 'name': 'task', 'pid': '10.1.94.81', 'tid': 'worker:562c7d08c570d909bb2b801e7fdbdf00faaf2d6d', 'ts': 1610382302742596.2, 'dur': 300860.4049682617, 'ph': 'X', 'cname': 'rail_response', 'args': {}}, {'cat': 'task:deserialize_arguments', 'name': 'task:deserialize_arguments', 'pid': '10.1.94.81', 'tid': 'worker:562c7d08c570d909bb2b801e7fdbdf00faaf2d6d', 'ts': 1610382303045595.8, 'dur': 200.74844360351562, 'ph': 'X', 'cname': 'rail_load', 'args': {}}, {'cat': 'fetch_and_run_function', 'name': 'fetch_and_run_function', 'pid': '10.1.94.81', 'tid': 'worker:fe75b3c7a5dbe6469caa7dd49afad141bc85105e', 'ts': 1610382278192454.0, 'dur': 254.15420532226562, 'ph': 'X', 'cname': 'detailed_memory_dump', 'args': {}}, {'cat': 'fetch_and_run_function', 'name': 'fetch_and_run_function', 'pid': '10.1.94.81', 'tid': 'worker:fe75b3c7a5dbe6469caa7dd49afad141bc85105e', 'ts': 1610382278192717.5, 'dur': 295.40061950683594, 'ph': 'X', 'cname': 'detailed_memory_dump', 'args': {}}, {'cat': 'fetch_and_run_function', 'name': 'fetch_and_run_function', 'pid': '10.1.94.81', 'tid': 'worker:fe75b3c7a5dbe6469caa7dd49afad141bc85105e', 'ts': 1610382278193501.8, 'dur': 216.48406982421875, 'ph': 'X', 'cname': 'detailed_memory_dump', 'args': {}}, {'cat': 'fetch_and_run_function', 'name': 'fetch_and_run_function', 'pid': '10.1.94.81', 'tid': 'worker:fe75b3c7a5dbe6469caa7dd49afad141bc85105e', 'ts': 1610382278193726.8, 'dur': 197.6490020751953, 'ph': 'X', 'cname': 'detailed_memory_dump', 'args': {}}, {'cat': 'wait_for_function', 'name': 'wait_for_function', 'pid': '10.1.94.81', 'tid': 'worker:fe75b3c7a5dbe6469caa7dd49afad141bc85105e', 'ts': 1610382278193189.5, 'dur': 2247.0951080322266, 'ph': 'X', 'cname': 'detailed_memory_dump', 'args': {}}, {'cat': 'task:deserialize_arguments', 'name': 'task:deserialize_arguments', 'pid': '10.1.94.81', 'tid': 'worker:fe75b3c7a5dbe6469caa7dd49afad141bc85105e', 'ts': 1610382278195712.8, 'dur': 213.38462829589844, 'ph': 'X', 'cname': 'rail_load', 'args': {}}, {'cat': 'fetch_and_run_function', 'name': 'fetch_and_run_function', 'pid': '10.1.94.81', 'tid': 'worker:49cef4682428142147539b6e43cd1e0aaaf00627', 'ts': 1610382326588485.5, 'dur': 356.43577575683594, 'ph': 'X', 'cname': 'detailed_memory_dump', 'args': {}}, {'cat': 'fetch_and_run_function', 'name': 'fetch_and_run_function', 'pid': '10.1.94.81', 'tid': 'worker:49cef4682428142147539b6e43cd1e0aaaf00627', 'ts': 1610382326588856.2, 'dur': 262.26043701171875, 'ph': 'X', 'cname': 'detailed_memory_dump', 'args': {}}, {'cat': 'fetch_and_run_function', 'name': 'fetch_and_run_function', 'pid': '10.1.94.81', 'tid': 'worker:49cef4682428142147539b6e43cd1e0aaaf00627', 'ts': 1610382326589566.5, 'dur': 408.6494445800781, 'ph': 'X', 'cname': 'detailed_memory_dump', 'args': {}}, {'cat': 'fetch_and_run_function', 'name': 'fetch_and_run_function', 'pid': '10.1.94.81', 'tid': 'worker:49cef4682428142147539b6e43cd1e0aaaf00627', 'ts': 1610382326589989.2, 'dur': 255.10787963867188, 'ph': 'X', 'cname': 'detailed_memory_dump', 'args': {}}, {'cat': 'fetch_and_run_function', 'name': 'fetch_and_run_function', 'pid': '10.1.94.81', 'tid': 'worker:49cef4682428142147539b6e43cd1e0aaaf00627', 'ts': 1610382326590640.0, 'dur': 325.6797790527344, 'ph': 'X', 'cname': 'detailed_memory_dump', 'args': {}}, {'cat': 'fetch_and_run_function', 'name': 'fetch_and_run_function', 'pid': '10.1.94.81', 'tid': 'worker:49cef4682428142147539b6e43cd1e0aaaf00627', 'ts': 1610382326590978.5, 'dur': 2366.0659790039062, 'ph': 'X', 'cname': 'detailed_memory_dump', 'args': {}}, {'cat': 'fetch_and_run_function', 'name': 'fetch_and_run_function', 'pid': '10.1.94.81', 'tid': 'worker:49cef4682428142147539b6e43cd1e0aaaf00627', 'ts': 1610382326593359.5, 'dur': 296.59271240234375, 'ph': 'X', 'cname': 'detailed_memory_dump', 'args': {}}, {'cat': 'fetch_and_run_function', 'name': 'fetch_and_run_function', 'pid': '10.1.94.81', 'tid': 'worker:49cef4682428142147539b6e43cd1e0aaaf00627', 'ts': 1610382326593665.8, 'dur': 289.67857360839844, 'ph': 'X', 'cname': 'detailed_memory_dump', 'args': {}}, {'cat': 'fetch_and_run_function', 'name': 'fetch_and_run_function', 'pid': '10.1.94.81', 'tid': 'worker:49cef4682428142147539b6e43cd1e0aaaf00627', 'ts': 1610382326594497.0, 'dur': 355.72052001953125, 'ph': 'X', 'cname': 'detailed_memory_dump', 'args': {}}, {'cat': 'fetch_and_run_function', 'name': 'fetch_and_run_function', 'pid': '10.1.94.81', 'tid': 'worker:49cef4682428142147539b6e43cd1e0aaaf00627', 'ts': 1610382326594866.2, 'dur': 479.4597625732422, 'ph': 'X', 'cname': 'detailed_memory_dump', 'args': {}}, {'cat': 'fetch_and_run_function', 'name': 'fetch_and_run_function', 'pid': '10.1.94.81', 'tid': 'worker:49cef4682428142147539b6e43cd1e0aaaf00627', 'ts': 1610382326595354.0, 'dur': 240.325927734375, 'ph': 'X', 'cname': 'detailed_memory_dump', 'args': {}}, {'cat': 'fetch_and_run_function', 'name': 'fetch_and_run_function', 'pid': '10.1.94.81', 'tid': 'worker:49cef4682428142147539b6e43cd1e0aaaf00627', 'ts': 1610382326595602.2, 'dur': 252.72369384765625, 'ph': 'X', 'cname': 'detailed_memory_dump', 'args': {}}, {'cat': 'wait_for_function', 'name': 'wait_for_function', 'pid': '10.1.94.81', 'tid': 'worker:49cef4682428142147539b6e43cd1e0aaaf00627', 'ts': 1610382326591451.2, 'dur': 4790.067672729492, 'ph': 'X', 'cname': 'detailed_memory_dump', 'args': {}}, {'cat': 'task:deserialize_arguments', 'name': 'task:deserialize_arguments', 'pid': '10.1.94.81', 'tid': 'worker:49cef4682428142147539b6e43cd1e0aaaf00627', 'ts': 1610382326596501.2, 'dur': 264.88304138183594, 'ph': 'X', 'cname': 'rail_load', 'args': {}}, {'cat': 'task:execute', 'name': 'task:execute', 'pid': '10.1.94.81', 'tid': 'worker:49cef4682428142147539b6e43cd1e0aaaf00627', 'ts': 1610382326596769.8, 'dur': 300402.1644592285, 'ph': 'X', 'cname': 'rail_animation', 'args': {}}, {'cat': 'task:store_outputs', 'name': 'task:store_outputs', 'pid': '10.1.94.81', 'tid': 'worker:49cef4682428142147539b6e43cd1e0aaaf00627', 'ts': 1610382326897183.5, 'dur': 124.69291687011719, 'ph': 'X', 'cname': 'rail_idle', 'args': {}}, {'cat': 'task', 'name': 'task', 'pid': '10.1.94.81', 'tid': 'worker:49cef4682428142147539b6e43cd1e0aaaf00627', 'ts': 1610382326596263.5, 'dur': 301046.84829711914, 'ph': 'X', 'cname': 'rail_response', 'args': {}}, {'cat': 'fetch_and_run_function', 'name': 'fetch_and_run_function', 'pid': '10.1.94.81', 'tid': 'worker:0275f79140838ec3f5bd003f24047825e4541843', 'ts': 1610382326966388.0, 'dur': 275.1350402832031, 'ph': 'X', 'cname': 'detailed_memory_dump', 'args': {}}, {'cat': 'fetch_and_run_function', 'name': 'fetch_and_run_function', 'pid': '10.1.94.81', 'tid': 'worker:0275f79140838ec3f5bd003f24047825e4541843', 'ts': 1610382326966672.0, 'dur': 194.549560546875, 'ph': 'X', 'cname': 'detailed_memory_dump', 'args': {}}, {'cat': 'fetch_and_run_function', 'name': 'fetch_and_run_function', 'pid': '10.1.94.81', 'tid': 'worker:0275f79140838ec3f5bd003f24047825e4541843', 'ts': 1610382326967327.0, 'dur': 181.1981201171875, 'ph': 'X', 'cname': 'detailed_memory_dump', 'args': {}}, {'cat': 'fetch_and_run_function', 'name': 'fetch_and_run_function', 'pid': '10.1.94.81', 'tid': 'worker:0275f79140838ec3f5bd003f24047825e4541843', 'ts': 1610382326967515.0, 'dur': 175.95291137695312, 'ph': 'X', 'cname': 'detailed_memory_dump', 'args': {}}, {'cat': 'fetch_and_run_function', 'name': 'fetch_and_run_function', 'pid': '10.1.94.81', 'tid': 'worker:0275f79140838ec3f5bd003f24047825e4541843', 'ts': 1610382326967963.8, 'dur': 150.6805419921875, 'ph': 'X', 'cname': 'detailed_memory_dump', 'args': {}}, {'cat': 'fetch_and_run_function', 'name': 'fetch_and_run_function', 'pid': '10.1.94.81', 'tid': 'worker:0275f79140838ec3f5bd003f24047825e4541843', 'ts': 1610382326968120.2, 'dur': 151.63421630859375, 'ph': 'X', 'cname': 'detailed_memory_dump', 'args': {}}, {'cat': 'fetch_and_run_function', 'name': 'fetch_and_run_function', 'pid': '10.1.94.81', 'tid': 'worker:0275f79140838ec3f5bd003f24047825e4541843', 'ts': 1610382326968276.8, 'dur': 145.91217041015625, 'ph': 'X', 'cname': 'detailed_memory_dump', 'args': {}}, {'cat': 'fetch_and_run_function', 'name': 'fetch_and_run_function', 'pid': '10.1.94.81', 'tid': 'worker:0275f79140838ec3f5bd003f24047825e4541843', 'ts': 1610382326968427.5, 'dur': 143.0511474609375, 'ph': 'X', 'cname': 'detailed_memory_dump', 'args': {}}, {'cat': 'fetch_and_run_function', 'name': 'fetch_and_run_function', 'pid': '10.1.94.81', 'tid': 'worker:0275f79140838ec3f5bd003f24047825e4541843', 'ts': 1610382326968840.5, 'dur': 152.34947204589844, 'ph': 'X', 'cname': 'detailed_memory_dump', 'args': {}}, {'cat': 'fetch_and_run_function', 'name': 'fetch_and_run_function', 'pid': '10.1.94.81', 'tid': 'worker:0275f79140838ec3f5bd003f24047825e4541843', 'ts': 1610382326968998.8, 'dur': 148.53477478027344, 'ph': 'X', 'cname': 'detailed_memory_dump', 'args': {}}, {'cat': 'fetch_and_run_function', 'name': 'fetch_and_run_function', 'pid': '10.1.94.81', 'tid': 'worker:0275f79140838ec3f5bd003f24047825e4541843', 'ts': 1610382326969152.0, 'dur': 144.72007751464844, 'ph': 'X', 'cname': 'detailed_memory_dump', 'args': {}}, {'cat': 'fetch_and_run_function', 'name': 'fetch_and_run_function', 'pid': '10.1.94.81', 'tid': 'worker:0275f79140838ec3f5bd003f24047825e4541843', 'ts': 1610382326969301.2, 'dur': 142.3358917236328, 'ph': 'X', 'cname': 'detailed_memory_dump', 'args': {}}, {'cat': 'fetch_and_run_function', 'name': 'fetch_and_run_function', 'pid': '10.1.94.81', 'tid': 'worker:4988e95ced70b51a546ca8153043d5aedecd820a', 'ts': 1610382278207021.0, 'dur': 426.29241943359375, 'ph': 'X', 'cname': 'detailed_memory_dump', 'args': {}}, {'cat': 'fetch_and_run_function', 'name': 'fetch_and_run_function', 'pid': '10.1.94.81', 'tid': 'worker:4988e95ced70b51a546ca8153043d5aedecd820a', 'ts': 1610382278207458.8, 'dur': 290.3938293457031, 'ph': 'X', 'cname': 'detailed_memory_dump', 'args': {}}, {'cat': 'fetch_and_run_function', 'name': 'fetch_and_run_function', 'pid': '10.1.94.81', 'tid': 'worker:4988e95ced70b51a546ca8153043d5aedecd820a', 'ts': 1610382278209071.2, 'dur': 1485.8245849609375, 'ph': 'X', 'cname': 'detailed_memory_dump', 'args': {}}, {'cat': 'fetch_and_run_function', 'name': 'fetch_and_run_function', 'pid': '10.1.94.81', 'tid': 'worker:4988e95ced70b51a546ca8153043d5aedecd820a', 'ts': 1610382278210566.2, 'dur': 281.5723419189453, 'ph': 'X', 'cname': 'detailed_memory_dump', 'args': {}}, {'cat': 'wait_for_function', 'name': 'wait_for_function', 'pid': '10.1.94.81', 'tid': 'worker:4988e95ced70b51a546ca8153043d5aedecd820a', 'ts': 1610382278206873.5, 'dur': 4832.983016967773, 'ph': 'X', 'cname': 'detailed_memory_dump', 'args': {}}, {'cat': 'task:deserialize_arguments', 'name': 'task:deserialize_arguments', 'pid': '10.1.94.81', 'tid': 'worker:4988e95ced70b51a546ca8153043d5aedecd820a', 'ts': 1610382278212091.8, 'dur': 262.0220184326172, 'ph': 'X', 'cname': 'rail_load', 'args': {}}]\n"
     ]
    }
   ],
   "source": [
    "ray.timeline()"
   ]
  },
  {
   "cell_type": "markdown",
   "metadata": {},
   "source": [
    "**EXERCISE:** Run the cell below and verify that `reduce_parallel_tree` runs instantaneously and that fetching the result takes the expected amount of time.\n",
    "\n",
    "Each task takes 0.3 seconds, so both `reduce_serial` and `reduce_parallel` should take `8 * 0.3 = 2.4` seconds. The tree should have depth 3, so `reduce_parallel_tree` should take about `3 * 0.3 = 0.9` seconds."
   ]
  },
  {
   "cell_type": "code",
   "execution_count": 15,
   "metadata": {
    "workflow": {
     "step": {
      "in": [
       "add_regular",
       "reduce_serial",
       "reduce_parallel",
       "reduce_parallel_tree",
       {
        "name": "ray",
        "serializer": "ray",
        "type": "name"
       },
       {
        "name": "add_remote",
        "serializer": {
         "postload": "import ray;\noriginal_function = add_remote._function\noriginal_function.__module__ = '__main__'\nadd_remote = ray.remote(original_function)"
        },
        "type": "name"
       }
      ]
     },
     "target": {
      "model": "ray",
      "service": "ray-head"
     }
    }
   },
   "outputs": [
    {
     "name": "stdout",
     "output_type": "stream",
     "text": [
      "reduce_serial:\n",
      "CPU times: user 86.6 ms, sys: 20.7 ms, total: 107 ms\n",
      "Wall time: 2.1 s\n",
      "\n",
      "calling reduce_parallel:\n",
      "CPU times: user 2.92 ms, sys: 3.15 ms, total: 6.07 ms\n",
      "Wall time: 4.7 ms\n",
      "\n",
      "getting results from reduce_parallel:\n",
      "CPU times: user 102 ms, sys: 30.2 ms, total: 132 ms\n",
      "Wall time: 2.5 s\n",
      "\n",
      "calling reduce_parallel_tree:\n",
      "CPU times: user 2.98 ms, sys: 0 ns, total: 2.98 ms\n",
      "Wall time: 3.02 ms\n",
      "\n",
      "getting results from reduce_parallel_tree:\n",
      "CPU times: user 39.8 ms, sys: 11.2 ms, total: 51 ms\n",
      "Wall time: 1.28 s\n"
     ]
    }
   ],
   "source": [
    "# Regular sleep should take 4 seconds.\n",
    "print('reduce_serial:')\n",
    "%time results_serial = reduce_serial(add_regular, [1, 2, 3, 4, 5, 6, 7, 8])\n",
    "\n",
    "# Initiating the map_parallel should be instantaneous.\n",
    "print('\\ncalling reduce_parallel:')\n",
    "%time result_ids = reduce_parallel(add_remote, [1, 2, 3, 4, 5, 6, 7, 8])\n",
    "\n",
    "# Fetching the results from map_parallel should take 1 second\n",
    "# (since we started Ray with num_cpus=4).\n",
    "print('\\ngetting results from reduce_parallel:')\n",
    "%time results_parallel = ray.get(result_ids)\n",
    "\n",
    "assert results_parallel == results_serial\n",
    "\n",
    "# Initiating the map_parallel should be instantaneous.\n",
    "print('\\ncalling reduce_parallel_tree:')\n",
    "%time result_tree_ids = reduce_parallel_tree(add_remote, [1, 2, 3, 4, 5, 6, 7, 8])\n",
    "\n",
    "# Fetching the results from map_parallel should take 1 second\n",
    "# (since we started Ray with num_cpus=4).\n",
    "print('\\ngetting results from reduce_parallel_tree:')\n",
    "%time results_parallel_tree = ray.get(result_tree_ids)\n",
    "\n",
    "assert results_parallel_tree == results_serial"
   ]
  }
 ],
 "metadata": {
  "celltoolbar": "Edit Metadata",
  "kernelspec": {
   "display_name": "Jupyter Workflow",
   "language": "python",
   "name": "jupyter-workflow"
  },
  "language_info": {
   "codemirror_mode": {
    "name": "ipython",
    "version": 3
   },
   "file_extension": ".py",
   "mimetype": "text/x-python",
   "name": "python",
   "nbconvert_exporter": "python",
   "pygments_lexer": "ipython3",
   "version": "3.8.5"
  },
  "workflow": {
   "models": {
    "ray": {
     "config": {
      "chart": "helm/ray",
      "namespace": "ray",
      "releaseName": "ray"
     },
     "type": "helm"
    }
   },
   "serializers": {
    "ray": {
     "postload": "if not ray.is_initialized():\n\tray.init('auto')"
    }
   },
   "version": "v1.0"
  }
 },
 "nbformat": 4,
 "nbformat_minor": 2
}
