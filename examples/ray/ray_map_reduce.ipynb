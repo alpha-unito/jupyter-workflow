{
 "cells": [
  {
   "cell_type": "markdown",
   "metadata": {},
   "source": [
    "# MapReduce\n",
    "\n",
    "**GOAL:** The goal of this exercise is to show how to implement a toy version of the MapReduce system on top of Ray.\n",
    "\n",
    "[MapReduce](https://en.wikipedia.org/wiki/MapReduce) is essentially a computational pattern for computing aggregate statistics of large datasets. It is the core primitive in systems like MapReduce, Hadoop, and Spark.\n",
    "\n",
    "At its core, MapReduce consists of two primitives:\n",
    "- The **map** transformation takes a dataset and a function and applies the function to each data point.\n",
    "- The **reduce** transformation aggregates the output of the map stage.\n",
    "\n",
    "For example, suppose that our starting point is a collection of documents. If we wish to count the number of occurrences of each word in the document, we can first apply a \"map\" transformation, which turns each document into a dictionary mapping words to the number of occurrences within that document. Then we can apply the \"reduce\" transformation, which sums the counts for each word."
   ]
  },
  {
   "cell_type": "code",
   "execution_count": 1,
   "metadata": {},
   "outputs": [],
   "source": [
    "from __future__ import absolute_import\n",
    "from __future__ import division\n",
    "from __future__ import print_function\n",
    "\n",
    "import numpy as np\n",
    "import ray\n",
    "import time"
   ]
  },
  {
   "cell_type": "code",
   "execution_count": 2,
   "metadata": {},
   "outputs": [],
   "source": [
    "if not ray.is_initialized():\n",
    "    ray.init(num_cpus=4, include_dashboard=False, ignore_reinit_error=True)"
   ]
  },
  {
   "cell_type": "markdown",
   "metadata": {},
   "source": [
    "Below is a serial implementation of the **map** function. Note that Python already has a [built-in map function](https://docs.python.org/2/library/functions.html#map)."
   ]
  },
  {
   "cell_type": "code",
   "execution_count": 3,
   "metadata": {},
   "outputs": [],
   "source": [
    "def map_serial(function, xs):\n",
    "    return [function(x) for x in xs]"
   ]
  },
  {
   "cell_type": "markdown",
   "metadata": {},
   "source": [
    "**EXERCISE:** Implement a parallel version of the map function. You'll need to modify the function below.\n",
    "\n",
    "**NOTE:** Because we want `map_parallel` to be non-blocking, the function signature for `map_parallel` should be different from the signature of `map_serial`.\n",
    "- The argument `function` must be a Ray remote function instead of a regular Python function.\n",
    "- The return value should be a list of Ray `ObjectID`s instead of a list of the actual transformed values (so that `map_parallel` can return immediately)."
   ]
  },
  {
   "cell_type": "code",
   "execution_count": 4,
   "metadata": {},
   "outputs": [],
   "source": [
    "def map_parallel(function, xs):\n",
    "    \"\"\"Apply a remote function to each element of a list.\"\"\"\n",
    "    if not isinstance(xs, list):\n",
    "        raise ValueError('The xs argument must be a list.')\n",
    "    \n",
    "    if not hasattr(function, 'remote'):\n",
    "        raise ValueError('The function argument must be a remote function.')\n",
    "\n",
    "    return [function.remote(x) for x in xs]\n",
    "\n",
    "def increment_regular(x):\n",
    "    return x + 1\n",
    "\n",
    "@ray.remote\n",
    "def increment_remote(x):\n",
    "    return x + 1"
   ]
  },
  {
   "cell_type": "code",
   "execution_count": 5,
   "metadata": {
    "workflow": {
     "step": {
      "in": [
       {
        "name": "ray",
        "serializer": "ray",
        "type": "name"
       },
       {
        "name": "increment_remote",
        "serializer": {
         "postload": "import ray;\noriginal_function = increment_remote._function\noriginal_function.__module__ = '__main__'\nincrement_remote = ray.remote(original_function)"
        },
        "type": "name"
       }
      ]
     },
     "target": {
      "model": "ray",
      "service": "ray-head"
     }
    }
   },
   "outputs": [
    {
     "name": "stdout",
     "output_type": "stream",
     "text": [
      "Congratulations, the test passed!\n"
     ]
    }
   ],
   "source": [
    "xs = [1, 2, 3, 4, 5]\n",
    "result_ids = map_parallel(increment_remote, xs)\n",
    "assert isinstance(result_ids, list), 'The output of \"map_parallel\" must be a list.'\n",
    "assert all([isinstance(x, ray.ObjectID) for x in result_ids]), 'The output of map_parallel must be a list of ObjectIDs.'\n",
    "assert ray.get(result_ids) == map_serial(increment_regular, xs)\n",
    "print('Congratulations, the test passed!')  "
   ]
  },
  {
   "cell_type": "raw",
   "metadata": {},
   "source": [
    "**EXERCISE:** Run the cell below and verify that `parallel_map` runs instantaneously and that fetching the result takes the expected amount of time for a simple task that sleeps."
   ]
  },
  {
   "cell_type": "code",
   "execution_count": 6,
   "metadata": {
    "pycharm": {
     "name": "#%%\n"
    },
    "workflow": {
     "step": {
      "in": [
       "map_serial",
       "map_parallel",
       {
        "name": "ray",
        "serializer": "ray",
        "type": "name"
       }
      ]
     },
     "target": {
      "model": "ray",
      "service": "ray-head"
     }
    }
   },
   "outputs": [
    {
     "name": "stdout",
     "output_type": "stream",
     "text": [
      "map_serial:\n",
      "CPU times: user 164 ms, sys: 51.9 ms, total: 216 ms\n",
      "Wall time: 4 s\n",
      "\n",
      "calling map_parallel:\n",
      "CPU times: user 5.29 ms, sys: 0 ns, total: 5.29 ms\n",
      "Wall time: 4.1 ms\n",
      "\n",
      "getting results from map_parallel:\n",
      "CPU times: user 76.5 ms, sys: 10.6 ms, total: 87.1 ms\n",
      "Wall time: 1.81 s\n"
     ]
    }
   ],
   "source": [
    "def sleep_regular(x):\n",
    "    time.sleep(1)\n",
    "    return x + 1\n",
    "\n",
    "\n",
    "@ray.remote\n",
    "def sleep_remote(x):\n",
    "    time.sleep(1)\n",
    "    return x + 1\n",
    "\n",
    "\n",
    "# Regular sleep should take 4 seconds.\n",
    "print('map_serial:')\n",
    "%time results_serial = map_serial(sleep_regular, [1, 2, 3, 4])\n",
    "\n",
    "# Initiaing the map_parallel should be instantaneous.\n",
    "print('\\ncalling map_parallel:')\n",
    "%time result_ids = map_parallel(sleep_remote, [1, 2, 3, 4])\n",
    "\n",
    "# Fetching the results from map_parallel should take 1 second\n",
    "# (since we started Ray with num_cpus=4).\n",
    "print('\\ngetting results from map_parallel:')\n",
    "%time results_parallel = ray.get(result_ids)\n",
    "\n",
    "assert results_parallel == results_serial"
   ]
  },
  {
   "cell_type": "markdown",
   "metadata": {},
   "source": [
    "**EXERCISE:** Take a look at the task timeline and verify that the four map tasks executed in parallel. Do this by running the next cell and clicking *\"View task timeline\"*.\n",
    "\n",
    "**NOTE:** This will show all tasks that have been executed since `ray.init()` was called, which may be a lot.\n",
    "\n",
    "To navigate the timeline:\n",
    "- Click and drag to move.\n",
    "- Scroll to zoom."
   ]
  },
  {
   "cell_type": "code",
   "execution_count": 7,
   "metadata": {
    "workflow": {
     "step": {
      "in": [
       {
        "name": "ray",
        "serializer": "ray",
        "type": "name"
       }
      ]
     },
     "target": {
      "model": "ray",
      "service": "ray-head"
     }
    }
   },
   "outputs": [
    {
     "name": "stdout",
     "output_type": "stream",
     "text": [
      "[{'cat': 'fetch_and_run_function', 'name': 'fetch_and_run_function', 'pid': '10.1.94.42', 'tid': 'worker:c18a2c54583e2c855b5325c6fff4a975c47a3be1', 'ts': 1609951802013984.0, 'dur': 620.6035614013672, 'ph': 'X', 'cname': 'detailed_memory_dump', 'args': {}}, {'cat': 'fetch_and_run_function', 'name': 'fetch_and_run_function', 'pid': '10.1.94.42', 'tid': 'worker:c18a2c54583e2c855b5325c6fff4a975c47a3be1', 'ts': 1609951802014624.8, 'dur': 447.98851013183594, 'ph': 'X', 'cname': 'detailed_memory_dump', 'args': {}}, {'cat': 'fetch_and_run_function', 'name': 'fetch_and_run_function', 'pid': '10.1.94.42', 'tid': 'worker:c18a2c54583e2c855b5325c6fff4a975c47a3be1', 'ts': 1609951802015905.8, 'dur': 516.1762237548828, 'ph': 'X', 'cname': 'detailed_memory_dump', 'args': {}}, {'cat': 'fetch_and_run_function', 'name': 'fetch_and_run_function', 'pid': '10.1.94.42', 'tid': 'worker:c18a2c54583e2c855b5325c6fff4a975c47a3be1', 'ts': 1609951802016438.0, 'dur': 360.4888916015625, 'ph': 'X', 'cname': 'detailed_memory_dump', 'args': {}}, {'cat': 'fetch_and_run_function', 'name': 'fetch_and_run_function', 'pid': '10.1.94.42', 'tid': 'driver:02000000ffffffffffffffffffffffffffffffff', 'ts': 1609951796790097.2, 'dur': 476.1219024658203, 'ph': 'X', 'cname': 'detailed_memory_dump', 'args': {}}, {'cat': 'fetch_and_run_function', 'name': 'fetch_and_run_function', 'pid': '10.1.94.42', 'tid': 'driver:02000000ffffffffffffffffffffffffffffffff', 'ts': 1609951796790607.2, 'dur': 443.2201385498047, 'ph': 'X', 'cname': 'detailed_memory_dump', 'args': {}}, {'cat': 'fetch_and_run_function', 'name': 'fetch_and_run_function', 'pid': '10.1.94.42', 'tid': 'driver:02000000ffffffffffffffffffffffffffffffff', 'ts': 1609951796804491.5, 'dur': 277.2808074951172, 'ph': 'X', 'cname': 'detailed_memory_dump', 'args': {}}, {'cat': 'fetch_and_run_function', 'name': 'fetch_and_run_function', 'pid': '10.1.94.42', 'tid': 'driver:02000000ffffffffffffffffffffffffffffffff', 'ts': 1609951796804904.5, 'dur': 226.02081298828125, 'ph': 'X', 'cname': 'detailed_memory_dump', 'args': {}}, {'cat': 'ray.get', 'name': 'ray.get', 'pid': '10.1.94.42', 'tid': 'driver:02000000ffffffffffffffffffffffffffffffff', 'ts': 1609951800812592.0, 'dur': 1805361.7477416992, 'ph': 'X', 'cname': 'good', 'args': {}}, {'cat': 'submit_task', 'name': 'submit_task', 'pid': '10.1.94.42', 'tid': 'driver:02000000ffffffffffffffffffffffffffffffff', 'ts': 1609951800809658.8, 'dur': 797.7485656738281, 'ph': 'X', 'cname': 'background_memory_dump', 'args': {}}, {'cat': 'submit_task', 'name': 'submit_task', 'pid': '10.1.94.42', 'tid': 'driver:02000000ffffffffffffffffffffffffffffffff', 'ts': 1609951800810612.2, 'dur': 181.1981201171875, 'ph': 'X', 'cname': 'background_memory_dump', 'args': {}}, {'cat': 'submit_task', 'name': 'submit_task', 'pid': '10.1.94.42', 'tid': 'driver:02000000ffffffffffffffffffffffffffffffff', 'ts': 1609951800810860.8, 'dur': 147.34268188476562, 'ph': 'X', 'cname': 'background_memory_dump', 'args': {}}, {'cat': 'submit_task', 'name': 'submit_task', 'pid': '10.1.94.42', 'tid': 'driver:02000000ffffffffffffffffffffffffffffffff', 'ts': 1609951800811070.0, 'dur': 706.1958312988281, 'ph': 'X', 'cname': 'background_memory_dump', 'args': {}}, {'cat': 'fetch_and_run_function', 'name': 'fetch_and_run_function', 'pid': '10.1.94.42', 'tid': 'worker:30d7b06a437918e331a2a51eebb8ceb6347fbc5c', 'ts': 1609951801934994.8, 'dur': 593.4238433837891, 'ph': 'X', 'cname': 'detailed_memory_dump', 'args': {}}, {'cat': 'fetch_and_run_function', 'name': 'fetch_and_run_function', 'pid': '10.1.94.42', 'tid': 'worker:30d7b06a437918e331a2a51eebb8ceb6347fbc5c', 'ts': 1609951801935608.2, 'dur': 375.0324249267578, 'ph': 'X', 'cname': 'detailed_memory_dump', 'args': {}}, {'cat': 'fetch_and_run_function', 'name': 'fetch_and_run_function', 'pid': '10.1.94.42', 'tid': 'worker:30d7b06a437918e331a2a51eebb8ceb6347fbc5c', 'ts': 1609951801936584.2, 'dur': 422.7161407470703, 'ph': 'X', 'cname': 'detailed_memory_dump', 'args': {}}, {'cat': 'fetch_and_run_function', 'name': 'fetch_and_run_function', 'pid': '10.1.94.42', 'tid': 'worker:30d7b06a437918e331a2a51eebb8ceb6347fbc5c', 'ts': 1609951801937023.5, 'dur': 317.3351287841797, 'ph': 'X', 'cname': 'detailed_memory_dump', 'args': {}}, {'cat': 'fetch_and_run_function', 'name': 'fetch_and_run_function', 'pid': '10.1.94.42', 'tid': 'worker:49a483d1619baaafc2c55c35b015b2616f3876bb', 'ts': 1609951801218604.2, 'dur': 423.66981506347656, 'ph': 'X', 'cname': 'detailed_memory_dump', 'args': {}}, {'cat': 'fetch_and_run_function', 'name': 'fetch_and_run_function', 'pid': '10.1.94.42', 'tid': 'worker:49a483d1619baaafc2c55c35b015b2616f3876bb', 'ts': 1609951801219043.0, 'dur': 346.4221954345703, 'ph': 'X', 'cname': 'detailed_memory_dump', 'args': {}}, {'cat': 'fetch_and_run_function', 'name': 'fetch_and_run_function', 'pid': '10.1.94.42', 'tid': 'worker:49a483d1619baaafc2c55c35b015b2616f3876bb', 'ts': 1609951801219967.0, 'dur': 364.7804260253906, 'ph': 'X', 'cname': 'detailed_memory_dump', 'args': {}}, {'cat': 'fetch_and_run_function', 'name': 'fetch_and_run_function', 'pid': '10.1.94.42', 'tid': 'worker:49a483d1619baaafc2c55c35b015b2616f3876bb', 'ts': 1609951801220344.8, 'dur': 244.8558807373047, 'ph': 'X', 'cname': 'detailed_memory_dump', 'args': {}}, {'cat': 'wait_for_function', 'name': 'wait_for_function', 'pid': '10.1.94.42', 'tid': 'worker:49a483d1619baaafc2c55c35b015b2616f3876bb', 'ts': 1609951801215869.5, 'dur': 5551.338195800781, 'ph': 'X', 'cname': 'detailed_memory_dump', 'args': {}}, {'cat': 'task:deserialize_arguments', 'name': 'task:deserialize_arguments', 'pid': '10.1.94.42', 'tid': 'worker:49a483d1619baaafc2c55c35b015b2616f3876bb', 'ts': 1609951801221925.8, 'dur': 257.4920654296875, 'ph': 'X', 'cname': 'rail_load', 'args': {}}, {'cat': 'task:execute', 'name': 'task:execute', 'pid': '10.1.94.42', 'tid': 'worker:49a483d1619baaafc2c55c35b015b2616f3876bb', 'ts': 1609951801222187.5, 'dur': 1001074.3141174316, 'ph': 'X', 'cname': 'rail_animation', 'args': {}}, {'cat': 'task:store_outputs', 'name': 'task:store_outputs', 'pid': '10.1.94.42', 'tid': 'worker:49a483d1619baaafc2c55c35b015b2616f3876bb', 'ts': 1609951802223279.5, 'dur': 190.0196075439453, 'ph': 'X', 'cname': 'rail_idle', 'args': {}}, {'cat': 'task', 'name': 'task', 'pid': '10.1.94.42', 'tid': 'worker:49a483d1619baaafc2c55c35b015b2616f3876bb', 'ts': 1609951801221462.5, 'dur': 1002009.6302032471, 'ph': 'X', 'cname': 'rail_response', 'args': {}}, {'cat': 'fetch_and_run_function', 'name': 'fetch_and_run_function', 'pid': '10.1.94.42', 'tid': 'worker:d104f9c4049f0bbe02cb23ec679ef5d5a9f0bd7a', 'ts': 1609951801536710.2, 'dur': 691.1754608154297, 'ph': 'X', 'cname': 'detailed_memory_dump', 'args': {}}, {'cat': 'fetch_and_run_function', 'name': 'fetch_and_run_function', 'pid': '10.1.94.42', 'tid': 'worker:d104f9c4049f0bbe02cb23ec679ef5d5a9f0bd7a', 'ts': 1609951801537418.2, 'dur': 307.0831298828125, 'ph': 'X', 'cname': 'detailed_memory_dump', 'args': {}}, {'cat': 'fetch_and_run_function', 'name': 'fetch_and_run_function', 'pid': '10.1.94.42', 'tid': 'worker:d104f9c4049f0bbe02cb23ec679ef5d5a9f0bd7a', 'ts': 1609951801538126.8, 'dur': 202.65579223632812, 'ph': 'X', 'cname': 'detailed_memory_dump', 'args': {}}, {'cat': 'fetch_and_run_function', 'name': 'fetch_and_run_function', 'pid': '10.1.94.42', 'tid': 'worker:d104f9c4049f0bbe02cb23ec679ef5d5a9f0bd7a', 'ts': 1609951801538338.8, 'dur': 197.1721649169922, 'ph': 'X', 'cname': 'detailed_memory_dump', 'args': {}}, {'cat': 'wait_for_function', 'name': 'wait_for_function', 'pid': '10.1.94.42', 'tid': 'worker:d104f9c4049f0bbe02cb23ec679ef5d5a9f0bd7a', 'ts': 1609951801536381.8, 'dur': 2892.732620239258, 'ph': 'X', 'cname': 'detailed_memory_dump', 'args': {}}, {'cat': 'task:deserialize_arguments', 'name': 'task:deserialize_arguments', 'pid': '10.1.94.42', 'tid': 'worker:d104f9c4049f0bbe02cb23ec679ef5d5a9f0bd7a', 'ts': 1609951801539701.8, 'dur': 291.58592224121094, 'ph': 'X', 'cname': 'rail_load', 'args': {}}, {'cat': 'fetch_and_run_function', 'name': 'fetch_and_run_function', 'pid': '10.1.94.42', 'tid': 'worker:da8c077d18c37e62934f2d2f3cf066ad6f4aa729', 'ts': 1609951801591335.5, 'dur': 294.4469451904297, 'ph': 'X', 'cname': 'detailed_memory_dump', 'args': {}}, {'cat': 'fetch_and_run_function', 'name': 'fetch_and_run_function', 'pid': '10.1.94.42', 'tid': 'worker:da8c077d18c37e62934f2d2f3cf066ad6f4aa729', 'ts': 1609951801591640.0, 'dur': 204.8015594482422, 'ph': 'X', 'cname': 'detailed_memory_dump', 'args': {}}, {'cat': 'fetch_and_run_function', 'name': 'fetch_and_run_function', 'pid': '10.1.94.42', 'tid': 'worker:da8c077d18c37e62934f2d2f3cf066ad6f4aa729', 'ts': 1609951801592958.2, 'dur': 223.63662719726562, 'ph': 'X', 'cname': 'detailed_memory_dump', 'args': {}}, {'cat': 'fetch_and_run_function', 'name': 'fetch_and_run_function', 'pid': '10.1.94.42', 'tid': 'worker:da8c077d18c37e62934f2d2f3cf066ad6f4aa729', 'ts': 1609951801593190.8, 'dur': 198.12583923339844, 'ph': 'X', 'cname': 'detailed_memory_dump', 'args': {}}, {'cat': 'wait_for_function', 'name': 'wait_for_function', 'pid': '10.1.94.42', 'tid': 'worker:da8c077d18c37e62934f2d2f3cf066ad6f4aa729', 'ts': 1609951801592149.5, 'dur': 2249.2408752441406, 'ph': 'X', 'cname': 'detailed_memory_dump', 'args': {}}, {'cat': 'task:deserialize_arguments', 'name': 'task:deserialize_arguments', 'pid': '10.1.94.42', 'tid': 'worker:da8c077d18c37e62934f2d2f3cf066ad6f4aa729', 'ts': 1609951801594718.8, 'dur': 245.57113647460938, 'ph': 'X', 'cname': 'rail_load', 'args': {}}, {'cat': 'fetch_and_run_function', 'name': 'fetch_and_run_function', 'pid': '10.1.94.42', 'tid': 'worker:3c4ba14ea293a35e99a6fc9d1bfb9548a6b8b3a5', 'ts': 1609951801613559.0, 'dur': 236.98806762695312, 'ph': 'X', 'cname': 'detailed_memory_dump', 'args': {}}, {'cat': 'fetch_and_run_function', 'name': 'fetch_and_run_function', 'pid': '10.1.94.42', 'tid': 'worker:3c4ba14ea293a35e99a6fc9d1bfb9548a6b8b3a5', 'ts': 1609951801613805.2, 'dur': 164.98565673828125, 'ph': 'X', 'cname': 'detailed_memory_dump', 'args': {}}, {'cat': 'fetch_and_run_function', 'name': 'fetch_and_run_function', 'pid': '10.1.94.42', 'tid': 'worker:3c4ba14ea293a35e99a6fc9d1bfb9548a6b8b3a5', 'ts': 1609951801614318.8, 'dur': 151.8726348876953, 'ph': 'X', 'cname': 'detailed_memory_dump', 'args': {}}, {'cat': 'fetch_and_run_function', 'name': 'fetch_and_run_function', 'pid': '10.1.94.42', 'tid': 'worker:3c4ba14ea293a35e99a6fc9d1bfb9548a6b8b3a5', 'ts': 1609951801614477.0, 'dur': 147.81951904296875, 'ph': 'X', 'cname': 'detailed_memory_dump', 'args': {}}, {'cat': 'wait_for_function', 'name': 'wait_for_function', 'pid': '10.1.94.42', 'tid': 'worker:3c4ba14ea293a35e99a6fc9d1bfb9548a6b8b3a5', 'ts': 1609951801612916.0, 'dur': 2263.5459899902344, 'ph': 'X', 'cname': 'detailed_memory_dump', 'args': {}}, {'cat': 'task:deserialize_arguments', 'name': 'task:deserialize_arguments', 'pid': '10.1.94.42', 'tid': 'worker:3c4ba14ea293a35e99a6fc9d1bfb9548a6b8b3a5', 'ts': 1609951801615449.2, 'dur': 218.1529998779297, 'ph': 'X', 'cname': 'rail_load', 'args': {}}]\n"
     ]
    }
   ],
   "source": [
    "ray.timeline()"
   ]
  },
  {
   "cell_type": "markdown",
   "metadata": {},
   "source": [
    "Below is a serial implementation of a simple **reduce** function. Note that Python has a [built-in reduce function](https://docs.python.org/2/library/functions.html#reduce).\n",
    "\n",
    "The reduce function essentially aggregates all of the elements in a list (e.g., by summing them together)."
   ]
  },
  {
   "cell_type": "code",
   "execution_count": 8,
   "metadata": {},
   "outputs": [],
   "source": [
    "def reduce_serial(function, xs):\n",
    "    if len(xs) == 1:\n",
    "        return xs[0]\n",
    "    \n",
    "    result = xs[0]\n",
    "    for i in range(1, len(xs)):\n",
    "        result = function(result, xs[i])\n",
    "\n",
    "    return result\n",
    "\n",
    "\n",
    "def add_regular(x, y):\n",
    "    time.sleep(0.3)\n",
    "    return x + y\n",
    "\n",
    "\n",
    "assert reduce_serial(add_regular, [1, 2, 3, 4, 5, 6, 7, 8]) == 36"
   ]
  },
  {
   "cell_type": "markdown",
   "metadata": {},
   "source": [
    "**EXERCISE:** Implement `reduce_parallel` below by modifying the serial reduce implementation to simply invoke `function` remotely (via `function.remote`).\n",
    "\n",
    "Note that the underlying assumption here is that **function** is commutative and associative. That is, it shouldn't matter what order the elements are aggregated in (this is necessary for achieving parallelism)."
   ]
  },
  {
   "cell_type": "code",
   "execution_count": 9,
   "metadata": {},
   "outputs": [],
   "source": [
    "def reduce_parallel(function, xs):\n",
    "    if not isinstance(xs, list):\n",
    "        raise ValueError('The xs argument must be a list.')\n",
    "\n",
    "    if not hasattr(function, 'remote'):\n",
    "        raise ValueError('The function argument must be a remote function.')\n",
    "\n",
    "    if len(xs) == 1:\n",
    "        return xs[0]\n",
    "\n",
    "    result = xs[0]\n",
    "    for i in range(1, len(xs)):\n",
    "        result = function.remote(result, xs[i])\n",
    "\n",
    "    return result\n",
    "\n",
    "\n",
    "@ray.remote\n",
    "def add_remote(x, y):\n",
    "    time.sleep(0.3)\n",
    "    return x + y"
   ]
  },
  {
   "cell_type": "code",
   "execution_count": 10,
   "metadata": {
    "workflow": {
     "step": {
      "in": [
       {
        "name": "ray",
        "serializer": "ray",
        "type": "name"
       },
       {
        "name": "add_remote",
        "serializer": {
         "postload": "import ray;\noriginal_function = add_remote._function\noriginal_function.__module__ = '__main__'\nadd_remote = ray.remote(original_function)"
        },
        "type": "name"
       }
      ]
     },
     "target": {
      "model": "ray",
      "service": "ray-head"
     }
    }
   },
   "outputs": [
    {
     "name": "stdout",
     "output_type": "stream",
     "text": [
      "Congratulations, the test passed!\n"
     ]
    }
   ],
   "source": [
    "xs = [1, 2, 3, 4, 5, 6, 7, 8]\n",
    "result_id = reduce_parallel(add_remote, xs)\n",
    "assert ray.get(result_id) == reduce_serial(add_regular, xs)\n",
    "print('Congratulations, the test passed!')"
   ]
  },
  {
   "cell_type": "markdown",
   "metadata": {},
   "source": [
    "**EXERCISE:** Take a look at the timeline for the above computation graph from the call to `reduce_parallel`. Is there any parallelism?"
   ]
  },
  {
   "cell_type": "code",
   "execution_count": 11,
   "metadata": {
    "workflow": {
     "step": {
      "in": [
       {
        "name": "ray",
        "serializer": "ray",
        "type": "name"
       }
      ]
     },
     "target": {
      "model": "ray",
      "service": "ray-head"
     }
    }
   },
   "outputs": [
    {
     "name": "stdout",
     "output_type": "stream",
     "text": [
      "[{'cat': 'task:execute', 'name': 'task:execute', 'pid': '10.1.94.42', 'tid': 'worker:0579af9426fcfdbdb33e138f4263de7674181543', 'ts': 1609951818509474.0, 'dur': 300540.4472351074, 'ph': 'X', 'cname': 'rail_animation', 'args': {}}, {'cat': 'task:store_outputs', 'name': 'task:store_outputs', 'pid': '10.1.94.42', 'tid': 'worker:0579af9426fcfdbdb33e138f4263de7674181543', 'ts': 1609951818810044.5, 'dur': 329.01763916015625, 'ph': 'X', 'cname': 'rail_idle', 'args': {}}, {'cat': 'task', 'name': 'task', 'pid': '10.1.94.42', 'tid': 'worker:0579af9426fcfdbdb33e138f4263de7674181543', 'ts': 1609951818509241.2, 'dur': 301135.778427124, 'ph': 'X', 'cname': 'rail_response', 'args': {}}, {'cat': 'task:deserialize_arguments', 'name': 'task:deserialize_arguments', 'pid': '10.1.94.42', 'tid': 'worker:0579af9426fcfdbdb33e138f4263de7674181543', 'ts': 1609951818813881.8, 'dur': 225.30555725097656, 'ph': 'X', 'cname': 'rail_load', 'args': {}}, {'cat': 'task:execute', 'name': 'task:execute', 'pid': '10.1.94.42', 'tid': 'worker:0579af9426fcfdbdb33e138f4263de7674181543', 'ts': 1609951818814113.8, 'dur': 300457.239151001, 'ph': 'X', 'cname': 'rail_animation', 'args': {}}, {'cat': 'task:store_outputs', 'name': 'task:store_outputs', 'pid': '10.1.94.42', 'tid': 'worker:0579af9426fcfdbdb33e138f4263de7674181543', 'ts': 1609951819114592.2, 'dur': 132.56072998046875, 'ph': 'X', 'cname': 'rail_idle', 'args': {}}, {'cat': 'task', 'name': 'task', 'pid': '10.1.94.42', 'tid': 'worker:0579af9426fcfdbdb33e138f4263de7674181543', 'ts': 1609951818813362.2, 'dur': 301364.6602630615, 'ph': 'X', 'cname': 'rail_response', 'args': {}}, {'cat': 'task:deserialize_arguments', 'name': 'task:deserialize_arguments', 'pid': '10.1.94.42', 'tid': 'worker:0579af9426fcfdbdb33e138f4263de7674181543', 'ts': 1609951819117001.5, 'dur': 148.0579376220703, 'ph': 'X', 'cname': 'rail_load', 'args': {}}, {'cat': 'task:execute', 'name': 'task:execute', 'pid': '10.1.94.42', 'tid': 'worker:0579af9426fcfdbdb33e138f4263de7674181543', 'ts': 1609951819117152.5, 'dur': 300467.01431274414, 'ph': 'X', 'cname': 'rail_animation', 'args': {}}, {'cat': 'task:store_outputs', 'name': 'task:store_outputs', 'pid': '10.1.94.42', 'tid': 'worker:0579af9426fcfdbdb33e138f4263de7674181543', 'ts': 1609951819417640.8, 'dur': 140.66696166992188, 'ph': 'X', 'cname': 'rail_idle', 'args': {}}, {'cat': 'task', 'name': 'task', 'pid': '10.1.94.42', 'tid': 'worker:0579af9426fcfdbdb33e138f4263de7674181543', 'ts': 1609951819116986.0, 'dur': 300797.9393005371, 'ph': 'X', 'cname': 'rail_response', 'args': {}}, {'cat': 'task:deserialize_arguments', 'name': 'task:deserialize_arguments', 'pid': '10.1.94.42', 'tid': 'worker:0579af9426fcfdbdb33e138f4263de7674181543', 'ts': 1609951819420169.0, 'dur': 202.41737365722656, 'ph': 'X', 'cname': 'rail_load', 'args': {}}, {'cat': 'fetch_and_run_function', 'name': 'fetch_and_run_function', 'pid': '10.1.94.42', 'tid': 'worker:0579af9426fcfdbdb33e138f4263de7674181543', 'ts': 1609951817590154.5, 'dur': 593.1854248046875, 'ph': 'X', 'cname': 'detailed_memory_dump', 'args': {}}, {'cat': 'fetch_and_run_function', 'name': 'fetch_and_run_function', 'pid': '10.1.94.42', 'tid': 'worker:0579af9426fcfdbdb33e138f4263de7674181543', 'ts': 1609951817590761.0, 'dur': 304.93736267089844, 'ph': 'X', 'cname': 'detailed_memory_dump', 'args': {}}, {'cat': 'fetch_and_run_function', 'name': 'fetch_and_run_function', 'pid': '10.1.94.42', 'tid': 'worker:0579af9426fcfdbdb33e138f4263de7674181543', 'ts': 1609951817591815.5, 'dur': 310.1825714111328, 'ph': 'X', 'cname': 'detailed_memory_dump', 'args': {}}, {'cat': 'fetch_and_run_function', 'name': 'fetch_and_run_function', 'pid': '10.1.94.42', 'tid': 'worker:0579af9426fcfdbdb33e138f4263de7674181543', 'ts': 1609951817592136.5, 'dur': 245.80955505371094, 'ph': 'X', 'cname': 'detailed_memory_dump', 'args': {}}, {'cat': 'fetch_and_run_function', 'name': 'fetch_and_run_function', 'pid': '10.1.94.42', 'tid': 'worker:0579af9426fcfdbdb33e138f4263de7674181543', 'ts': 1609951817592769.5, 'dur': 288.96331787109375, 'ph': 'X', 'cname': 'detailed_memory_dump', 'args': {}}, {'cat': 'fetch_and_run_function', 'name': 'fetch_and_run_function', 'pid': '10.1.94.42', 'tid': 'worker:0579af9426fcfdbdb33e138f4263de7674181543', 'ts': 1609951817593068.0, 'dur': 277.0423889160156, 'ph': 'X', 'cname': 'detailed_memory_dump', 'args': {}}, {'cat': 'fetch_and_run_function', 'name': 'fetch_and_run_function', 'pid': '10.1.94.42', 'tid': 'worker:0579af9426fcfdbdb33e138f4263de7674181543', 'ts': 1609951817593356.0, 'dur': 207.1857452392578, 'ph': 'X', 'cname': 'detailed_memory_dump', 'args': {}}, {'cat': 'fetch_and_run_function', 'name': 'fetch_and_run_function', 'pid': '10.1.94.42', 'tid': 'worker:0579af9426fcfdbdb33e138f4263de7674181543', 'ts': 1609951817593570.2, 'dur': 184.05914306640625, 'ph': 'X', 'cname': 'detailed_memory_dump', 'args': {}}, {'cat': 'wait_for_function', 'name': 'wait_for_function', 'pid': '10.1.94.42', 'tid': 'worker:0579af9426fcfdbdb33e138f4263de7674181543', 'ts': 1609951817590302.2, 'dur': 3984.9281311035156, 'ph': 'X', 'cname': 'detailed_memory_dump', 'args': {}}, {'cat': 'task:deserialize_arguments', 'name': 'task:deserialize_arguments', 'pid': '10.1.94.42', 'tid': 'worker:0579af9426fcfdbdb33e138f4263de7674181543', 'ts': 1609951817594614.2, 'dur': 341.65382385253906, 'ph': 'X', 'cname': 'rail_load', 'args': {}}, {'cat': 'task:execute', 'name': 'task:execute', 'pid': '10.1.94.42', 'tid': 'worker:0579af9426fcfdbdb33e138f4263de7674181543', 'ts': 1609951817594961.8, 'dur': 300371.8852996826, 'ph': 'X', 'cname': 'rail_animation', 'args': {}}, {'cat': 'task:store_outputs', 'name': 'task:store_outputs', 'pid': '10.1.94.42', 'tid': 'worker:0579af9426fcfdbdb33e138f4263de7674181543', 'ts': 1609951817895357.5, 'dur': 290.87066650390625, 'ph': 'X', 'cname': 'rail_idle', 'args': {}}, {'cat': 'task', 'name': 'task', 'pid': '10.1.94.42', 'tid': 'worker:0579af9426fcfdbdb33e138f4263de7674181543', 'ts': 1609951817594324.8, 'dur': 301326.9901275635, 'ph': 'X', 'cname': 'rail_response', 'args': {}}, {'cat': 'task:deserialize_arguments', 'name': 'task:deserialize_arguments', 'pid': '10.1.94.42', 'tid': 'worker:0579af9426fcfdbdb33e138f4263de7674181543', 'ts': 1609951817901993.8, 'dur': 260.8299255371094, 'ph': 'X', 'cname': 'rail_load', 'args': {}}, {'cat': 'task:execute', 'name': 'task:execute', 'pid': '10.1.94.42', 'tid': 'worker:0579af9426fcfdbdb33e138f4263de7674181543', 'ts': 1609951817902260.0, 'dur': 300230.2646636963, 'ph': 'X', 'cname': 'rail_animation', 'args': {}}, {'cat': 'task:store_outputs', 'name': 'task:store_outputs', 'pid': '10.1.94.42', 'tid': 'worker:0579af9426fcfdbdb33e138f4263de7674181543', 'ts': 1609951818202507.8, 'dur': 132.56072998046875, 'ph': 'X', 'cname': 'rail_idle', 'args': {}}, {'cat': 'task', 'name': 'task', 'pid': '10.1.94.42', 'tid': 'worker:0579af9426fcfdbdb33e138f4263de7674181543', 'ts': 1609951817901966.8, 'dur': 300675.8689880371, 'ph': 'X', 'cname': 'rail_response', 'args': {}}, {'cat': 'task:deserialize_arguments', 'name': 'task:deserialize_arguments', 'pid': '10.1.94.42', 'tid': 'worker:0579af9426fcfdbdb33e138f4263de7674181543', 'ts': 1609951818204792.2, 'dur': 182.86705017089844, 'ph': 'X', 'cname': 'rail_load', 'args': {}}, {'cat': 'task:execute', 'name': 'task:execute', 'pid': '10.1.94.42', 'tid': 'worker:0579af9426fcfdbdb33e138f4263de7674181543', 'ts': 1609951818204978.8, 'dur': 300533.0562591553, 'ph': 'X', 'cname': 'rail_animation', 'args': {}}, {'cat': 'task:store_outputs', 'name': 'task:store_outputs', 'pid': '10.1.94.42', 'tid': 'worker:0579af9426fcfdbdb33e138f4263de7674181543', 'ts': 1609951818505531.0, 'dur': 148.29635620117188, 'ph': 'X', 'cname': 'rail_idle', 'args': {}}, {'cat': 'task', 'name': 'task', 'pid': '10.1.94.42', 'tid': 'worker:0579af9426fcfdbdb33e138f4263de7674181543', 'ts': 1609951818204772.8, 'dur': 300909.99603271484, 'ph': 'X', 'cname': 'rail_response', 'args': {}}, {'cat': 'task:deserialize_arguments', 'name': 'task:deserialize_arguments', 'pid': '10.1.94.42', 'tid': 'worker:0579af9426fcfdbdb33e138f4263de7674181543', 'ts': 1609951818509261.2, 'dur': 207.9010009765625, 'ph': 'X', 'cname': 'rail_load', 'args': {}}, {'cat': 'task:execute', 'name': 'task:execute', 'pid': '10.1.94.42', 'tid': 'worker:0579af9426fcfdbdb33e138f4263de7674181543', 'ts': 1609951819420376.5, 'dur': 300569.2958831787, 'ph': 'X', 'cname': 'rail_animation', 'args': {}}, {'cat': 'task:store_outputs', 'name': 'task:store_outputs', 'pid': '10.1.94.42', 'tid': 'worker:0579af9426fcfdbdb33e138f4263de7674181543', 'ts': 1609951819720970.5, 'dur': 171.42295837402344, 'ph': 'X', 'cname': 'rail_idle', 'args': {}}, {'cat': 'task', 'name': 'task', 'pid': '10.1.94.42', 'tid': 'worker:0579af9426fcfdbdb33e138f4263de7674181543', 'ts': 1609951819420151.2, 'dur': 300993.9193725586, 'ph': 'X', 'cname': 'rail_response', 'args': {}}, {'cat': 'ray.get', 'name': 'ray.get', 'pid': '10.1.94.42', 'tid': 'driver:02000000ffffffffffffffffffffffffffffffff', 'ts': 1609951800812592.0, 'dur': 1805361.7477416992, 'ph': 'X', 'cname': 'good', 'args': {}}, {'cat': 'fetch_and_run_function', 'name': 'fetch_and_run_function', 'pid': '10.1.94.42', 'tid': 'driver:02000000ffffffffffffffffffffffffffffffff', 'ts': 1609951796790097.2, 'dur': 476.1219024658203, 'ph': 'X', 'cname': 'detailed_memory_dump', 'args': {}}, {'cat': 'fetch_and_run_function', 'name': 'fetch_and_run_function', 'pid': '10.1.94.42', 'tid': 'driver:02000000ffffffffffffffffffffffffffffffff', 'ts': 1609951796790607.2, 'dur': 443.2201385498047, 'ph': 'X', 'cname': 'detailed_memory_dump', 'args': {}}, {'cat': 'fetch_and_run_function', 'name': 'fetch_and_run_function', 'pid': '10.1.94.42', 'tid': 'driver:02000000ffffffffffffffffffffffffffffffff', 'ts': 1609951796804491.5, 'dur': 277.2808074951172, 'ph': 'X', 'cname': 'detailed_memory_dump', 'args': {}}, {'cat': 'fetch_and_run_function', 'name': 'fetch_and_run_function', 'pid': '10.1.94.42', 'tid': 'driver:02000000ffffffffffffffffffffffffffffffff', 'ts': 1609951796804904.5, 'dur': 226.02081298828125, 'ph': 'X', 'cname': 'detailed_memory_dump', 'args': {}}, {'cat': 'submit_task', 'name': 'submit_task', 'pid': '10.1.94.42', 'tid': 'driver:02000000ffffffffffffffffffffffffffffffff', 'ts': 1609951800809658.8, 'dur': 797.7485656738281, 'ph': 'X', 'cname': 'background_memory_dump', 'args': {}}, {'cat': 'submit_task', 'name': 'submit_task', 'pid': '10.1.94.42', 'tid': 'driver:02000000ffffffffffffffffffffffffffffffff', 'ts': 1609951800810612.2, 'dur': 181.1981201171875, 'ph': 'X', 'cname': 'background_memory_dump', 'args': {}}, {'cat': 'submit_task', 'name': 'submit_task', 'pid': '10.1.94.42', 'tid': 'driver:02000000ffffffffffffffffffffffffffffffff', 'ts': 1609951800810860.8, 'dur': 147.34268188476562, 'ph': 'X', 'cname': 'background_memory_dump', 'args': {}}, {'cat': 'submit_task', 'name': 'submit_task', 'pid': '10.1.94.42', 'tid': 'driver:02000000ffffffffffffffffffffffffffffffff', 'ts': 1609951800811070.0, 'dur': 706.1958312988281, 'ph': 'X', 'cname': 'background_memory_dump', 'args': {}}, {'cat': 'fetch_and_run_function', 'name': 'fetch_and_run_function', 'pid': '10.1.94.42', 'tid': 'driver:04000000ffffffffffffffffffffffffffffffff', 'ts': 1609951817205042.0, 'dur': 931.0245513916016, 'ph': 'X', 'cname': 'detailed_memory_dump', 'args': {}}, {'cat': 'fetch_and_run_function', 'name': 'fetch_and_run_function', 'pid': '10.1.94.42', 'tid': 'driver:04000000ffffffffffffffffffffffffffffffff', 'ts': 1609951817205987.0, 'dur': 404.8347473144531, 'ph': 'X', 'cname': 'detailed_memory_dump', 'args': {}}, {'cat': 'submit_task', 'name': 'submit_task', 'pid': '10.1.94.42', 'tid': 'driver:04000000ffffffffffffffffffffffffffffffff', 'ts': 1609951817209514.2, 'dur': 623.4645843505859, 'ph': 'X', 'cname': 'background_memory_dump', 'args': {}}, {'cat': 'fetch_and_run_function', 'name': 'fetch_and_run_function', 'pid': '10.1.94.42', 'tid': 'driver:04000000ffffffffffffffffffffffffffffffff', 'ts': 1609951817209236.5, 'dur': 1213.5505676269531, 'ph': 'X', 'cname': 'detailed_memory_dump', 'args': {}}, {'cat': 'submit_task', 'name': 'submit_task', 'pid': '10.1.94.42', 'tid': 'driver:04000000ffffffffffffffffffffffffffffffff', 'ts': 1609951817210256.0, 'dur': 429.8686981201172, 'ph': 'X', 'cname': 'background_memory_dump', 'args': {}}, {'cat': 'fetch_and_run_function', 'name': 'fetch_and_run_function', 'pid': '10.1.94.42', 'tid': 'driver:04000000ffffffffffffffffffffffffffffffff', 'ts': 1609951817210465.0, 'dur': 505.20896911621094, 'ph': 'X', 'cname': 'detailed_memory_dump', 'args': {}}, {'cat': 'submit_task', 'name': 'submit_task', 'pid': '10.1.94.42', 'tid': 'driver:04000000ffffffffffffffffffffffffffffffff', 'ts': 1609951817210793.0, 'dur': 286.5791320800781, 'ph': 'X', 'cname': 'background_memory_dump', 'args': {}}, {'cat': 'submit_task', 'name': 'submit_task', 'pid': '10.1.94.42', 'tid': 'driver:04000000ffffffffffffffffffffffffffffffff', 'ts': 1609951817211223.0, 'dur': 2569.1986083984375, 'ph': 'X', 'cname': 'background_memory_dump', 'args': {}}, {'cat': 'submit_task', 'name': 'submit_task', 'pid': '10.1.94.42', 'tid': 'driver:04000000ffffffffffffffffffffffffffffffff', 'ts': 1609951817213927.0, 'dur': 183.10546875, 'ph': 'X', 'cname': 'background_memory_dump', 'args': {}}, {'cat': 'submit_task', 'name': 'submit_task', 'pid': '10.1.94.42', 'tid': 'driver:04000000ffffffffffffffffffffffffffffffff', 'ts': 1609951817214189.2, 'dur': 125.40817260742188, 'ph': 'X', 'cname': 'background_memory_dump', 'args': {}}, {'cat': 'submit_task', 'name': 'submit_task', 'pid': '10.1.94.42', 'tid': 'driver:04000000ffffffffffffffffffffffffffffffff', 'ts': 1609951817214383.2, 'dur': 658.5121154785156, 'ph': 'X', 'cname': 'background_memory_dump', 'args': {}}, {'cat': 'fetch_and_run_function', 'name': 'fetch_and_run_function', 'pid': '10.1.94.42', 'tid': 'driver:04000000ffffffffffffffffffffffffffffffff', 'ts': 1609951817216409.8, 'dur': 227.92816162109375, 'ph': 'X', 'cname': 'detailed_memory_dump', 'args': {}}, {'cat': 'fetch_and_run_function', 'name': 'fetch_and_run_function', 'pid': '10.1.94.42', 'tid': 'driver:04000000ffffffffffffffffffffffffffffffff', 'ts': 1609951817216650.8, 'dur': 187.15858459472656, 'ph': 'X', 'cname': 'detailed_memory_dump', 'args': {}}, {'cat': 'fetch_and_run_function', 'name': 'fetch_and_run_function', 'pid': '10.1.94.42', 'tid': 'driver:04000000ffffffffffffffffffffffffffffffff', 'ts': 1609951817216847.5, 'dur': 377.1781921386719, 'ph': 'X', 'cname': 'detailed_memory_dump', 'args': {}}, {'cat': 'fetch_and_run_function', 'name': 'fetch_and_run_function', 'pid': '10.1.94.42', 'tid': 'driver:04000000ffffffffffffffffffffffffffffffff', 'ts': 1609951817217860.0, 'dur': 313.04359436035156, 'ph': 'X', 'cname': 'detailed_memory_dump', 'args': {}}, {'cat': 'ray.get', 'name': 'ray.get', 'pid': '10.1.94.42', 'tid': 'driver:04000000ffffffffffffffffffffffffffffffff', 'ts': 1609951817215280.5, 'dur': 2508976.697921753, 'ph': 'X', 'cname': 'good', 'args': {}}, {'cat': 'fetch_and_run_function', 'name': 'fetch_and_run_function', 'pid': '10.1.94.42', 'tid': 'worker:49a483d1619baaafc2c55c35b015b2616f3876bb', 'ts': 1609951801218604.2, 'dur': 423.66981506347656, 'ph': 'X', 'cname': 'detailed_memory_dump', 'args': {}}, {'cat': 'fetch_and_run_function', 'name': 'fetch_and_run_function', 'pid': '10.1.94.42', 'tid': 'worker:49a483d1619baaafc2c55c35b015b2616f3876bb', 'ts': 1609951801219043.0, 'dur': 346.4221954345703, 'ph': 'X', 'cname': 'detailed_memory_dump', 'args': {}}, {'cat': 'fetch_and_run_function', 'name': 'fetch_and_run_function', 'pid': '10.1.94.42', 'tid': 'worker:49a483d1619baaafc2c55c35b015b2616f3876bb', 'ts': 1609951801219967.0, 'dur': 364.7804260253906, 'ph': 'X', 'cname': 'detailed_memory_dump', 'args': {}}, {'cat': 'fetch_and_run_function', 'name': 'fetch_and_run_function', 'pid': '10.1.94.42', 'tid': 'worker:49a483d1619baaafc2c55c35b015b2616f3876bb', 'ts': 1609951801220344.8, 'dur': 244.8558807373047, 'ph': 'X', 'cname': 'detailed_memory_dump', 'args': {}}, {'cat': 'wait_for_function', 'name': 'wait_for_function', 'pid': '10.1.94.42', 'tid': 'worker:49a483d1619baaafc2c55c35b015b2616f3876bb', 'ts': 1609951801215869.5, 'dur': 5551.338195800781, 'ph': 'X', 'cname': 'detailed_memory_dump', 'args': {}}, {'cat': 'task:deserialize_arguments', 'name': 'task:deserialize_arguments', 'pid': '10.1.94.42', 'tid': 'worker:49a483d1619baaafc2c55c35b015b2616f3876bb', 'ts': 1609951801221925.8, 'dur': 257.4920654296875, 'ph': 'X', 'cname': 'rail_load', 'args': {}}, {'cat': 'task:execute', 'name': 'task:execute', 'pid': '10.1.94.42', 'tid': 'worker:49a483d1619baaafc2c55c35b015b2616f3876bb', 'ts': 1609951801222187.5, 'dur': 1001074.3141174316, 'ph': 'X', 'cname': 'rail_animation', 'args': {}}, {'cat': 'task:store_outputs', 'name': 'task:store_outputs', 'pid': '10.1.94.42', 'tid': 'worker:49a483d1619baaafc2c55c35b015b2616f3876bb', 'ts': 1609951802223279.5, 'dur': 190.0196075439453, 'ph': 'X', 'cname': 'rail_idle', 'args': {}}, {'cat': 'task', 'name': 'task', 'pid': '10.1.94.42', 'tid': 'worker:49a483d1619baaafc2c55c35b015b2616f3876bb', 'ts': 1609951801221462.5, 'dur': 1002009.6302032471, 'ph': 'X', 'cname': 'rail_response', 'args': {}}, {'cat': 'fetch_and_run_function', 'name': 'fetch_and_run_function', 'pid': '10.1.94.42', 'tid': 'worker:30d7b06a437918e331a2a51eebb8ceb6347fbc5c', 'ts': 1609951801934994.8, 'dur': 593.4238433837891, 'ph': 'X', 'cname': 'detailed_memory_dump', 'args': {}}, {'cat': 'fetch_and_run_function', 'name': 'fetch_and_run_function', 'pid': '10.1.94.42', 'tid': 'worker:30d7b06a437918e331a2a51eebb8ceb6347fbc5c', 'ts': 1609951801935608.2, 'dur': 375.0324249267578, 'ph': 'X', 'cname': 'detailed_memory_dump', 'args': {}}, {'cat': 'fetch_and_run_function', 'name': 'fetch_and_run_function', 'pid': '10.1.94.42', 'tid': 'worker:30d7b06a437918e331a2a51eebb8ceb6347fbc5c', 'ts': 1609951801936584.2, 'dur': 422.7161407470703, 'ph': 'X', 'cname': 'detailed_memory_dump', 'args': {}}, {'cat': 'fetch_and_run_function', 'name': 'fetch_and_run_function', 'pid': '10.1.94.42', 'tid': 'worker:30d7b06a437918e331a2a51eebb8ceb6347fbc5c', 'ts': 1609951801937023.5, 'dur': 317.3351287841797, 'ph': 'X', 'cname': 'detailed_memory_dump', 'args': {}}, {'cat': 'fetch_and_run_function', 'name': 'fetch_and_run_function', 'pid': '10.1.94.42', 'tid': 'worker:da8c077d18c37e62934f2d2f3cf066ad6f4aa729', 'ts': 1609951801591335.5, 'dur': 294.4469451904297, 'ph': 'X', 'cname': 'detailed_memory_dump', 'args': {}}, {'cat': 'fetch_and_run_function', 'name': 'fetch_and_run_function', 'pid': '10.1.94.42', 'tid': 'worker:da8c077d18c37e62934f2d2f3cf066ad6f4aa729', 'ts': 1609951801591640.0, 'dur': 204.8015594482422, 'ph': 'X', 'cname': 'detailed_memory_dump', 'args': {}}, {'cat': 'fetch_and_run_function', 'name': 'fetch_and_run_function', 'pid': '10.1.94.42', 'tid': 'worker:da8c077d18c37e62934f2d2f3cf066ad6f4aa729', 'ts': 1609951801592958.2, 'dur': 223.63662719726562, 'ph': 'X', 'cname': 'detailed_memory_dump', 'args': {}}, {'cat': 'fetch_and_run_function', 'name': 'fetch_and_run_function', 'pid': '10.1.94.42', 'tid': 'worker:da8c077d18c37e62934f2d2f3cf066ad6f4aa729', 'ts': 1609951801593190.8, 'dur': 198.12583923339844, 'ph': 'X', 'cname': 'detailed_memory_dump', 'args': {}}, {'cat': 'wait_for_function', 'name': 'wait_for_function', 'pid': '10.1.94.42', 'tid': 'worker:da8c077d18c37e62934f2d2f3cf066ad6f4aa729', 'ts': 1609951801592149.5, 'dur': 2249.2408752441406, 'ph': 'X', 'cname': 'detailed_memory_dump', 'args': {}}, {'cat': 'task:deserialize_arguments', 'name': 'task:deserialize_arguments', 'pid': '10.1.94.42', 'tid': 'worker:da8c077d18c37e62934f2d2f3cf066ad6f4aa729', 'ts': 1609951801594718.8, 'dur': 245.57113647460938, 'ph': 'X', 'cname': 'rail_load', 'args': {}}, {'cat': 'fetch_and_run_function', 'name': 'fetch_and_run_function', 'pid': '10.1.94.42', 'tid': 'worker:3c4ba14ea293a35e99a6fc9d1bfb9548a6b8b3a5', 'ts': 1609951801613559.0, 'dur': 236.98806762695312, 'ph': 'X', 'cname': 'detailed_memory_dump', 'args': {}}, {'cat': 'fetch_and_run_function', 'name': 'fetch_and_run_function', 'pid': '10.1.94.42', 'tid': 'worker:3c4ba14ea293a35e99a6fc9d1bfb9548a6b8b3a5', 'ts': 1609951801613805.2, 'dur': 164.98565673828125, 'ph': 'X', 'cname': 'detailed_memory_dump', 'args': {}}, {'cat': 'fetch_and_run_function', 'name': 'fetch_and_run_function', 'pid': '10.1.94.42', 'tid': 'worker:3c4ba14ea293a35e99a6fc9d1bfb9548a6b8b3a5', 'ts': 1609951801614318.8, 'dur': 151.8726348876953, 'ph': 'X', 'cname': 'detailed_memory_dump', 'args': {}}, {'cat': 'fetch_and_run_function', 'name': 'fetch_and_run_function', 'pid': '10.1.94.42', 'tid': 'worker:3c4ba14ea293a35e99a6fc9d1bfb9548a6b8b3a5', 'ts': 1609951801614477.0, 'dur': 147.81951904296875, 'ph': 'X', 'cname': 'detailed_memory_dump', 'args': {}}, {'cat': 'wait_for_function', 'name': 'wait_for_function', 'pid': '10.1.94.42', 'tid': 'worker:3c4ba14ea293a35e99a6fc9d1bfb9548a6b8b3a5', 'ts': 1609951801612916.0, 'dur': 2263.5459899902344, 'ph': 'X', 'cname': 'detailed_memory_dump', 'args': {}}, {'cat': 'task:deserialize_arguments', 'name': 'task:deserialize_arguments', 'pid': '10.1.94.42', 'tid': 'worker:3c4ba14ea293a35e99a6fc9d1bfb9548a6b8b3a5', 'ts': 1609951801615449.2, 'dur': 218.1529998779297, 'ph': 'X', 'cname': 'rail_load', 'args': {}}, {'cat': 'fetch_and_run_function', 'name': 'fetch_and_run_function', 'pid': '10.1.94.42', 'tid': 'worker:c18a2c54583e2c855b5325c6fff4a975c47a3be1', 'ts': 1609951802013984.0, 'dur': 620.6035614013672, 'ph': 'X', 'cname': 'detailed_memory_dump', 'args': {}}, {'cat': 'fetch_and_run_function', 'name': 'fetch_and_run_function', 'pid': '10.1.94.42', 'tid': 'worker:c18a2c54583e2c855b5325c6fff4a975c47a3be1', 'ts': 1609951802014624.8, 'dur': 447.98851013183594, 'ph': 'X', 'cname': 'detailed_memory_dump', 'args': {}}, {'cat': 'fetch_and_run_function', 'name': 'fetch_and_run_function', 'pid': '10.1.94.42', 'tid': 'worker:c18a2c54583e2c855b5325c6fff4a975c47a3be1', 'ts': 1609951802015905.8, 'dur': 516.1762237548828, 'ph': 'X', 'cname': 'detailed_memory_dump', 'args': {}}, {'cat': 'fetch_and_run_function', 'name': 'fetch_and_run_function', 'pid': '10.1.94.42', 'tid': 'worker:c18a2c54583e2c855b5325c6fff4a975c47a3be1', 'ts': 1609951802016438.0, 'dur': 360.4888916015625, 'ph': 'X', 'cname': 'detailed_memory_dump', 'args': {}}, {'cat': 'fetch_and_run_function', 'name': 'fetch_and_run_function', 'pid': '10.1.94.42', 'tid': 'worker:d104f9c4049f0bbe02cb23ec679ef5d5a9f0bd7a', 'ts': 1609951801536710.2, 'dur': 691.1754608154297, 'ph': 'X', 'cname': 'detailed_memory_dump', 'args': {}}, {'cat': 'fetch_and_run_function', 'name': 'fetch_and_run_function', 'pid': '10.1.94.42', 'tid': 'worker:d104f9c4049f0bbe02cb23ec679ef5d5a9f0bd7a', 'ts': 1609951801537418.2, 'dur': 307.0831298828125, 'ph': 'X', 'cname': 'detailed_memory_dump', 'args': {}}, {'cat': 'fetch_and_run_function', 'name': 'fetch_and_run_function', 'pid': '10.1.94.42', 'tid': 'worker:d104f9c4049f0bbe02cb23ec679ef5d5a9f0bd7a', 'ts': 1609951801538126.8, 'dur': 202.65579223632812, 'ph': 'X', 'cname': 'detailed_memory_dump', 'args': {}}, {'cat': 'fetch_and_run_function', 'name': 'fetch_and_run_function', 'pid': '10.1.94.42', 'tid': 'worker:d104f9c4049f0bbe02cb23ec679ef5d5a9f0bd7a', 'ts': 1609951801538338.8, 'dur': 197.1721649169922, 'ph': 'X', 'cname': 'detailed_memory_dump', 'args': {}}, {'cat': 'wait_for_function', 'name': 'wait_for_function', 'pid': '10.1.94.42', 'tid': 'worker:d104f9c4049f0bbe02cb23ec679ef5d5a9f0bd7a', 'ts': 1609951801536381.8, 'dur': 2892.732620239258, 'ph': 'X', 'cname': 'detailed_memory_dump', 'args': {}}, {'cat': 'task:deserialize_arguments', 'name': 'task:deserialize_arguments', 'pid': '10.1.94.42', 'tid': 'worker:d104f9c4049f0bbe02cb23ec679ef5d5a9f0bd7a', 'ts': 1609951801539701.8, 'dur': 291.58592224121094, 'ph': 'X', 'cname': 'rail_load', 'args': {}}]\n"
     ]
    }
   ],
   "source": [
    "ray.timeline()"
   ]
  },
  {
   "cell_type": "markdown",
   "metadata": {},
   "source": [
    "There is no parallelism above. That is because the tasks were executed in a for loop, and the output of each task was passed as a dependency to the subsequent task! In order to expose more parallelism, we need to reduce the elements in a different order.\n",
    "\n",
    "To illustrate the issue, note that we cannot execute the calls to `f` in parallel in\n",
    "\n",
    "```python\n",
    "f(f(f(f(f(f(f(1, 2), 3), 4), 5), 6), 7), 8)\n",
    "```\n",
    "\n",
    "which is what the above implementation does. However, we can execute some of the calls to `f` in parallel in\n",
    "\n",
    "```python\n",
    "f(f(f(1, 2), f(3, 4)), f(f(5, 6), f(7, 8)))\n",
    "```\n",
    "\n",
    "which is what a **tree reduce** does. Note that the two computations above are not equivalent in general, however, when `f` is associative and commutative, they are equivalent.\n",
    "\n",
    "**EXERCISE:** Modify the reduce implementation to expose more parallelism."
   ]
  },
  {
   "cell_type": "code",
   "execution_count": 12,
   "metadata": {},
   "outputs": [],
   "source": [
    "def reduce_parallel_tree(function, xs):\n",
    "    if not isinstance(xs, list):\n",
    "        raise ValueError('The xs argument must be a list.')\n",
    "    \n",
    "    if not hasattr(function, 'remote'):\n",
    "        raise ValueError('The function argument must be a remote function.')\n",
    "\n",
    "        \n",
    "    while len(xs) > 1:\n",
    "        result_id = function.remote(xs[0], xs[1])\n",
    "        xs = xs[2:]\n",
    "        xs.append(result_id)\n",
    "    \n",
    "    return xs[0]"
   ]
  },
  {
   "cell_type": "code",
   "execution_count": 13,
   "metadata": {
    "workflow": {
     "step": {
      "in": [
       {
        "name": "ray",
        "serializer": "ray",
        "type": "name"
       },
       {
        "name": "add_remote",
        "serializer": {
         "postload": "import ray;\noriginal_function = add_remote._function\noriginal_function.__module__ = '__main__'\nadd_remote = ray.remote(original_function)"
        },
        "type": "name"
       }
      ]
     },
     "target": {
      "model": "ray",
      "service": "ray-head"
     }
    }
   },
   "outputs": [
    {
     "name": "stdout",
     "output_type": "stream",
     "text": [
      "Congratulations, the test passed!\n"
     ]
    }
   ],
   "source": [
    "xs = [1, 2, 3, 4, 5, 6, 7, 8]\n",
    "result_id = reduce_parallel_tree(add_remote, xs)\n",
    "assert ray.get(result_id) == reduce_serial(add_regular, xs)\n",
    "print('Congratulations, the test passed!')"
   ]
  },
  {
   "cell_type": "markdown",
   "metadata": {},
   "source": [
    "**EXERCISE:** Take a look at the timeline and see if the tasks for `reduce_parallel_tree` were executed in parallel."
   ]
  },
  {
   "cell_type": "code",
   "execution_count": 14,
   "metadata": {
    "workflow": {
     "step": {
      "in": [
       {
        "name": "ray",
        "serializer": "ray",
        "type": "name"
       }
      ]
     },
     "target": {
      "model": "ray",
      "service": "ray-head"
     }
    }
   },
   "outputs": [
    {
     "name": "stdout",
     "output_type": "stream",
     "text": [
      "[{'cat': 'ray.get', 'name': 'ray.get', 'pid': '10.1.94.42', 'tid': 'driver:06000000ffffffffffffffffffffffffffffffff', 'ts': 1609951833786130.2, 'dur': 1718715.1908874512, 'ph': 'X', 'cname': 'good', 'args': {}}, {'cat': 'fetch_and_run_function', 'name': 'fetch_and_run_function', 'pid': '10.1.94.42', 'tid': 'driver:06000000ffffffffffffffffffffffffffffffff', 'ts': 1609951833769172.8, 'dur': 453.948974609375, 'ph': 'X', 'cname': 'detailed_memory_dump', 'args': {}}, {'cat': 'fetch_and_run_function', 'name': 'fetch_and_run_function', 'pid': '10.1.94.42', 'tid': 'driver:06000000ffffffffffffffffffffffffffffffff', 'ts': 1609951833769644.0, 'dur': 342.6074981689453, 'ph': 'X', 'cname': 'detailed_memory_dump', 'args': {}}, {'cat': 'fetch_and_run_function', 'name': 'fetch_and_run_function', 'pid': '10.1.94.42', 'tid': 'driver:06000000ffffffffffffffffffffffffffffffff', 'ts': 1609951833771363.8, 'dur': 970.6020355224609, 'ph': 'X', 'cname': 'detailed_memory_dump', 'args': {}}, {'cat': 'fetch_and_run_function', 'name': 'fetch_and_run_function', 'pid': '10.1.94.42', 'tid': 'driver:06000000ffffffffffffffffffffffffffffffff', 'ts': 1609951833772363.0, 'dur': 252.24685668945312, 'ph': 'X', 'cname': 'detailed_memory_dump', 'args': {}}, {'cat': 'fetch_and_run_function', 'name': 'fetch_and_run_function', 'pid': '10.1.94.42', 'tid': 'driver:06000000ffffffffffffffffffffffffffffffff', 'ts': 1609951833774100.8, 'dur': 611.0668182373047, 'ph': 'X', 'cname': 'detailed_memory_dump', 'args': {}}, {'cat': 'fetch_and_run_function', 'name': 'fetch_and_run_function', 'pid': '10.1.94.42', 'tid': 'driver:06000000ffffffffffffffffffffffffffffffff', 'ts': 1609951833774723.5, 'dur': 481.8439483642578, 'ph': 'X', 'cname': 'detailed_memory_dump', 'args': {}}, {'cat': 'fetch_and_run_function', 'name': 'fetch_and_run_function', 'pid': '10.1.94.42', 'tid': 'driver:06000000ffffffffffffffffffffffffffffffff', 'ts': 1609951833775215.5, 'dur': 952.4822235107422, 'ph': 'X', 'cname': 'detailed_memory_dump', 'args': {}}, {'cat': 'fetch_and_run_function', 'name': 'fetch_and_run_function', 'pid': '10.1.94.42', 'tid': 'driver:06000000ffffffffffffffffffffffffffffffff', 'ts': 1609951833776179.5, 'dur': 602.2453308105469, 'ph': 'X', 'cname': 'detailed_memory_dump', 'args': {}}, {'cat': 'submit_task', 'name': 'submit_task', 'pid': '10.1.94.42', 'tid': 'driver:06000000ffffffffffffffffffffffffffffffff', 'ts': 1609951833778846.5, 'dur': 518.5604095458984, 'ph': 'X', 'cname': 'background_memory_dump', 'args': {}}, {'cat': 'fetch_and_run_function', 'name': 'fetch_and_run_function', 'pid': '10.1.94.42', 'tid': 'driver:06000000ffffffffffffffffffffffffffffffff', 'ts': 1609951833780162.0, 'dur': 271.79718017578125, 'ph': 'X', 'cname': 'detailed_memory_dump', 'args': {}}, {'cat': 'submit_task', 'name': 'submit_task', 'pid': '10.1.94.42', 'tid': 'driver:06000000ffffffffffffffffffffffffffffffff', 'ts': 1609951833779462.2, 'dur': 1029.2530059814453, 'ph': 'X', 'cname': 'background_memory_dump', 'args': {}}, {'cat': 'fetch_and_run_function', 'name': 'fetch_and_run_function', 'pid': '10.1.94.42', 'tid': 'driver:06000000ffffffffffffffffffffffffffffffff', 'ts': 1609951833780442.8, 'dur': 499.0100860595703, 'ph': 'X', 'cname': 'detailed_memory_dump', 'args': {}}, {'cat': 'submit_task', 'name': 'submit_task', 'pid': '10.1.94.42', 'tid': 'driver:06000000ffffffffffffffffffffffffffffffff', 'ts': 1609951833780583.5, 'dur': 413.1793975830078, 'ph': 'X', 'cname': 'background_memory_dump', 'args': {}}, {'cat': 'fetch_and_run_function', 'name': 'fetch_and_run_function', 'pid': '10.1.94.42', 'tid': 'driver:06000000ffffffffffffffffffffffffffffffff', 'ts': 1609951833781588.5, 'dur': 252.4852752685547, 'ph': 'X', 'cname': 'detailed_memory_dump', 'args': {}}, {'cat': 'fetch_and_run_function', 'name': 'fetch_and_run_function', 'pid': '10.1.94.42', 'tid': 'driver:06000000ffffffffffffffffffffffffffffffff', 'ts': 1609951833781966.8, 'dur': 207.66258239746094, 'ph': 'X', 'cname': 'detailed_memory_dump', 'args': {}}, {'cat': 'submit_task', 'name': 'submit_task', 'pid': '10.1.94.42', 'tid': 'driver:06000000ffffffffffffffffffffffffffffffff', 'ts': 1609951833781077.5, 'dur': 4351.85432434082, 'ph': 'X', 'cname': 'background_memory_dump', 'args': {}}, {'cat': 'submit_task', 'name': 'submit_task', 'pid': '10.1.94.42', 'tid': 'driver:06000000ffffffffffffffffffffffffffffffff', 'ts': 1609951833785534.5, 'dur': 134.2296600341797, 'ph': 'X', 'cname': 'background_memory_dump', 'args': {}}, {'cat': 'submit_task', 'name': 'submit_task', 'pid': '10.1.94.42', 'tid': 'driver:06000000ffffffffffffffffffffffffffffffff', 'ts': 1609951833785737.0, 'dur': 90.59906005859375, 'ph': 'X', 'cname': 'background_memory_dump', 'args': {}}, {'cat': 'submit_task', 'name': 'submit_task', 'pid': '10.1.94.42', 'tid': 'driver:06000000ffffffffffffffffffffffffffffffff', 'ts': 1609951833785884.5, 'dur': 83.44650268554688, 'ph': 'X', 'cname': 'background_memory_dump', 'args': {}}, {'cat': 'task:execute', 'name': 'task:execute', 'pid': '10.1.94.42', 'tid': 'worker:49a483d1619baaafc2c55c35b015b2616f3876bb', 'ts': 1609951801222187.5, 'dur': 1001074.3141174316, 'ph': 'X', 'cname': 'rail_animation', 'args': {}}, {'cat': 'task:store_outputs', 'name': 'task:store_outputs', 'pid': '10.1.94.42', 'tid': 'worker:49a483d1619baaafc2c55c35b015b2616f3876bb', 'ts': 1609951802223279.5, 'dur': 190.0196075439453, 'ph': 'X', 'cname': 'rail_idle', 'args': {}}, {'cat': 'task', 'name': 'task', 'pid': '10.1.94.42', 'tid': 'worker:49a483d1619baaafc2c55c35b015b2616f3876bb', 'ts': 1609951801221462.5, 'dur': 1002009.6302032471, 'ph': 'X', 'cname': 'rail_response', 'args': {}}, {'cat': 'fetch_and_run_function', 'name': 'fetch_and_run_function', 'pid': '10.1.94.42', 'tid': 'worker:49a483d1619baaafc2c55c35b015b2616f3876bb', 'ts': 1609951801218604.2, 'dur': 423.66981506347656, 'ph': 'X', 'cname': 'detailed_memory_dump', 'args': {}}, {'cat': 'fetch_and_run_function', 'name': 'fetch_and_run_function', 'pid': '10.1.94.42', 'tid': 'worker:49a483d1619baaafc2c55c35b015b2616f3876bb', 'ts': 1609951801219043.0, 'dur': 346.4221954345703, 'ph': 'X', 'cname': 'detailed_memory_dump', 'args': {}}, {'cat': 'fetch_and_run_function', 'name': 'fetch_and_run_function', 'pid': '10.1.94.42', 'tid': 'worker:49a483d1619baaafc2c55c35b015b2616f3876bb', 'ts': 1609951801219967.0, 'dur': 364.7804260253906, 'ph': 'X', 'cname': 'detailed_memory_dump', 'args': {}}, {'cat': 'fetch_and_run_function', 'name': 'fetch_and_run_function', 'pid': '10.1.94.42', 'tid': 'worker:49a483d1619baaafc2c55c35b015b2616f3876bb', 'ts': 1609951801220344.8, 'dur': 244.8558807373047, 'ph': 'X', 'cname': 'detailed_memory_dump', 'args': {}}, {'cat': 'wait_for_function', 'name': 'wait_for_function', 'pid': '10.1.94.42', 'tid': 'worker:49a483d1619baaafc2c55c35b015b2616f3876bb', 'ts': 1609951801215869.5, 'dur': 5551.338195800781, 'ph': 'X', 'cname': 'detailed_memory_dump', 'args': {}}, {'cat': 'task:deserialize_arguments', 'name': 'task:deserialize_arguments', 'pid': '10.1.94.42', 'tid': 'worker:49a483d1619baaafc2c55c35b015b2616f3876bb', 'ts': 1609951801221925.8, 'dur': 257.4920654296875, 'ph': 'X', 'cname': 'rail_load', 'args': {}}, {'cat': 'fetch_and_run_function', 'name': 'fetch_and_run_function', 'pid': '10.1.94.42', 'tid': 'worker:c18a2c54583e2c855b5325c6fff4a975c47a3be1', 'ts': 1609951802013984.0, 'dur': 620.6035614013672, 'ph': 'X', 'cname': 'detailed_memory_dump', 'args': {}}, {'cat': 'fetch_and_run_function', 'name': 'fetch_and_run_function', 'pid': '10.1.94.42', 'tid': 'worker:c18a2c54583e2c855b5325c6fff4a975c47a3be1', 'ts': 1609951802014624.8, 'dur': 447.98851013183594, 'ph': 'X', 'cname': 'detailed_memory_dump', 'args': {}}, {'cat': 'fetch_and_run_function', 'name': 'fetch_and_run_function', 'pid': '10.1.94.42', 'tid': 'worker:c18a2c54583e2c855b5325c6fff4a975c47a3be1', 'ts': 1609951802015905.8, 'dur': 516.1762237548828, 'ph': 'X', 'cname': 'detailed_memory_dump', 'args': {}}, {'cat': 'fetch_and_run_function', 'name': 'fetch_and_run_function', 'pid': '10.1.94.42', 'tid': 'worker:c18a2c54583e2c855b5325c6fff4a975c47a3be1', 'ts': 1609951802016438.0, 'dur': 360.4888916015625, 'ph': 'X', 'cname': 'detailed_memory_dump', 'args': {}}, {'cat': 'fetch_and_run_function', 'name': 'fetch_and_run_function', 'pid': '10.1.94.42', 'tid': 'worker:30d7b06a437918e331a2a51eebb8ceb6347fbc5c', 'ts': 1609951801934994.8, 'dur': 593.4238433837891, 'ph': 'X', 'cname': 'detailed_memory_dump', 'args': {}}, {'cat': 'fetch_and_run_function', 'name': 'fetch_and_run_function', 'pid': '10.1.94.42', 'tid': 'worker:30d7b06a437918e331a2a51eebb8ceb6347fbc5c', 'ts': 1609951801935608.2, 'dur': 375.0324249267578, 'ph': 'X', 'cname': 'detailed_memory_dump', 'args': {}}, {'cat': 'fetch_and_run_function', 'name': 'fetch_and_run_function', 'pid': '10.1.94.42', 'tid': 'worker:30d7b06a437918e331a2a51eebb8ceb6347fbc5c', 'ts': 1609951801936584.2, 'dur': 422.7161407470703, 'ph': 'X', 'cname': 'detailed_memory_dump', 'args': {}}, {'cat': 'fetch_and_run_function', 'name': 'fetch_and_run_function', 'pid': '10.1.94.42', 'tid': 'worker:30d7b06a437918e331a2a51eebb8ceb6347fbc5c', 'ts': 1609951801937023.5, 'dur': 317.3351287841797, 'ph': 'X', 'cname': 'detailed_memory_dump', 'args': {}}, {'cat': 'fetch_and_run_function', 'name': 'fetch_and_run_function', 'pid': '10.1.94.42', 'tid': 'worker:de8a3b35dad62f94bc5d74c9e5daa52e366cc9a3', 'ts': 1609951834604471.5, 'dur': 309.4673156738281, 'ph': 'X', 'cname': 'detailed_memory_dump', 'args': {}}, {'cat': 'fetch_and_run_function', 'name': 'fetch_and_run_function', 'pid': '10.1.94.42', 'tid': 'worker:de8a3b35dad62f94bc5d74c9e5daa52e366cc9a3', 'ts': 1609951834604791.8, 'dur': 264.88304138183594, 'ph': 'X', 'cname': 'detailed_memory_dump', 'args': {}}, {'cat': 'fetch_and_run_function', 'name': 'fetch_and_run_function', 'pid': '10.1.94.42', 'tid': 'worker:de8a3b35dad62f94bc5d74c9e5daa52e366cc9a3', 'ts': 1609951834605434.2, 'dur': 258.6841583251953, 'ph': 'X', 'cname': 'detailed_memory_dump', 'args': {}}, {'cat': 'fetch_and_run_function', 'name': 'fetch_and_run_function', 'pid': '10.1.94.42', 'tid': 'worker:de8a3b35dad62f94bc5d74c9e5daa52e366cc9a3', 'ts': 1609951834605701.5, 'dur': 187.15858459472656, 'ph': 'X', 'cname': 'detailed_memory_dump', 'args': {}}, {'cat': 'fetch_and_run_function', 'name': 'fetch_and_run_function', 'pid': '10.1.94.42', 'tid': 'worker:de8a3b35dad62f94bc5d74c9e5daa52e366cc9a3', 'ts': 1609951834606224.2, 'dur': 196.93374633789062, 'ph': 'X', 'cname': 'detailed_memory_dump', 'args': {}}, {'cat': 'fetch_and_run_function', 'name': 'fetch_and_run_function', 'pid': '10.1.94.42', 'tid': 'worker:de8a3b35dad62f94bc5d74c9e5daa52e366cc9a3', 'ts': 1609951834606429.2, 'dur': 210.76202392578125, 'ph': 'X', 'cname': 'detailed_memory_dump', 'args': {}}, {'cat': 'fetch_and_run_function', 'name': 'fetch_and_run_function', 'pid': '10.1.94.42', 'tid': 'worker:de8a3b35dad62f94bc5d74c9e5daa52e366cc9a3', 'ts': 1609951834606647.5, 'dur': 177.14500427246094, 'ph': 'X', 'cname': 'detailed_memory_dump', 'args': {}}, {'cat': 'fetch_and_run_function', 'name': 'fetch_and_run_function', 'pid': '10.1.94.42', 'tid': 'worker:de8a3b35dad62f94bc5d74c9e5daa52e366cc9a3', 'ts': 1609951834606837.8, 'dur': 181.1981201171875, 'ph': 'X', 'cname': 'detailed_memory_dump', 'args': {}}, {'cat': 'fetch_and_run_function', 'name': 'fetch_and_run_function', 'pid': '10.1.94.42', 'tid': 'worker:de8a3b35dad62f94bc5d74c9e5daa52e366cc9a3', 'ts': 1609951834608011.2, 'dur': 212.4309539794922, 'ph': 'X', 'cname': 'detailed_memory_dump', 'args': {}}, {'cat': 'fetch_and_run_function', 'name': 'fetch_and_run_function', 'pid': '10.1.94.42', 'tid': 'worker:de8a3b35dad62f94bc5d74c9e5daa52e366cc9a3', 'ts': 1609951834608232.0, 'dur': 179.05235290527344, 'ph': 'X', 'cname': 'detailed_memory_dump', 'args': {}}, {'cat': 'fetch_and_run_function', 'name': 'fetch_and_run_function', 'pid': '10.1.94.42', 'tid': 'worker:de8a3b35dad62f94bc5d74c9e5daa52e366cc9a3', 'ts': 1609951834608417.0, 'dur': 157.1178436279297, 'ph': 'X', 'cname': 'detailed_memory_dump', 'args': {}}, {'cat': 'fetch_and_run_function', 'name': 'fetch_and_run_function', 'pid': '10.1.94.42', 'tid': 'worker:de8a3b35dad62f94bc5d74c9e5daa52e366cc9a3', 'ts': 1609951834608579.8, 'dur': 159.26361083984375, 'ph': 'X', 'cname': 'detailed_memory_dump', 'args': {}}, {'cat': 'ray.get', 'name': 'ray.get', 'pid': '10.1.94.42', 'tid': 'driver:02000000ffffffffffffffffffffffffffffffff', 'ts': 1609951800812592.0, 'dur': 1805361.7477416992, 'ph': 'X', 'cname': 'good', 'args': {}}, {'cat': 'submit_task', 'name': 'submit_task', 'pid': '10.1.94.42', 'tid': 'driver:02000000ffffffffffffffffffffffffffffffff', 'ts': 1609951800809658.8, 'dur': 797.7485656738281, 'ph': 'X', 'cname': 'background_memory_dump', 'args': {}}, {'cat': 'submit_task', 'name': 'submit_task', 'pid': '10.1.94.42', 'tid': 'driver:02000000ffffffffffffffffffffffffffffffff', 'ts': 1609951800810612.2, 'dur': 181.1981201171875, 'ph': 'X', 'cname': 'background_memory_dump', 'args': {}}, {'cat': 'submit_task', 'name': 'submit_task', 'pid': '10.1.94.42', 'tid': 'driver:02000000ffffffffffffffffffffffffffffffff', 'ts': 1609951800810860.8, 'dur': 147.34268188476562, 'ph': 'X', 'cname': 'background_memory_dump', 'args': {}}, {'cat': 'submit_task', 'name': 'submit_task', 'pid': '10.1.94.42', 'tid': 'driver:02000000ffffffffffffffffffffffffffffffff', 'ts': 1609951800811070.0, 'dur': 706.1958312988281, 'ph': 'X', 'cname': 'background_memory_dump', 'args': {}}, {'cat': 'fetch_and_run_function', 'name': 'fetch_and_run_function', 'pid': '10.1.94.42', 'tid': 'driver:02000000ffffffffffffffffffffffffffffffff', 'ts': 1609951796790097.2, 'dur': 476.1219024658203, 'ph': 'X', 'cname': 'detailed_memory_dump', 'args': {}}, {'cat': 'fetch_and_run_function', 'name': 'fetch_and_run_function', 'pid': '10.1.94.42', 'tid': 'driver:02000000ffffffffffffffffffffffffffffffff', 'ts': 1609951796790607.2, 'dur': 443.2201385498047, 'ph': 'X', 'cname': 'detailed_memory_dump', 'args': {}}, {'cat': 'fetch_and_run_function', 'name': 'fetch_and_run_function', 'pid': '10.1.94.42', 'tid': 'driver:02000000ffffffffffffffffffffffffffffffff', 'ts': 1609951796804491.5, 'dur': 277.2808074951172, 'ph': 'X', 'cname': 'detailed_memory_dump', 'args': {}}, {'cat': 'fetch_and_run_function', 'name': 'fetch_and_run_function', 'pid': '10.1.94.42', 'tid': 'driver:02000000ffffffffffffffffffffffffffffffff', 'ts': 1609951796804904.5, 'dur': 226.02081298828125, 'ph': 'X', 'cname': 'detailed_memory_dump', 'args': {}}, {'cat': 'task:execute', 'name': 'task:execute', 'pid': '10.1.94.42', 'tid': 'worker:0579af9426fcfdbdb33e138f4263de7674181543', 'ts': 1609951818509474.0, 'dur': 300540.4472351074, 'ph': 'X', 'cname': 'rail_animation', 'args': {}}, {'cat': 'task:store_outputs', 'name': 'task:store_outputs', 'pid': '10.1.94.42', 'tid': 'worker:0579af9426fcfdbdb33e138f4263de7674181543', 'ts': 1609951818810044.5, 'dur': 329.01763916015625, 'ph': 'X', 'cname': 'rail_idle', 'args': {}}, {'cat': 'task', 'name': 'task', 'pid': '10.1.94.42', 'tid': 'worker:0579af9426fcfdbdb33e138f4263de7674181543', 'ts': 1609951818509241.2, 'dur': 301135.778427124, 'ph': 'X', 'cname': 'rail_response', 'args': {}}, {'cat': 'task:deserialize_arguments', 'name': 'task:deserialize_arguments', 'pid': '10.1.94.42', 'tid': 'worker:0579af9426fcfdbdb33e138f4263de7674181543', 'ts': 1609951818813881.8, 'dur': 225.30555725097656, 'ph': 'X', 'cname': 'rail_load', 'args': {}}, {'cat': 'task:execute', 'name': 'task:execute', 'pid': '10.1.94.42', 'tid': 'worker:0579af9426fcfdbdb33e138f4263de7674181543', 'ts': 1609951818814113.8, 'dur': 300457.239151001, 'ph': 'X', 'cname': 'rail_animation', 'args': {}}, {'cat': 'task:store_outputs', 'name': 'task:store_outputs', 'pid': '10.1.94.42', 'tid': 'worker:0579af9426fcfdbdb33e138f4263de7674181543', 'ts': 1609951819114592.2, 'dur': 132.56072998046875, 'ph': 'X', 'cname': 'rail_idle', 'args': {}}, {'cat': 'task', 'name': 'task', 'pid': '10.1.94.42', 'tid': 'worker:0579af9426fcfdbdb33e138f4263de7674181543', 'ts': 1609951818813362.2, 'dur': 301364.6602630615, 'ph': 'X', 'cname': 'rail_response', 'args': {}}, {'cat': 'task:deserialize_arguments', 'name': 'task:deserialize_arguments', 'pid': '10.1.94.42', 'tid': 'worker:0579af9426fcfdbdb33e138f4263de7674181543', 'ts': 1609951819117001.5, 'dur': 148.0579376220703, 'ph': 'X', 'cname': 'rail_load', 'args': {}}, {'cat': 'task:execute', 'name': 'task:execute', 'pid': '10.1.94.42', 'tid': 'worker:0579af9426fcfdbdb33e138f4263de7674181543', 'ts': 1609951819117152.5, 'dur': 300467.01431274414, 'ph': 'X', 'cname': 'rail_animation', 'args': {}}, {'cat': 'task:store_outputs', 'name': 'task:store_outputs', 'pid': '10.1.94.42', 'tid': 'worker:0579af9426fcfdbdb33e138f4263de7674181543', 'ts': 1609951819417640.8, 'dur': 140.66696166992188, 'ph': 'X', 'cname': 'rail_idle', 'args': {}}, {'cat': 'task', 'name': 'task', 'pid': '10.1.94.42', 'tid': 'worker:0579af9426fcfdbdb33e138f4263de7674181543', 'ts': 1609951819116986.0, 'dur': 300797.9393005371, 'ph': 'X', 'cname': 'rail_response', 'args': {}}, {'cat': 'task:deserialize_arguments', 'name': 'task:deserialize_arguments', 'pid': '10.1.94.42', 'tid': 'worker:0579af9426fcfdbdb33e138f4263de7674181543', 'ts': 1609951819420169.0, 'dur': 202.41737365722656, 'ph': 'X', 'cname': 'rail_load', 'args': {}}, {'cat': 'fetch_and_run_function', 'name': 'fetch_and_run_function', 'pid': '10.1.94.42', 'tid': 'worker:0579af9426fcfdbdb33e138f4263de7674181543', 'ts': 1609951817590154.5, 'dur': 593.1854248046875, 'ph': 'X', 'cname': 'detailed_memory_dump', 'args': {}}, {'cat': 'fetch_and_run_function', 'name': 'fetch_and_run_function', 'pid': '10.1.94.42', 'tid': 'worker:0579af9426fcfdbdb33e138f4263de7674181543', 'ts': 1609951817590761.0, 'dur': 304.93736267089844, 'ph': 'X', 'cname': 'detailed_memory_dump', 'args': {}}, {'cat': 'fetch_and_run_function', 'name': 'fetch_and_run_function', 'pid': '10.1.94.42', 'tid': 'worker:0579af9426fcfdbdb33e138f4263de7674181543', 'ts': 1609951817591815.5, 'dur': 310.1825714111328, 'ph': 'X', 'cname': 'detailed_memory_dump', 'args': {}}, {'cat': 'fetch_and_run_function', 'name': 'fetch_and_run_function', 'pid': '10.1.94.42', 'tid': 'worker:0579af9426fcfdbdb33e138f4263de7674181543', 'ts': 1609951817592136.5, 'dur': 245.80955505371094, 'ph': 'X', 'cname': 'detailed_memory_dump', 'args': {}}, {'cat': 'fetch_and_run_function', 'name': 'fetch_and_run_function', 'pid': '10.1.94.42', 'tid': 'worker:0579af9426fcfdbdb33e138f4263de7674181543', 'ts': 1609951817592769.5, 'dur': 288.96331787109375, 'ph': 'X', 'cname': 'detailed_memory_dump', 'args': {}}, {'cat': 'fetch_and_run_function', 'name': 'fetch_and_run_function', 'pid': '10.1.94.42', 'tid': 'worker:0579af9426fcfdbdb33e138f4263de7674181543', 'ts': 1609951817593068.0, 'dur': 277.0423889160156, 'ph': 'X', 'cname': 'detailed_memory_dump', 'args': {}}, {'cat': 'fetch_and_run_function', 'name': 'fetch_and_run_function', 'pid': '10.1.94.42', 'tid': 'worker:0579af9426fcfdbdb33e138f4263de7674181543', 'ts': 1609951817593356.0, 'dur': 207.1857452392578, 'ph': 'X', 'cname': 'detailed_memory_dump', 'args': {}}, {'cat': 'fetch_and_run_function', 'name': 'fetch_and_run_function', 'pid': '10.1.94.42', 'tid': 'worker:0579af9426fcfdbdb33e138f4263de7674181543', 'ts': 1609951817593570.2, 'dur': 184.05914306640625, 'ph': 'X', 'cname': 'detailed_memory_dump', 'args': {}}, {'cat': 'wait_for_function', 'name': 'wait_for_function', 'pid': '10.1.94.42', 'tid': 'worker:0579af9426fcfdbdb33e138f4263de7674181543', 'ts': 1609951817590302.2, 'dur': 3984.9281311035156, 'ph': 'X', 'cname': 'detailed_memory_dump', 'args': {}}, {'cat': 'task:deserialize_arguments', 'name': 'task:deserialize_arguments', 'pid': '10.1.94.42', 'tid': 'worker:0579af9426fcfdbdb33e138f4263de7674181543', 'ts': 1609951817594614.2, 'dur': 341.65382385253906, 'ph': 'X', 'cname': 'rail_load', 'args': {}}, {'cat': 'task:execute', 'name': 'task:execute', 'pid': '10.1.94.42', 'tid': 'worker:0579af9426fcfdbdb33e138f4263de7674181543', 'ts': 1609951817594961.8, 'dur': 300371.8852996826, 'ph': 'X', 'cname': 'rail_animation', 'args': {}}, {'cat': 'task:store_outputs', 'name': 'task:store_outputs', 'pid': '10.1.94.42', 'tid': 'worker:0579af9426fcfdbdb33e138f4263de7674181543', 'ts': 1609951817895357.5, 'dur': 290.87066650390625, 'ph': 'X', 'cname': 'rail_idle', 'args': {}}, {'cat': 'task', 'name': 'task', 'pid': '10.1.94.42', 'tid': 'worker:0579af9426fcfdbdb33e138f4263de7674181543', 'ts': 1609951817594324.8, 'dur': 301326.9901275635, 'ph': 'X', 'cname': 'rail_response', 'args': {}}, {'cat': 'task:deserialize_arguments', 'name': 'task:deserialize_arguments', 'pid': '10.1.94.42', 'tid': 'worker:0579af9426fcfdbdb33e138f4263de7674181543', 'ts': 1609951817901993.8, 'dur': 260.8299255371094, 'ph': 'X', 'cname': 'rail_load', 'args': {}}, {'cat': 'task:execute', 'name': 'task:execute', 'pid': '10.1.94.42', 'tid': 'worker:0579af9426fcfdbdb33e138f4263de7674181543', 'ts': 1609951817902260.0, 'dur': 300230.2646636963, 'ph': 'X', 'cname': 'rail_animation', 'args': {}}, {'cat': 'task:store_outputs', 'name': 'task:store_outputs', 'pid': '10.1.94.42', 'tid': 'worker:0579af9426fcfdbdb33e138f4263de7674181543', 'ts': 1609951818202507.8, 'dur': 132.56072998046875, 'ph': 'X', 'cname': 'rail_idle', 'args': {}}, {'cat': 'task', 'name': 'task', 'pid': '10.1.94.42', 'tid': 'worker:0579af9426fcfdbdb33e138f4263de7674181543', 'ts': 1609951817901966.8, 'dur': 300675.8689880371, 'ph': 'X', 'cname': 'rail_response', 'args': {}}, {'cat': 'task:deserialize_arguments', 'name': 'task:deserialize_arguments', 'pid': '10.1.94.42', 'tid': 'worker:0579af9426fcfdbdb33e138f4263de7674181543', 'ts': 1609951818204792.2, 'dur': 182.86705017089844, 'ph': 'X', 'cname': 'rail_load', 'args': {}}, {'cat': 'task:execute', 'name': 'task:execute', 'pid': '10.1.94.42', 'tid': 'worker:0579af9426fcfdbdb33e138f4263de7674181543', 'ts': 1609951818204978.8, 'dur': 300533.0562591553, 'ph': 'X', 'cname': 'rail_animation', 'args': {}}, {'cat': 'task:store_outputs', 'name': 'task:store_outputs', 'pid': '10.1.94.42', 'tid': 'worker:0579af9426fcfdbdb33e138f4263de7674181543', 'ts': 1609951818505531.0, 'dur': 148.29635620117188, 'ph': 'X', 'cname': 'rail_idle', 'args': {}}, {'cat': 'task', 'name': 'task', 'pid': '10.1.94.42', 'tid': 'worker:0579af9426fcfdbdb33e138f4263de7674181543', 'ts': 1609951818204772.8, 'dur': 300909.99603271484, 'ph': 'X', 'cname': 'rail_response', 'args': {}}, {'cat': 'task:deserialize_arguments', 'name': 'task:deserialize_arguments', 'pid': '10.1.94.42', 'tid': 'worker:0579af9426fcfdbdb33e138f4263de7674181543', 'ts': 1609951818509261.2, 'dur': 207.9010009765625, 'ph': 'X', 'cname': 'rail_load', 'args': {}}, {'cat': 'task:execute', 'name': 'task:execute', 'pid': '10.1.94.42', 'tid': 'worker:0579af9426fcfdbdb33e138f4263de7674181543', 'ts': 1609951819420376.5, 'dur': 300569.2958831787, 'ph': 'X', 'cname': 'rail_animation', 'args': {}}, {'cat': 'task:store_outputs', 'name': 'task:store_outputs', 'pid': '10.1.94.42', 'tid': 'worker:0579af9426fcfdbdb33e138f4263de7674181543', 'ts': 1609951819720970.5, 'dur': 171.42295837402344, 'ph': 'X', 'cname': 'rail_idle', 'args': {}}, {'cat': 'task', 'name': 'task', 'pid': '10.1.94.42', 'tid': 'worker:0579af9426fcfdbdb33e138f4263de7674181543', 'ts': 1609951819420151.2, 'dur': 300993.9193725586, 'ph': 'X', 'cname': 'rail_response', 'args': {}}, {'cat': 'fetch_and_run_function', 'name': 'fetch_and_run_function', 'pid': '10.1.94.42', 'tid': 'driver:04000000ffffffffffffffffffffffffffffffff', 'ts': 1609951817205042.0, 'dur': 931.0245513916016, 'ph': 'X', 'cname': 'detailed_memory_dump', 'args': {}}, {'cat': 'fetch_and_run_function', 'name': 'fetch_and_run_function', 'pid': '10.1.94.42', 'tid': 'driver:04000000ffffffffffffffffffffffffffffffff', 'ts': 1609951817205987.0, 'dur': 404.8347473144531, 'ph': 'X', 'cname': 'detailed_memory_dump', 'args': {}}, {'cat': 'submit_task', 'name': 'submit_task', 'pid': '10.1.94.42', 'tid': 'driver:04000000ffffffffffffffffffffffffffffffff', 'ts': 1609951817209514.2, 'dur': 623.4645843505859, 'ph': 'X', 'cname': 'background_memory_dump', 'args': {}}, {'cat': 'fetch_and_run_function', 'name': 'fetch_and_run_function', 'pid': '10.1.94.42', 'tid': 'driver:04000000ffffffffffffffffffffffffffffffff', 'ts': 1609951817209236.5, 'dur': 1213.5505676269531, 'ph': 'X', 'cname': 'detailed_memory_dump', 'args': {}}, {'cat': 'submit_task', 'name': 'submit_task', 'pid': '10.1.94.42', 'tid': 'driver:04000000ffffffffffffffffffffffffffffffff', 'ts': 1609951817210256.0, 'dur': 429.8686981201172, 'ph': 'X', 'cname': 'background_memory_dump', 'args': {}}, {'cat': 'fetch_and_run_function', 'name': 'fetch_and_run_function', 'pid': '10.1.94.42', 'tid': 'driver:04000000ffffffffffffffffffffffffffffffff', 'ts': 1609951817210465.0, 'dur': 505.20896911621094, 'ph': 'X', 'cname': 'detailed_memory_dump', 'args': {}}, {'cat': 'submit_task', 'name': 'submit_task', 'pid': '10.1.94.42', 'tid': 'driver:04000000ffffffffffffffffffffffffffffffff', 'ts': 1609951817210793.0, 'dur': 286.5791320800781, 'ph': 'X', 'cname': 'background_memory_dump', 'args': {}}, {'cat': 'submit_task', 'name': 'submit_task', 'pid': '10.1.94.42', 'tid': 'driver:04000000ffffffffffffffffffffffffffffffff', 'ts': 1609951817211223.0, 'dur': 2569.1986083984375, 'ph': 'X', 'cname': 'background_memory_dump', 'args': {}}, {'cat': 'submit_task', 'name': 'submit_task', 'pid': '10.1.94.42', 'tid': 'driver:04000000ffffffffffffffffffffffffffffffff', 'ts': 1609951817213927.0, 'dur': 183.10546875, 'ph': 'X', 'cname': 'background_memory_dump', 'args': {}}, {'cat': 'submit_task', 'name': 'submit_task', 'pid': '10.1.94.42', 'tid': 'driver:04000000ffffffffffffffffffffffffffffffff', 'ts': 1609951817214189.2, 'dur': 125.40817260742188, 'ph': 'X', 'cname': 'background_memory_dump', 'args': {}}, {'cat': 'submit_task', 'name': 'submit_task', 'pid': '10.1.94.42', 'tid': 'driver:04000000ffffffffffffffffffffffffffffffff', 'ts': 1609951817214383.2, 'dur': 658.5121154785156, 'ph': 'X', 'cname': 'background_memory_dump', 'args': {}}, {'cat': 'fetch_and_run_function', 'name': 'fetch_and_run_function', 'pid': '10.1.94.42', 'tid': 'driver:04000000ffffffffffffffffffffffffffffffff', 'ts': 1609951817216409.8, 'dur': 227.92816162109375, 'ph': 'X', 'cname': 'detailed_memory_dump', 'args': {}}, {'cat': 'fetch_and_run_function', 'name': 'fetch_and_run_function', 'pid': '10.1.94.42', 'tid': 'driver:04000000ffffffffffffffffffffffffffffffff', 'ts': 1609951817216650.8, 'dur': 187.15858459472656, 'ph': 'X', 'cname': 'detailed_memory_dump', 'args': {}}, {'cat': 'fetch_and_run_function', 'name': 'fetch_and_run_function', 'pid': '10.1.94.42', 'tid': 'driver:04000000ffffffffffffffffffffffffffffffff', 'ts': 1609951817216847.5, 'dur': 377.1781921386719, 'ph': 'X', 'cname': 'detailed_memory_dump', 'args': {}}, {'cat': 'fetch_and_run_function', 'name': 'fetch_and_run_function', 'pid': '10.1.94.42', 'tid': 'driver:04000000ffffffffffffffffffffffffffffffff', 'ts': 1609951817217860.0, 'dur': 313.04359436035156, 'ph': 'X', 'cname': 'detailed_memory_dump', 'args': {}}, {'cat': 'ray.get', 'name': 'ray.get', 'pid': '10.1.94.42', 'tid': 'driver:04000000ffffffffffffffffffffffffffffffff', 'ts': 1609951817215280.5, 'dur': 2508976.697921753, 'ph': 'X', 'cname': 'good', 'args': {}}, {'cat': 'fetch_and_run_function', 'name': 'fetch_and_run_function', 'pid': '10.1.94.42', 'tid': 'worker:41945bee4e3fb9d1ed3b68857ff61c398c2f877c', 'ts': 1609951834161160.5, 'dur': 337.83912658691406, 'ph': 'X', 'cname': 'detailed_memory_dump', 'args': {}}, {'cat': 'fetch_and_run_function', 'name': 'fetch_and_run_function', 'pid': '10.1.94.42', 'tid': 'worker:41945bee4e3fb9d1ed3b68857ff61c398c2f877c', 'ts': 1609951834161509.2, 'dur': 348.80638122558594, 'ph': 'X', 'cname': 'detailed_memory_dump', 'args': {}}, {'cat': 'fetch_and_run_function', 'name': 'fetch_and_run_function', 'pid': '10.1.94.42', 'tid': 'worker:41945bee4e3fb9d1ed3b68857ff61c398c2f877c', 'ts': 1609951834162303.5, 'dur': 296.59271240234375, 'ph': 'X', 'cname': 'detailed_memory_dump', 'args': {}}, {'cat': 'fetch_and_run_function', 'name': 'fetch_and_run_function', 'pid': '10.1.94.42', 'tid': 'worker:41945bee4e3fb9d1ed3b68857ff61c398c2f877c', 'ts': 1609951834162608.5, 'dur': 211.0004425048828, 'ph': 'X', 'cname': 'detailed_memory_dump', 'args': {}}, {'cat': 'fetch_and_run_function', 'name': 'fetch_and_run_function', 'pid': '10.1.94.42', 'tid': 'worker:41945bee4e3fb9d1ed3b68857ff61c398c2f877c', 'ts': 1609951834163246.5, 'dur': 220.5371856689453, 'ph': 'X', 'cname': 'detailed_memory_dump', 'args': {}}, {'cat': 'fetch_and_run_function', 'name': 'fetch_and_run_function', 'pid': '10.1.94.42', 'tid': 'worker:41945bee4e3fb9d1ed3b68857ff61c398c2f877c', 'ts': 1609951834163475.8, 'dur': 278.472900390625, 'ph': 'X', 'cname': 'detailed_memory_dump', 'args': {}}, {'cat': 'fetch_and_run_function', 'name': 'fetch_and_run_function', 'pid': '10.1.94.42', 'tid': 'worker:41945bee4e3fb9d1ed3b68857ff61c398c2f877c', 'ts': 1609951834163763.0, 'dur': 281.5723419189453, 'ph': 'X', 'cname': 'detailed_memory_dump', 'args': {}}, {'cat': 'fetch_and_run_function', 'name': 'fetch_and_run_function', 'pid': '10.1.94.42', 'tid': 'worker:41945bee4e3fb9d1ed3b68857ff61c398c2f877c', 'ts': 1609951834164053.0, 'dur': 235.08071899414062, 'ph': 'X', 'cname': 'detailed_memory_dump', 'args': {}}, {'cat': 'fetch_and_run_function', 'name': 'fetch_and_run_function', 'pid': '10.1.94.42', 'tid': 'worker:41945bee4e3fb9d1ed3b68857ff61c398c2f877c', 'ts': 1609951834164700.2, 'dur': 287.05596923828125, 'ph': 'X', 'cname': 'detailed_memory_dump', 'args': {}}, {'cat': 'fetch_and_run_function', 'name': 'fetch_and_run_function', 'pid': '10.1.94.42', 'tid': 'worker:41945bee4e3fb9d1ed3b68857ff61c398c2f877c', 'ts': 1609951834165000.0, 'dur': 230.0739288330078, 'ph': 'X', 'cname': 'detailed_memory_dump', 'args': {}}, {'cat': 'fetch_and_run_function', 'name': 'fetch_and_run_function', 'pid': '10.1.94.42', 'tid': 'worker:41945bee4e3fb9d1ed3b68857ff61c398c2f877c', 'ts': 1609951834165237.8, 'dur': 226.73606872558594, 'ph': 'X', 'cname': 'detailed_memory_dump', 'args': {}}, {'cat': 'fetch_and_run_function', 'name': 'fetch_and_run_function', 'pid': '10.1.94.42', 'tid': 'worker:41945bee4e3fb9d1ed3b68857ff61c398c2f877c', 'ts': 1609951834165472.5, 'dur': 211.47727966308594, 'ph': 'X', 'cname': 'detailed_memory_dump', 'args': {}}, {'cat': 'wait_for_function', 'name': 'wait_for_function', 'pid': '10.1.94.42', 'tid': 'worker:41945bee4e3fb9d1ed3b68857ff61c398c2f877c', 'ts': 1609951834160988.5, 'dur': 5120.754241943359, 'ph': 'X', 'cname': 'detailed_memory_dump', 'args': {}}, {'cat': 'task:deserialize_arguments', 'name': 'task:deserialize_arguments', 'pid': '10.1.94.42', 'tid': 'worker:41945bee4e3fb9d1ed3b68857ff61c398c2f877c', 'ts': 1609951834166556.5, 'dur': 325.4413604736328, 'ph': 'X', 'cname': 'rail_load', 'args': {}}, {'cat': 'task:execute', 'name': 'task:execute', 'pid': '10.1.94.42', 'tid': 'worker:41945bee4e3fb9d1ed3b68857ff61c398c2f877c', 'ts': 1609951834166885.5, 'dur': 300328.49311828613, 'ph': 'X', 'cname': 'rail_animation', 'args': {}}, {'cat': 'task:store_outputs', 'name': 'task:store_outputs', 'pid': '10.1.94.42', 'tid': 'worker:41945bee4e3fb9d1ed3b68857ff61c398c2f877c', 'ts': 1609951834467225.0, 'dur': 132.3223114013672, 'ph': 'X', 'cname': 'rail_idle', 'args': {}}, {'cat': 'task', 'name': 'task', 'pid': '10.1.94.42', 'tid': 'worker:41945bee4e3fb9d1ed3b68857ff61c398c2f877c', 'ts': 1609951834166157.0, 'dur': 301202.05879211426, 'ph': 'X', 'cname': 'rail_response', 'args': {}}, {'cat': 'task:deserialize_arguments', 'name': 'task:deserialize_arguments', 'pid': '10.1.94.42', 'tid': 'worker:41945bee4e3fb9d1ed3b68857ff61c398c2f877c', 'ts': 1609951834468198.0, 'dur': 144.48165893554688, 'ph': 'X', 'cname': 'rail_load', 'args': {}}, {'cat': 'task:execute', 'name': 'task:execute', 'pid': '10.1.94.42', 'tid': 'worker:41945bee4e3fb9d1ed3b68857ff61c398c2f877c', 'ts': 1609951834468345.0, 'dur': 300406.93283081055, 'ph': 'X', 'cname': 'rail_animation', 'args': {}}, {'cat': 'task:store_outputs', 'name': 'task:store_outputs', 'pid': '10.1.94.42', 'tid': 'worker:41945bee4e3fb9d1ed3b68857ff61c398c2f877c', 'ts': 1609951834768766.2, 'dur': 99.18212890625, 'ph': 'X', 'cname': 'rail_idle', 'args': {}}, {'cat': 'task', 'name': 'task', 'pid': '10.1.94.42', 'tid': 'worker:41945bee4e3fb9d1ed3b68857ff61c398c2f877c', 'ts': 1609951834468182.5, 'dur': 300684.45205688477, 'ph': 'X', 'cname': 'rail_response', 'args': {}}, {'cat': 'task:deserialize_arguments', 'name': 'task:deserialize_arguments', 'pid': '10.1.94.42', 'tid': 'worker:41945bee4e3fb9d1ed3b68857ff61c398c2f877c', 'ts': 1609951834770734.8, 'dur': 139.2364501953125, 'ph': 'X', 'cname': 'rail_load', 'args': {}}, {'cat': 'task:execute', 'name': 'task:execute', 'pid': '10.1.94.42', 'tid': 'worker:41945bee4e3fb9d1ed3b68857ff61c398c2f877c', 'ts': 1609951834770876.8, 'dur': 300404.0718078613, 'ph': 'X', 'cname': 'rail_animation', 'args': {}}, {'cat': 'task:store_outputs', 'name': 'task:store_outputs', 'pid': '10.1.94.42', 'tid': 'worker:41945bee4e3fb9d1ed3b68857ff61c398c2f877c', 'ts': 1609951835071299.5, 'dur': 159.5020294189453, 'ph': 'X', 'cname': 'rail_idle', 'args': {}}, {'cat': 'task', 'name': 'task', 'pid': '10.1.94.42', 'tid': 'worker:41945bee4e3fb9d1ed3b68857ff61c398c2f877c', 'ts': 1609951834770722.2, 'dur': 300740.71884155273, 'ph': 'X', 'cname': 'rail_response', 'args': {}}, {'cat': 'fetch_and_run_function', 'name': 'fetch_and_run_function', 'pid': '10.1.94.42', 'tid': 'worker:8031a5ca8953e7fb67a486309497387a9139541a', 'ts': 1609951834590843.2, 'dur': 365.7341003417969, 'ph': 'X', 'cname': 'detailed_memory_dump', 'args': {}}, {'cat': 'fetch_and_run_function', 'name': 'fetch_and_run_function', 'pid': '10.1.94.42', 'tid': 'worker:8031a5ca8953e7fb67a486309497387a9139541a', 'ts': 1609951834591221.0, 'dur': 235.08071899414062, 'ph': 'X', 'cname': 'detailed_memory_dump', 'args': {}}, {'cat': 'fetch_and_run_function', 'name': 'fetch_and_run_function', 'pid': '10.1.94.42', 'tid': 'worker:8031a5ca8953e7fb67a486309497387a9139541a', 'ts': 1609951834591849.8, 'dur': 270.3666687011719, 'ph': 'X', 'cname': 'detailed_memory_dump', 'args': {}}, {'cat': 'fetch_and_run_function', 'name': 'fetch_and_run_function', 'pid': '10.1.94.42', 'tid': 'worker:8031a5ca8953e7fb67a486309497387a9139541a', 'ts': 1609951834592129.8, 'dur': 196.4569091796875, 'ph': 'X', 'cname': 'detailed_memory_dump', 'args': {}}, {'cat': 'fetch_and_run_function', 'name': 'fetch_and_run_function', 'pid': '10.1.94.42', 'tid': 'worker:8031a5ca8953e7fb67a486309497387a9139541a', 'ts': 1609951834592659.2, 'dur': 230.0739288330078, 'ph': 'X', 'cname': 'detailed_memory_dump', 'args': {}}, {'cat': 'fetch_and_run_function', 'name': 'fetch_and_run_function', 'pid': '10.1.94.42', 'tid': 'worker:8031a5ca8953e7fb67a486309497387a9139541a', 'ts': 1609951834592918.0, 'dur': 244.37904357910156, 'ph': 'X', 'cname': 'detailed_memory_dump', 'args': {}}, {'cat': 'fetch_and_run_function', 'name': 'fetch_and_run_function', 'pid': '10.1.94.42', 'tid': 'worker:8031a5ca8953e7fb67a486309497387a9139541a', 'ts': 1609951834593169.8, 'dur': 230.31234741210938, 'ph': 'X', 'cname': 'detailed_memory_dump', 'args': {}}, {'cat': 'fetch_and_run_function', 'name': 'fetch_and_run_function', 'pid': '10.1.94.42', 'tid': 'worker:8031a5ca8953e7fb67a486309497387a9139541a', 'ts': 1609951834593427.2, 'dur': 233.8886260986328, 'ph': 'X', 'cname': 'detailed_memory_dump', 'args': {}}, {'cat': 'fetch_and_run_function', 'name': 'fetch_and_run_function', 'pid': '10.1.94.42', 'tid': 'worker:8031a5ca8953e7fb67a486309497387a9139541a', 'ts': 1609951834594049.5, 'dur': 218.1529998779297, 'ph': 'X', 'cname': 'detailed_memory_dump', 'args': {}}, {'cat': 'fetch_and_run_function', 'name': 'fetch_and_run_function', 'pid': '10.1.94.42', 'tid': 'worker:8031a5ca8953e7fb67a486309497387a9139541a', 'ts': 1609951834594299.0, 'dur': 261.06834411621094, 'ph': 'X', 'cname': 'detailed_memory_dump', 'args': {}}, {'cat': 'fetch_and_run_function', 'name': 'fetch_and_run_function', 'pid': '10.1.94.42', 'tid': 'worker:8031a5ca8953e7fb67a486309497387a9139541a', 'ts': 1609951834594567.8, 'dur': 219.82192993164062, 'ph': 'X', 'cname': 'detailed_memory_dump', 'args': {}}, {'cat': 'fetch_and_run_function', 'name': 'fetch_and_run_function', 'pid': '10.1.94.42', 'tid': 'worker:8031a5ca8953e7fb67a486309497387a9139541a', 'ts': 1609951834594794.5, 'dur': 217.437744140625, 'ph': 'X', 'cname': 'detailed_memory_dump', 'args': {}}, {'cat': 'wait_for_function', 'name': 'wait_for_function', 'pid': '10.1.94.42', 'tid': 'worker:8031a5ca8953e7fb67a486309497387a9139541a', 'ts': 1609951834590703.8, 'dur': 4876.852035522461, 'ph': 'X', 'cname': 'detailed_memory_dump', 'args': {}}, {'cat': 'task:deserialize_arguments', 'name': 'task:deserialize_arguments', 'pid': '10.1.94.42', 'tid': 'worker:8031a5ca8953e7fb67a486309497387a9139541a', 'ts': 1609951834595908.0, 'dur': 301.59950256347656, 'ph': 'X', 'cname': 'rail_load', 'args': {}}, {'cat': 'task:execute', 'name': 'task:execute', 'pid': '10.1.94.42', 'tid': 'worker:8031a5ca8953e7fb67a486309497387a9139541a', 'ts': 1609951834596214.2, 'dur': 300427.6752471924, 'ph': 'X', 'cname': 'rail_animation', 'args': {}}, {'cat': 'task:store_outputs', 'name': 'task:store_outputs', 'pid': '10.1.94.42', 'tid': 'worker:8031a5ca8953e7fb67a486309497387a9139541a', 'ts': 1609951834896655.2, 'dur': 121.11663818359375, 'ph': 'X', 'cname': 'rail_idle', 'args': {}}, {'cat': 'task', 'name': 'task', 'pid': '10.1.94.42', 'tid': 'worker:8031a5ca8953e7fb67a486309497387a9139541a', 'ts': 1609951834595610.8, 'dur': 301167.72651672363, 'ph': 'X', 'cname': 'rail_response', 'args': {}}, {'cat': 'task:deserialize_arguments', 'name': 'task:deserialize_arguments', 'pid': '10.1.94.42', 'tid': 'worker:8031a5ca8953e7fb67a486309497387a9139541a', 'ts': 1609951834898239.2, 'dur': 168.80035400390625, 'ph': 'X', 'cname': 'rail_load', 'args': {}}, {'cat': 'task:execute', 'name': 'task:execute', 'pid': '10.1.94.42', 'tid': 'worker:8031a5ca8953e7fb67a486309497387a9139541a', 'ts': 1609951834898411.5, 'dur': 300437.45040893555, 'ph': 'X', 'cname': 'rail_animation', 'args': {}}, {'cat': 'task:store_outputs', 'name': 'task:store_outputs', 'pid': '10.1.94.42', 'tid': 'worker:8031a5ca8953e7fb67a486309497387a9139541a', 'ts': 1609951835198866.2, 'dur': 142.81272888183594, 'ph': 'X', 'cname': 'rail_idle', 'args': {}}, {'cat': 'task', 'name': 'task', 'pid': '10.1.94.42', 'tid': 'worker:8031a5ca8953e7fb67a486309497387a9139541a', 'ts': 1609951834898225.0, 'dur': 300786.97204589844, 'ph': 'X', 'cname': 'rail_response', 'args': {}}, {'cat': 'task:deserialize_arguments', 'name': 'task:deserialize_arguments', 'pid': '10.1.94.42', 'tid': 'worker:8031a5ca8953e7fb67a486309497387a9139541a', 'ts': 1609951835201247.0, 'dur': 210.5236053466797, 'ph': 'X', 'cname': 'rail_load', 'args': {}}, {'cat': 'task:execute', 'name': 'task:execute', 'pid': '10.1.94.42', 'tid': 'worker:8031a5ca8953e7fb67a486309497387a9139541a', 'ts': 1609951835201461.8, 'dur': 300470.59059143066, 'ph': 'X', 'cname': 'rail_animation', 'args': {}}, {'cat': 'task:store_outputs', 'name': 'task:store_outputs', 'pid': '10.1.94.42', 'tid': 'worker:8031a5ca8953e7fb67a486309497387a9139541a', 'ts': 1609951835501950.0, 'dur': 129.22286987304688, 'ph': 'X', 'cname': 'rail_idle', 'args': {}}, {'cat': 'task', 'name': 'task', 'pid': '10.1.94.42', 'tid': 'worker:8031a5ca8953e7fb67a486309497387a9139541a', 'ts': 1609951835201229.5, 'dur': 300851.82189941406, 'ph': 'X', 'cname': 'rail_response', 'args': {}}, {'cat': 'fetch_and_run_function', 'name': 'fetch_and_run_function', 'pid': '10.1.94.42', 'tid': 'worker:68075ec27db26e8374735a2a725e7314f3b3d717', 'ts': 1609951834892597.2, 'dur': 375.50926208496094, 'ph': 'X', 'cname': 'detailed_memory_dump', 'args': {}}, {'cat': 'fetch_and_run_function', 'name': 'fetch_and_run_function', 'pid': '10.1.94.42', 'tid': 'worker:68075ec27db26e8374735a2a725e7314f3b3d717', 'ts': 1609951834892986.0, 'dur': 246.52481079101562, 'ph': 'X', 'cname': 'detailed_memory_dump', 'args': {}}, {'cat': 'fetch_and_run_function', 'name': 'fetch_and_run_function', 'pid': '10.1.94.42', 'tid': 'worker:68075ec27db26e8374735a2a725e7314f3b3d717', 'ts': 1609951834893675.0, 'dur': 183.10546875, 'ph': 'X', 'cname': 'detailed_memory_dump', 'args': {}}, {'cat': 'fetch_and_run_function', 'name': 'fetch_and_run_function', 'pid': '10.1.94.42', 'tid': 'worker:68075ec27db26e8374735a2a725e7314f3b3d717', 'ts': 1609951834893866.2, 'dur': 284.6717834472656, 'ph': 'X', 'cname': 'detailed_memory_dump', 'args': {}}, {'cat': 'fetch_and_run_function', 'name': 'fetch_and_run_function', 'pid': '10.1.94.42', 'tid': 'worker:68075ec27db26e8374735a2a725e7314f3b3d717', 'ts': 1609951834894656.0, 'dur': 195.02639770507812, 'ph': 'X', 'cname': 'detailed_memory_dump', 'args': {}}, {'cat': 'fetch_and_run_function', 'name': 'fetch_and_run_function', 'pid': '10.1.94.42', 'tid': 'worker:68075ec27db26e8374735a2a725e7314f3b3d717', 'ts': 1609951834894859.0, 'dur': 173.33030700683594, 'ph': 'X', 'cname': 'detailed_memory_dump', 'args': {}}, {'cat': 'fetch_and_run_function', 'name': 'fetch_and_run_function', 'pid': '10.1.94.42', 'tid': 'worker:68075ec27db26e8374735a2a725e7314f3b3d717', 'ts': 1609951834895038.2, 'dur': 253.20053100585938, 'ph': 'X', 'cname': 'detailed_memory_dump', 'args': {}}, {'cat': 'fetch_and_run_function', 'name': 'fetch_and_run_function', 'pid': '10.1.94.42', 'tid': 'worker:68075ec27db26e8374735a2a725e7314f3b3d717', 'ts': 1609951834895298.0, 'dur': 214.09988403320312, 'ph': 'X', 'cname': 'detailed_memory_dump', 'args': {}}, {'cat': 'fetch_and_run_function', 'name': 'fetch_and_run_function', 'pid': '10.1.94.42', 'tid': 'worker:68075ec27db26e8374735a2a725e7314f3b3d717', 'ts': 1609951834895832.2, 'dur': 183.58230590820312, 'ph': 'X', 'cname': 'detailed_memory_dump', 'args': {}}, {'cat': 'fetch_and_run_function', 'name': 'fetch_and_run_function', 'pid': '10.1.94.42', 'tid': 'worker:68075ec27db26e8374735a2a725e7314f3b3d717', 'ts': 1609951834896023.8, 'dur': 194.31114196777344, 'ph': 'X', 'cname': 'detailed_memory_dump', 'args': {}}, {'cat': 'fetch_and_run_function', 'name': 'fetch_and_run_function', 'pid': '10.1.94.42', 'tid': 'worker:68075ec27db26e8374735a2a725e7314f3b3d717', 'ts': 1609951834896225.5, 'dur': 195.7416534423828, 'ph': 'X', 'cname': 'detailed_memory_dump', 'args': {}}, {'cat': 'fetch_and_run_function', 'name': 'fetch_and_run_function', 'pid': '10.1.94.42', 'tid': 'worker:68075ec27db26e8374735a2a725e7314f3b3d717', 'ts': 1609951834896431.5, 'dur': 191.68853759765625, 'ph': 'X', 'cname': 'detailed_memory_dump', 'args': {}}, {'cat': 'fetch_and_run_function', 'name': 'fetch_and_run_function', 'pid': '10.1.94.42', 'tid': 'worker:d104f9c4049f0bbe02cb23ec679ef5d5a9f0bd7a', 'ts': 1609951801536710.2, 'dur': 691.1754608154297, 'ph': 'X', 'cname': 'detailed_memory_dump', 'args': {}}, {'cat': 'fetch_and_run_function', 'name': 'fetch_and_run_function', 'pid': '10.1.94.42', 'tid': 'worker:d104f9c4049f0bbe02cb23ec679ef5d5a9f0bd7a', 'ts': 1609951801537418.2, 'dur': 307.0831298828125, 'ph': 'X', 'cname': 'detailed_memory_dump', 'args': {}}, {'cat': 'fetch_and_run_function', 'name': 'fetch_and_run_function', 'pid': '10.1.94.42', 'tid': 'worker:d104f9c4049f0bbe02cb23ec679ef5d5a9f0bd7a', 'ts': 1609951801538126.8, 'dur': 202.65579223632812, 'ph': 'X', 'cname': 'detailed_memory_dump', 'args': {}}, {'cat': 'fetch_and_run_function', 'name': 'fetch_and_run_function', 'pid': '10.1.94.42', 'tid': 'worker:d104f9c4049f0bbe02cb23ec679ef5d5a9f0bd7a', 'ts': 1609951801538338.8, 'dur': 197.1721649169922, 'ph': 'X', 'cname': 'detailed_memory_dump', 'args': {}}, {'cat': 'wait_for_function', 'name': 'wait_for_function', 'pid': '10.1.94.42', 'tid': 'worker:d104f9c4049f0bbe02cb23ec679ef5d5a9f0bd7a', 'ts': 1609951801536381.8, 'dur': 2892.732620239258, 'ph': 'X', 'cname': 'detailed_memory_dump', 'args': {}}, {'cat': 'task:deserialize_arguments', 'name': 'task:deserialize_arguments', 'pid': '10.1.94.42', 'tid': 'worker:d104f9c4049f0bbe02cb23ec679ef5d5a9f0bd7a', 'ts': 1609951801539701.8, 'dur': 291.58592224121094, 'ph': 'X', 'cname': 'rail_load', 'args': {}}, {'cat': 'fetch_and_run_function', 'name': 'fetch_and_run_function', 'pid': '10.1.94.42', 'tid': 'worker:af52fab155bb6264d009eb04d53451f42371f723', 'ts': 1609951834492720.2, 'dur': 221.72927856445312, 'ph': 'X', 'cname': 'detailed_memory_dump', 'args': {}}, {'cat': 'fetch_and_run_function', 'name': 'fetch_and_run_function', 'pid': '10.1.94.42', 'tid': 'worker:af52fab155bb6264d009eb04d53451f42371f723', 'ts': 1609951834492948.0, 'dur': 160.45570373535156, 'ph': 'X', 'cname': 'detailed_memory_dump', 'args': {}}, {'cat': 'fetch_and_run_function', 'name': 'fetch_and_run_function', 'pid': '10.1.94.42', 'tid': 'worker:af52fab155bb6264d009eb04d53451f42371f723', 'ts': 1609951834493316.2, 'dur': 102.51998901367188, 'ph': 'X', 'cname': 'detailed_memory_dump', 'args': {}}, {'cat': 'fetch_and_run_function', 'name': 'fetch_and_run_function', 'pid': '10.1.94.42', 'tid': 'worker:af52fab155bb6264d009eb04d53451f42371f723', 'ts': 1609951834493422.8, 'dur': 97.99003601074219, 'ph': 'X', 'cname': 'detailed_memory_dump', 'args': {}}, {'cat': 'fetch_and_run_function', 'name': 'fetch_and_run_function', 'pid': '10.1.94.42', 'tid': 'worker:af52fab155bb6264d009eb04d53451f42371f723', 'ts': 1609951834493698.5, 'dur': 142.3358917236328, 'ph': 'X', 'cname': 'detailed_memory_dump', 'args': {}}, {'cat': 'fetch_and_run_function', 'name': 'fetch_and_run_function', 'pid': '10.1.94.42', 'tid': 'worker:af52fab155bb6264d009eb04d53451f42371f723', 'ts': 1609951834493845.8, 'dur': 102.28157043457031, 'ph': 'X', 'cname': 'detailed_memory_dump', 'args': {}}, {'cat': 'fetch_and_run_function', 'name': 'fetch_and_run_function', 'pid': '10.1.94.42', 'tid': 'worker:af52fab155bb6264d009eb04d53451f42371f723', 'ts': 1609951834493951.5, 'dur': 93.4600830078125, 'ph': 'X', 'cname': 'detailed_memory_dump', 'args': {}}, {'cat': 'fetch_and_run_function', 'name': 'fetch_and_run_function', 'pid': '10.1.94.42', 'tid': 'worker:af52fab155bb6264d009eb04d53451f42371f723', 'ts': 1609951834494048.2, 'dur': 90.83747863769531, 'ph': 'X', 'cname': 'detailed_memory_dump', 'args': {}}, {'cat': 'fetch_and_run_function', 'name': 'fetch_and_run_function', 'pid': '10.1.94.42', 'tid': 'worker:af52fab155bb6264d009eb04d53451f42371f723', 'ts': 1609951834494394.2, 'dur': 103.47366333007812, 'ph': 'X', 'cname': 'detailed_memory_dump', 'args': {}}, {'cat': 'fetch_and_run_function', 'name': 'fetch_and_run_function', 'pid': '10.1.94.42', 'tid': 'worker:af52fab155bb6264d009eb04d53451f42371f723', 'ts': 1609951834494502.0, 'dur': 95.367431640625, 'ph': 'X', 'cname': 'detailed_memory_dump', 'args': {}}, {'cat': 'fetch_and_run_function', 'name': 'fetch_and_run_function', 'pid': '10.1.94.42', 'tid': 'worker:af52fab155bb6264d009eb04d53451f42371f723', 'ts': 1609951834494600.8, 'dur': 92.50640869140625, 'ph': 'X', 'cname': 'detailed_memory_dump', 'args': {}}, {'cat': 'fetch_and_run_function', 'name': 'fetch_and_run_function', 'pid': '10.1.94.42', 'tid': 'worker:af52fab155bb6264d009eb04d53451f42371f723', 'ts': 1609951834494696.5, 'dur': 91.552734375, 'ph': 'X', 'cname': 'detailed_memory_dump', 'args': {}}, {'cat': 'wait_for_function', 'name': 'wait_for_function', 'pid': '10.1.94.42', 'tid': 'worker:af52fab155bb6264d009eb04d53451f42371f723', 'ts': 1609951834491516.5, 'dur': 4759.073257446289, 'ph': 'X', 'cname': 'detailed_memory_dump', 'args': {}}, {'cat': 'task:deserialize_arguments', 'name': 'task:deserialize_arguments', 'pid': '10.1.94.42', 'tid': 'worker:af52fab155bb6264d009eb04d53451f42371f723', 'ts': 1609951834496549.2, 'dur': 244.140625, 'ph': 'X', 'cname': 'rail_load', 'args': {}}, {'cat': 'task:execute', 'name': 'task:execute', 'pid': '10.1.94.42', 'tid': 'worker:af52fab155bb6264d009eb04d53451f42371f723', 'ts': 1609951834496796.2, 'dur': 300421.47636413574, 'ph': 'X', 'cname': 'rail_animation', 'args': {}}, {'cat': 'task:store_outputs', 'name': 'task:store_outputs', 'pid': '10.1.94.42', 'tid': 'worker:af52fab155bb6264d009eb04d53451f42371f723', 'ts': 1609951834797234.5, 'dur': 125.885009765625, 'ph': 'X', 'cname': 'rail_idle', 'args': {}}, {'cat': 'task', 'name': 'task', 'pid': '10.1.94.42', 'tid': 'worker:af52fab155bb6264d009eb04d53451f42371f723', 'ts': 1609951834496302.2, 'dur': 301060.43815612793, 'ph': 'X', 'cname': 'rail_response', 'args': {}}, {'cat': 'fetch_and_run_function', 'name': 'fetch_and_run_function', 'pid': '10.1.94.42', 'tid': 'worker:3c4ba14ea293a35e99a6fc9d1bfb9548a6b8b3a5', 'ts': 1609951801613559.0, 'dur': 236.98806762695312, 'ph': 'X', 'cname': 'detailed_memory_dump', 'args': {}}, {'cat': 'fetch_and_run_function', 'name': 'fetch_and_run_function', 'pid': '10.1.94.42', 'tid': 'worker:3c4ba14ea293a35e99a6fc9d1bfb9548a6b8b3a5', 'ts': 1609951801613805.2, 'dur': 164.98565673828125, 'ph': 'X', 'cname': 'detailed_memory_dump', 'args': {}}, {'cat': 'fetch_and_run_function', 'name': 'fetch_and_run_function', 'pid': '10.1.94.42', 'tid': 'worker:3c4ba14ea293a35e99a6fc9d1bfb9548a6b8b3a5', 'ts': 1609951801614318.8, 'dur': 151.8726348876953, 'ph': 'X', 'cname': 'detailed_memory_dump', 'args': {}}, {'cat': 'fetch_and_run_function', 'name': 'fetch_and_run_function', 'pid': '10.1.94.42', 'tid': 'worker:3c4ba14ea293a35e99a6fc9d1bfb9548a6b8b3a5', 'ts': 1609951801614477.0, 'dur': 147.81951904296875, 'ph': 'X', 'cname': 'detailed_memory_dump', 'args': {}}, {'cat': 'wait_for_function', 'name': 'wait_for_function', 'pid': '10.1.94.42', 'tid': 'worker:3c4ba14ea293a35e99a6fc9d1bfb9548a6b8b3a5', 'ts': 1609951801612916.0, 'dur': 2263.5459899902344, 'ph': 'X', 'cname': 'detailed_memory_dump', 'args': {}}, {'cat': 'task:deserialize_arguments', 'name': 'task:deserialize_arguments', 'pid': '10.1.94.42', 'tid': 'worker:3c4ba14ea293a35e99a6fc9d1bfb9548a6b8b3a5', 'ts': 1609951801615449.2, 'dur': 218.1529998779297, 'ph': 'X', 'cname': 'rail_load', 'args': {}}, {'cat': 'fetch_and_run_function', 'name': 'fetch_and_run_function', 'pid': '10.1.94.42', 'tid': 'worker:da8c077d18c37e62934f2d2f3cf066ad6f4aa729', 'ts': 1609951801591335.5, 'dur': 294.4469451904297, 'ph': 'X', 'cname': 'detailed_memory_dump', 'args': {}}, {'cat': 'fetch_and_run_function', 'name': 'fetch_and_run_function', 'pid': '10.1.94.42', 'tid': 'worker:da8c077d18c37e62934f2d2f3cf066ad6f4aa729', 'ts': 1609951801591640.0, 'dur': 204.8015594482422, 'ph': 'X', 'cname': 'detailed_memory_dump', 'args': {}}, {'cat': 'fetch_and_run_function', 'name': 'fetch_and_run_function', 'pid': '10.1.94.42', 'tid': 'worker:da8c077d18c37e62934f2d2f3cf066ad6f4aa729', 'ts': 1609951801592958.2, 'dur': 223.63662719726562, 'ph': 'X', 'cname': 'detailed_memory_dump', 'args': {}}, {'cat': 'fetch_and_run_function', 'name': 'fetch_and_run_function', 'pid': '10.1.94.42', 'tid': 'worker:da8c077d18c37e62934f2d2f3cf066ad6f4aa729', 'ts': 1609951801593190.8, 'dur': 198.12583923339844, 'ph': 'X', 'cname': 'detailed_memory_dump', 'args': {}}, {'cat': 'wait_for_function', 'name': 'wait_for_function', 'pid': '10.1.94.42', 'tid': 'worker:da8c077d18c37e62934f2d2f3cf066ad6f4aa729', 'ts': 1609951801592149.5, 'dur': 2249.2408752441406, 'ph': 'X', 'cname': 'detailed_memory_dump', 'args': {}}, {'cat': 'task:deserialize_arguments', 'name': 'task:deserialize_arguments', 'pid': '10.1.94.42', 'tid': 'worker:da8c077d18c37e62934f2d2f3cf066ad6f4aa729', 'ts': 1609951801594718.8, 'dur': 245.57113647460938, 'ph': 'X', 'cname': 'rail_load', 'args': {}}]\n"
     ]
    }
   ],
   "source": [
    "ray.timeline()"
   ]
  },
  {
   "cell_type": "markdown",
   "metadata": {},
   "source": [
    "**EXERCISE:** Run the cell below and verify that `reduce_parallel_tree` runs instantaneously and that fetching the result takes the expected amount of time.\n",
    "\n",
    "Each task takes 0.3 seconds, so both `reduce_serial` and `reduce_parallel` should take `8 * 0.3 = 2.4` seconds. The tree should have depth 3, so `reduce_parallel_tree` should take about `3 * 0.3 = 0.9` seconds."
   ]
  },
  {
   "cell_type": "code",
   "execution_count": 15,
   "metadata": {
    "workflow": {
     "step": {
      "in": [
       "add_regular",
       "reduce_serial",
       "reduce_parallel",
       "reduce_parallel_tree",
       {
        "name": "ray",
        "serializer": "ray",
        "type": "name"
       },
       {
        "name": "add_remote",
        "serializer": {
         "postload": "import ray;\noriginal_function = add_remote._function\noriginal_function.__module__ = '__main__'\nadd_remote = ray.remote(original_function)"
        },
        "type": "name"
       }
      ]
     },
     "target": {
      "model": "ray",
      "service": "ray-head"
     }
    }
   },
   "outputs": [
    {
     "name": "stdout",
     "output_type": "stream",
     "text": [
      "reduce_serial:\n",
      "CPU times: user 78.5 ms, sys: 27.3 ms, total: 106 ms\n",
      "Wall time: 2.1 s\n",
      "\n",
      "calling reduce_parallel:\n",
      "CPU times: user 1.6 ms, sys: 3.61 ms, total: 5.22 ms\n",
      "Wall time: 4.77 ms\n",
      "\n",
      "getting results from reduce_parallel:\n",
      "CPU times: user 111 ms, sys: 24.1 ms, total: 135 ms\n",
      "Wall time: 2.5 s\n",
      "\n",
      "calling reduce_parallel_tree:\n",
      "CPU times: user 3.31 ms, sys: 718 us, total: 4.03 ms\n",
      "Wall time: 4.28 ms\n",
      "\n",
      "getting results from reduce_parallel_tree:\n",
      "CPU times: user 58.3 ms, sys: 22.9 ms, total: 81.3 ms\n",
      "Wall time: 1.52 s\n"
     ]
    }
   ],
   "source": [
    "# Regular sleep should take 4 seconds.\n",
    "print('reduce_serial:')\n",
    "%time results_serial = reduce_serial(add_regular, [1, 2, 3, 4, 5, 6, 7, 8])\n",
    "\n",
    "# Initiating the map_parallel should be instantaneous.\n",
    "print('\\ncalling reduce_parallel:')\n",
    "%time result_ids = reduce_parallel(add_remote, [1, 2, 3, 4, 5, 6, 7, 8])\n",
    "\n",
    "# Fetching the results from map_parallel should take 1 second\n",
    "# (since we started Ray with num_cpus=4).\n",
    "print('\\ngetting results from reduce_parallel:')\n",
    "%time results_parallel = ray.get(result_ids)\n",
    "\n",
    "assert results_parallel == results_serial\n",
    "\n",
    "# Initiating the map_parallel should be instantaneous.\n",
    "print('\\ncalling reduce_parallel_tree:')\n",
    "%time result_tree_ids = reduce_parallel_tree(add_remote, [1, 2, 3, 4, 5, 6, 7, 8])\n",
    "\n",
    "# Fetching the results from map_parallel should take 1 second\n",
    "# (since we started Ray with num_cpus=4).\n",
    "print('\\ngetting results from reduce_parallel_tree:')\n",
    "%time results_parallel_tree = ray.get(result_tree_ids)\n",
    "\n",
    "assert results_parallel_tree == results_serial"
   ]
  }
 ],
 "metadata": {
  "celltoolbar": "Edit Metadata",
  "kernelspec": {
   "display_name": "Jupyter Workflow",
   "language": "python",
   "name": "jupyter-workflow"
  },
  "language_info": {
   "codemirror_mode": {
    "name": "ipython",
    "version": 3
   },
   "file_extension": ".py",
   "mimetype": "text/x-python",
   "name": "python",
   "nbconvert_exporter": "python",
   "pygments_lexer": "ipython3",
   "version": "3.8.5"
  },
  "workflow": {
   "models": {
    "ray": {
     "config": {
      "chart": "helm/ray",
      "namespace": "ray",
      "releaseName": "ray"
     },
     "type": "helm"
    }
   },
   "serializers": {
    "ray": {
     "postload": "if not ray.is_initialized():\n\tray.init('auto')"
    }
   },
   "version": "v1.0"
  }
 },
 "nbformat": 4,
 "nbformat_minor": 2
}