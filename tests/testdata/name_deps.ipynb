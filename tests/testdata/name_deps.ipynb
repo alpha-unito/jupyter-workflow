{
 "cells": [
  {
   "cell_type": "code",
   "execution_count": null,
   "id": "cfac07ed",
   "metadata": {
    "tags": [
     "single_explicit_input_dep"
    ],
    "workflow": {
     "step": {
      "autoin": true,
      "background": false,
      "in": [
       {
        "name": "a",
        "type": "name",
        "valueFrom": "a"
       }
      ],
      "out": []
     },
     "version": "v1.0"
    }
   },
   "outputs": [],
   "source": [
    "# single_explicit_input_dep\n",
    "print(a + 1)"
   ]
  },
  {
   "cell_type": "code",
   "execution_count": null,
   "id": "629a2b62",
   "metadata": {
    "tags": [
     "single_implicit_input_dep"
    ],
    "workflow": {
     "step": {
      "autoin": true,
      "background": false,
      "in": [],
      "out": []
     },
     "version": "v1.0"
    }
   },
   "outputs": [],
   "source": [
    "# single_implicit_input_dep\n",
    "print(a + 1)"
   ]
  },
  {
   "cell_type": "code",
   "execution_count": null,
   "id": "63eaaedc",
   "metadata": {
    "tags": [
     "interactive_execution"
    ],
    "workflow": {
     "step": {
      "autoin": true,
      "background": false,
      "in": [],
      "out": []
     },
     "version": "v1.0"
    }
   },
   "outputs": [],
   "source": [
    "# interactive_execution\n",
    "a + 1"
   ]
  },
  {
   "cell_type": "code",
   "execution_count": null,
   "id": "854746a9",
   "metadata": {
    "tags": [
     "list_input_dep"
    ],
    "workflow": {
     "step": {
      "autoin": true,
      "background": false,
      "in": [],
      "out": []
     },
     "version": "v1.0"
    }
   },
   "outputs": [],
   "source": [
    "# list_input_dep\n",
    "[i + 1 for i in a]"
   ]
  },
  {
   "cell_type": "code",
   "execution_count": null,
   "id": "5a2bb81c",
   "metadata": {
    "tags": [
     "multiple_input_deps"
    ],
    "workflow": {
     "step": {
      "autoin": true,
      "background": false,
      "in": [
       {
        "name": "a",
        "type": "name",
        "valueFrom": "a"
       }
      ],
      "out": []
     },
     "version": "v1.0"
    }
   },
   "outputs": [],
   "source": [
    "# multiple_input_deps\n",
    "for i in a:\n",
    "    for j in b:\n",
    "        print(i + j)"
   ]
  }
 ],
 "metadata": {
  "celltoolbar": "Edit Workflow Step",
  "kernelspec": {
   "display_name": "Jupyter Workflow",
   "language": "python",
   "name": "jupyter-workflow"
  },
  "language_info": {
   "codemirror_mode": {
    "name": "ipython",
    "version": 3
   },
   "file_extension": ".py",
   "mimetype": "text/x-python",
   "name": "python",
   "nbconvert_exporter": "python",
   "pygments_lexer": "ipython3",
   "version": "3.10.6"
  }
 },
 "nbformat": 4,
 "nbformat_minor": 5
}
