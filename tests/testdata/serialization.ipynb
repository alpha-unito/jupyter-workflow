{
 "cells": [
  {
   "cell_type": "code",
   "execution_count": null,
   "id": "c4c26d05-0e55-474e-a345-698e0af7dfee",
   "metadata": {
    "tags": [
     "input_predump_serializer"
    ],
    "workflow": {
     "serializers": {
      "predump": {
       "predump": "y = f'Predumped {x}'"
      }
     },
     "step": {
      "in": [
       {
        "name": "a",
        "serializer": "predump",
        "type": "name"
       }
      ],
      "out": [
       {
        "name": "a",
        "type": "name"
       }
      ]
     },
     "version": "v1.0"
    }
   },
   "outputs": [],
   "source": [
    "a"
   ]
  },
  {
   "cell_type": "code",
   "execution_count": null,
   "id": "7dc6b908-3a8c-4a8f-a066-af8f8fc044c0",
   "metadata": {
    "tags": [
     "input_postload_serializer"
    ],
    "workflow": {
     "serializers": {
      "postload": {
       "postload": "y = f'Postloaded {x}'"
      }
     },
     "step": {
      "in": [
       {
        "name": "a",
        "serializer": "postload",
        "type": "name"
       }
      ],
      "out": [
       {
        "name": "a",
        "type": "name"
       }
      ]
     },
     "version": "v1.0"
    }
   },
   "outputs": [],
   "source": [
    "a"
   ]
  },
  {
   "cell_type": "code",
   "execution_count": null,
   "id": "9410a2bd-463b-41a0-91cb-7c9e326223f8",
   "metadata": {
    "tags": [
     "output_predump_serializer"
    ],
    "workflow": {
     "serializers": {
      "predump": {
       "predump": "y = f'Predumped {x}'"
      }
     },
     "step": {
      "in": [
       {
        "name": "a",
        "type": "name"
       }
      ],
      "out": [
       {
        "name": "a",
        "serializer": "predump",
        "type": "name"
       }
      ]
     },
     "version": "v1.0"
    }
   },
   "outputs": [],
   "source": [
    "a"
   ]
  },
  {
   "cell_type": "code",
   "execution_count": null,
   "id": "7c12169e-01f5-4cc5-9d3b-15a965783dd6",
   "metadata": {
    "tags": [
     "output_postload_serializer"
    ],
    "workflow": {
     "serializers": {
      "postload": {
       "postload": "y = f'Postloaded {x}'"
      }
     },
     "step": {
      "in": [
       {
        "name": "a",
        "type": "name"
       }
      ],
      "out": [
       {
        "name": "a",
        "serializer": "postload",
        "type": "name"
       }
      ]
     },
     "version": "v1.0"
    }
   },
   "outputs": [],
   "source": [
    "a"
   ]
  }
 ],
 "metadata": {
  "kernelspec": {
   "display_name": "Jupyter Workflow",
   "language": "python",
   "name": "jupyter-workflow"
  },
  "language_info": {
   "codemirror_mode": {
    "name": "ipython",
    "version": 3
   },
   "file_extension": ".py",
   "mimetype": "text/x-python",
   "name": "python",
   "nbconvert_exporter": "python",
   "pygments_lexer": "ipython3",
   "version": "3.12.10"
  }
 },
 "nbformat": 4,
 "nbformat_minor": 5
}
