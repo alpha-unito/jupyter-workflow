{
 "cells": [
  {
   "cell_type": "code",
   "execution_count": null,
   "id": "a3971256",
   "metadata": {
    "tags": [
     "scatter_input_dep"
    ],
    "workflow": {
     "step": {
      "autoin": true,
      "background": false,
      "in": [],
      "out": [],
      "scatter": {
       "items": [
        "a"
       ]
      }
     },
     "version": "v1.0"
    }
   },
   "outputs": [],
   "source": [
    "# scatter_input_dep\n",
    "[i + 1 for i in a]"
   ]
  },
  {
   "cell_type": "code",
   "execution_count": null,
   "id": "4aacc900",
   "metadata": {
    "tags": [
     "scatter_input_dep_size"
    ],
    "workflow": {
     "step": {
      "autoin": true,
      "background": false,
      "in": [],
      "out": [],
      "scatter": {
       "items": [
        {
         "name": "a",
         "size": 3
        }
       ]
      }
     },
     "version": "v1.0"
    }
   },
   "outputs": [],
   "source": [
    "# scatter_input_dep_size\n",
    "[i + 1 for i in a]"
   ]
  },
  {
   "cell_type": "code",
   "execution_count": null,
   "id": "8061229a",
   "metadata": {
    "tags": [
     "scatter_input_dep_num"
    ],
    "workflow": {
     "step": {
      "autoin": true,
      "background": false,
      "in": [],
      "out": [],
      "scatter": {
       "items": [
        {
         "name": "a",
         "num": 3
        }
       ]
      }
     },
     "version": "v1.0"
    }
   },
   "outputs": [],
   "source": [
    "# scatter_input_dep_num\n",
    "[i + 1 for i in a]"
   ]
  },
  {
   "cell_type": "code",
   "execution_count": null,
   "id": "86f10e90",
   "metadata": {
    "tags": [
     "scatter_input_deps_default"
    ],
    "workflow": {
     "step": {
      "autoin": true,
      "background": false,
      "in": [],
      "out": [],
      "scatter": {
       "items": [
        "a",
        "b"
       ]
      }
     },
     "version": "v1.0"
    }
   },
   "outputs": [],
   "source": [
    "# scatter_input_deps_default\n",
    "for i in a:\n",
    "    for j in b:\n",
    "        print(i + j)"
   ]
  },
  {
   "cell_type": "code",
   "execution_count": null,
   "id": "192bcf57",
   "metadata": {
    "tags": [
     "mixed_input_deps"
    ],
    "workflow": {
     "step": {
      "autoin": true,
      "background": false,
      "in": [],
      "out": [],
      "scatter": {
       "items": [
        "a"
       ]
      }
     },
     "version": "v1.0"
    }
   },
   "outputs": [],
   "source": [
    "# mixed_input_deps\n",
    "for i in a:\n",
    "    for j in b:\n",
    "        print(i + j)"
   ]
  },
  {
   "cell_type": "code",
   "execution_count": null,
   "id": "55da4c75",
   "metadata": {
    "tags": [
     "scatter_input_deps_cartesian"
    ],
    "workflow": {
     "step": {
      "autoin": true,
      "background": false,
      "in": [],
      "out": [],
      "scatter": {
       "items": [
        "a",
        "b"
       ],
       "method": "cartesian"
      }
     },
     "version": "v1.0"
    }
   },
   "outputs": [],
   "source": [
    "# scatter_input_deps_cartesian\n",
    "for i in a:\n",
    "    for j in b:\n",
    "        print(i + j)"
   ]
  },
  {
   "cell_type": "code",
   "execution_count": null,
   "id": "eaa48bad",
   "metadata": {
    "tags": [
     "scatter_input_deps_dotproduct"
    ],
    "workflow": {
     "step": {
      "autoin": true,
      "background": false,
      "in": [],
      "out": [],
      "scatter": {
       "items": [
        "a",
        "b"
       ],
       "method": "dotproduct"
      }
     },
     "version": "v1.0"
    }
   },
   "outputs": [],
   "source": [
    "# scatter_input_deps_dotproduct\n",
    "for i in a:\n",
    "    for j in b:\n",
    "        print(i + j)"
   ]
  }
 ],
 "metadata": {
  "celltoolbar": "Edit Workflow Step",
  "kernelspec": {
   "display_name": "Jupyter Workflow",
   "language": "python",
   "name": "jupyter-workflow"
  },
  "language_info": {
   "codemirror_mode": {
    "name": "ipython",
    "version": 3
   },
   "file_extension": ".py",
   "mimetype": "text/x-python",
   "name": "python",
   "nbconvert_exporter": "python",
   "pygments_lexer": "ipython3",
   "version": "3.10.6"
  }
 },
 "nbformat": 4,
 "nbformat_minor": 5
}
