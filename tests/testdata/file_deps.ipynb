{
 "cells": [
  {
   "cell_type": "code",
   "execution_count": null,
   "id": "4582ed9d",
   "metadata": {
    "tags": [
     "file_input"
    ],
    "workflow": {
     "step": {
      "autoin": true,
      "background": false,
      "in": [
       {
        "name": "input_file",
        "type": "file",
        "valueFrom": "input_file"
       }
      ],
      "out": []
     },
     "version": "v1.0"
    }
   },
   "outputs": [],
   "source": [
    "# file_input\n",
    "with open(input_file) as f:\n",
    "    content = f.read()\n",
    "content"
   ]
  },
  {
   "cell_type": "code",
   "execution_count": null,
   "id": "45e2535b",
   "metadata": {
    "tags": [
     "file_output_value"
    ],
    "workflow": {
     "step": {
      "autoin": true,
      "background": false,
      "in": [
       {
        "name": "input_file",
        "type": "file",
        "valueFrom": "input_file"
       }
      ],
      "out": [
       {
        "name": "output_file",
        "type": "file",
        "value": "out.txt"
       }
      ]
     },
     "version": "v1.0"
    }
   },
   "outputs": [],
   "source": [
    "# file_output_value\n",
    "with open(input_file) as f:\n",
    "    content = f.read()\n",
    "output_file = \"out.txt\"\n",
    "with open(output_file, \"w\") as f:\n",
    "    f.write(content)"
   ]
  },
  {
   "cell_type": "code",
   "execution_count": null,
   "id": "8de9eebb",
   "metadata": {
    "tags": [
     "file_output_value_from"
    ],
    "workflow": {
     "step": {
      "autoin": true,
      "background": false,
      "in": [
       {
        "name": "input_file",
        "type": "file",
        "valueFrom": "input_file"
       }
      ],
      "out": [
       {
        "name": "output_file",
        "type": "file",
        "valueFrom": "output_file"
       }
      ]
     },
     "version": "v1.0"
    }
   },
   "outputs": [],
   "source": [
    "# file_output_value_from\n",
    "with open(input_file) as f:\n",
    "    content = f.read()\n",
    "output_file = \"out.txt\"\n",
    "with open(output_file, \"w\") as f:\n",
    "    f.write(content)"
   ]
  }
 ],
 "metadata": {
  "celltoolbar": "Edit Workflow Step",
  "kernelspec": {
   "display_name": "Jupyter Workflow",
   "language": "python",
   "name": "jupyter-workflow"
  },
  "language_info": {
   "codemirror_mode": {
    "name": "ipython",
    "version": 3
   },
   "file_extension": ".py",
   "mimetype": "text/x-python",
   "name": "python",
   "nbconvert_exporter": "python",
   "pygments_lexer": "ipython3",
   "version": "3.10.6"
  }
 },
 "nbformat": 4,
 "nbformat_minor": 5
}
