{
 "cells": [
  {
   "cell_type": "code",
   "execution_count": null,
   "id": "af9b2b18",
   "metadata": {
    "workflow": {
     "step": {
      "autoin": true,
      "background": false,
      "in": [],
      "out": [
       {
        "name": "a",
        "type": "name",
        "valueFrom": "a"
       }
      ]
     },
     "version": "v1.0"
    }
   },
   "outputs": [],
   "source": [
    "a = [1, 2, 3, 4]"
   ]
  },
  {
   "cell_type": "code",
   "execution_count": null,
   "id": "636f0fcd",
   "metadata": {
    "workflow": {
     "step": {
      "autoin": true,
      "background": false,
      "in": [],
      "out": [
       {
        "name": "a",
        "type": "name",
        "valueFrom": "a"
       }
      ],
      "scatter": {
       "items": [
        "a"
       ]
      }
     },
     "version": "v1.0"
    }
   },
   "outputs": [],
   "source": [
    "a = [i + 1 for i in a]"
   ]
  },
  {
   "cell_type": "code",
   "execution_count": null,
   "id": "df252cb4",
   "metadata": {
    "workflow": {
     "step": {
      "autoin": true,
      "background": false,
      "in": [],
      "out": [
       {
        "name": "a",
        "type": "name",
        "valueFrom": "a"
       }
      ],
      "scatter": {
       "items": [
        "a"
       ]
      }
     },
     "version": "v1.0"
    }
   },
   "outputs": [],
   "source": [
    "a = [i + 1 for i in a]"
   ]
  },
  {
   "cell_type": "code",
   "execution_count": null,
   "id": "a947f0f3",
   "metadata": {
    "workflow": {
     "step": {
      "autoin": true,
      "background": false,
      "in": [],
      "out": [],
      "scatter": {
       "items": [
        "a"
       ]
      }
     },
     "version": "v1.0"
    }
   },
   "outputs": [],
   "source": [
    "[i + 1 for i in a]"
   ]
  }
 ],
 "metadata": {
  "kernelspec": {
   "display_name": "Jupyter Workflow",
   "language": "python",
   "name": "jupyter-workflow"
  },
  "language_info": {
   "codemirror_mode": {
    "name": "ipython",
    "version": 3
   },
   "file_extension": ".py",
   "mimetype": "text/x-python",
   "name": "python",
   "nbconvert_exporter": "python",
   "pygments_lexer": "ipython3",
   "version": "3.10.6"
  }
 },
 "nbformat": 4,
 "nbformat_minor": 5
}
