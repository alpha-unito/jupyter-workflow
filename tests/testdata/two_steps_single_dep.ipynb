{
 "cells": [
  {
   "cell_type": "code",
   "execution_count": null,
   "id": "636f0fcd",
   "metadata": {
    "workflow": {
     "step": {
      "autoin": true,
      "background": false,
      "in": [],
      "out": [
       {
        "name": "a",
        "type": "name",
        "valueFrom": "a"
       }
      ]
     },
     "version": "v1.0"
    }
   },
   "outputs": [],
   "source": [
    "a = 1"
   ]
  },
  {
   "cell_type": "code",
   "execution_count": null,
   "id": "df252cb4",
   "metadata": {
    "workflow": {
     "step": {
      "autoin": true,
      "background": false,
      "in": [],
      "out": []
     },
     "version": "v1.0"
    }
   },
   "outputs": [],
   "source": [
    "print(a + 1)"
   ]
  }
 ],
 "metadata": {
  "kernelspec": {
   "display_name": "Jupyter Workflow",
   "language": "python",
   "name": "jupyter-workflow"
  },
  "language_info": {
   "codemirror_mode": {
    "name": "ipython",
    "version": 3
   },
   "file_extension": ".py",
   "mimetype": "text/x-python",
   "name": "python",
   "nbconvert_exporter": "python",
   "pygments_lexer": "ipython3",
   "version": "3.10.6"
  }
 },
 "nbformat": 4,
 "nbformat_minor": 5
}
